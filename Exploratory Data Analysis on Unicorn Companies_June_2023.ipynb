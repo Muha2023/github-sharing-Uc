{
 "cells": [
  {
   "cell_type": "code",
   "execution_count": 37,
   "id": "cd47cbd1",
   "metadata": {},
   "outputs": [],
   "source": [
    "# import the necessary libraries\n",
    "import numpy as np\n",
    "import pandas as pd\n",
    "import scipy.stats as stats\n",
    "import re\n",
    "import sys\n",
    "import datetime\n",
    "# import pandoc\n",
    " \n",
    "\n",
    "\n",
    "# for visusal\n",
    "import seaborn as sns\n",
    "import matplotlib.pyplot as plt\n",
    "import plotly\n",
    "import plotly.express as px\n",
    "from matplotlib.pyplot import figure\n",
    "import plotly.graph_objects as go\n",
    "import matplotlib.colors as mcolors\n",
    "\n",
    "\n",
    "%matplotlib inline"
   ]
  },
  {
   "cell_type": "code",
   "execution_count": 38,
   "id": "87d1d35d",
   "metadata": {
    "scrolled": false
   },
   "outputs": [
    {
     "data": {
      "text/html": [
       "<div>\n",
       "<style scoped>\n",
       "    .dataframe tbody tr th:only-of-type {\n",
       "        vertical-align: middle;\n",
       "    }\n",
       "\n",
       "    .dataframe tbody tr th {\n",
       "        vertical-align: top;\n",
       "    }\n",
       "\n",
       "    .dataframe thead th {\n",
       "        text-align: right;\n",
       "    }\n",
       "</style>\n",
       "<table border=\"1\" class=\"dataframe\">\n",
       "  <thead>\n",
       "    <tr style=\"text-align: right;\">\n",
       "      <th></th>\n",
       "      <th>Company</th>\n",
       "      <th>Valuation</th>\n",
       "      <th>Date Joined</th>\n",
       "      <th>Industry</th>\n",
       "      <th>City</th>\n",
       "      <th>Country</th>\n",
       "      <th>Continent</th>\n",
       "      <th>Year Founded</th>\n",
       "      <th>Funding</th>\n",
       "      <th>Select Investors</th>\n",
       "    </tr>\n",
       "  </thead>\n",
       "  <tbody>\n",
       "    <tr>\n",
       "      <th>0</th>\n",
       "      <td>Bytedance</td>\n",
       "      <td>$180B</td>\n",
       "      <td>4/7/2017</td>\n",
       "      <td>Artificial intelligence</td>\n",
       "      <td>Beijing</td>\n",
       "      <td>China</td>\n",
       "      <td>Asia</td>\n",
       "      <td>2012</td>\n",
       "      <td>$8B</td>\n",
       "      <td>Sequoia Capital China, SIG Asia Investments, S...</td>\n",
       "    </tr>\n",
       "    <tr>\n",
       "      <th>1</th>\n",
       "      <td>SpaceX</td>\n",
       "      <td>$100B</td>\n",
       "      <td>12/1/2012</td>\n",
       "      <td>Other</td>\n",
       "      <td>Hawthorne</td>\n",
       "      <td>United States</td>\n",
       "      <td>North America</td>\n",
       "      <td>2002</td>\n",
       "      <td>$7B</td>\n",
       "      <td>Founders Fund, Draper Fisher Jurvetson, Rothen...</td>\n",
       "    </tr>\n",
       "    <tr>\n",
       "      <th>2</th>\n",
       "      <td>SHEIN</td>\n",
       "      <td>$100B</td>\n",
       "      <td>7/3/2018</td>\n",
       "      <td>E-commerce &amp; direct-to-consumer</td>\n",
       "      <td>Shenzhen</td>\n",
       "      <td>China</td>\n",
       "      <td>Asia</td>\n",
       "      <td>2008</td>\n",
       "      <td>$2B</td>\n",
       "      <td>Tiger Global Management, Sequoia Capital China...</td>\n",
       "    </tr>\n",
       "    <tr>\n",
       "      <th>3</th>\n",
       "      <td>Stripe</td>\n",
       "      <td>$95B</td>\n",
       "      <td>1/23/2014</td>\n",
       "      <td>Fintech</td>\n",
       "      <td>San Francisco</td>\n",
       "      <td>United States</td>\n",
       "      <td>North America</td>\n",
       "      <td>2010</td>\n",
       "      <td>$2B</td>\n",
       "      <td>Khosla Ventures, LowercaseCapital, capitalG</td>\n",
       "    </tr>\n",
       "    <tr>\n",
       "      <th>4</th>\n",
       "      <td>Klarna</td>\n",
       "      <td>$46B</td>\n",
       "      <td>12/12/2011</td>\n",
       "      <td>Fintech</td>\n",
       "      <td>Stockholm</td>\n",
       "      <td>Sweden</td>\n",
       "      <td>Europe</td>\n",
       "      <td>2005</td>\n",
       "      <td>$4B</td>\n",
       "      <td>Institutional Venture Partners, Sequoia Capita...</td>\n",
       "    </tr>\n",
       "    <tr>\n",
       "      <th>...</th>\n",
       "      <td>...</td>\n",
       "      <td>...</td>\n",
       "      <td>...</td>\n",
       "      <td>...</td>\n",
       "      <td>...</td>\n",
       "      <td>...</td>\n",
       "      <td>...</td>\n",
       "      <td>...</td>\n",
       "      <td>...</td>\n",
       "      <td>...</td>\n",
       "    </tr>\n",
       "    <tr>\n",
       "      <th>1069</th>\n",
       "      <td>Zhaogang</td>\n",
       "      <td>$1B</td>\n",
       "      <td>6/29/2017</td>\n",
       "      <td>E-commerce &amp; direct-to-consumer</td>\n",
       "      <td>Shanghai</td>\n",
       "      <td>China</td>\n",
       "      <td>Asia</td>\n",
       "      <td>2012</td>\n",
       "      <td>$379M</td>\n",
       "      <td>K2 Ventures, Matrix Partners China, IDG Capital</td>\n",
       "    </tr>\n",
       "    <tr>\n",
       "      <th>1070</th>\n",
       "      <td>Zhuan Zhuan</td>\n",
       "      <td>$1B</td>\n",
       "      <td>4/18/2017</td>\n",
       "      <td>E-commerce &amp; direct-to-consumer</td>\n",
       "      <td>Beijing</td>\n",
       "      <td>China</td>\n",
       "      <td>Asia</td>\n",
       "      <td>2015</td>\n",
       "      <td>$990M</td>\n",
       "      <td>58.com, Tencent Holdings</td>\n",
       "    </tr>\n",
       "    <tr>\n",
       "      <th>1071</th>\n",
       "      <td>Zihaiguo</td>\n",
       "      <td>$1B</td>\n",
       "      <td>5/6/2021</td>\n",
       "      <td>Consumer &amp; retail</td>\n",
       "      <td>Chongqing</td>\n",
       "      <td>China</td>\n",
       "      <td>Asia</td>\n",
       "      <td>2018</td>\n",
       "      <td>$80M</td>\n",
       "      <td>Xingwang Investment Management, China Capital ...</td>\n",
       "    </tr>\n",
       "    <tr>\n",
       "      <th>1072</th>\n",
       "      <td>Zopa</td>\n",
       "      <td>$1B</td>\n",
       "      <td>10/19/2021</td>\n",
       "      <td>Fintech</td>\n",
       "      <td>London</td>\n",
       "      <td>United Kingdom</td>\n",
       "      <td>Europe</td>\n",
       "      <td>2005</td>\n",
       "      <td>$792M</td>\n",
       "      <td>IAG Capital Partners, Augmentum Fintech, North...</td>\n",
       "    </tr>\n",
       "    <tr>\n",
       "      <th>1073</th>\n",
       "      <td>Zwift</td>\n",
       "      <td>$1B</td>\n",
       "      <td>9/16/2020</td>\n",
       "      <td>E-commerce &amp; direct-to-consumer</td>\n",
       "      <td>Long Beach</td>\n",
       "      <td>United States</td>\n",
       "      <td>North America</td>\n",
       "      <td>2014</td>\n",
       "      <td>$620M</td>\n",
       "      <td>Novator Partners, True, Causeway Media Partners</td>\n",
       "    </tr>\n",
       "  </tbody>\n",
       "</table>\n",
       "<p>1074 rows × 10 columns</p>\n",
       "</div>"
      ],
      "text/plain": [
       "          Company Valuation Date Joined                         Industry  \\\n",
       "0       Bytedance     $180B    4/7/2017          Artificial intelligence   \n",
       "1          SpaceX     $100B   12/1/2012                            Other   \n",
       "2           SHEIN     $100B    7/3/2018  E-commerce & direct-to-consumer   \n",
       "3          Stripe      $95B   1/23/2014                          Fintech   \n",
       "4          Klarna      $46B  12/12/2011                          Fintech   \n",
       "...           ...       ...         ...                              ...   \n",
       "1069     Zhaogang       $1B   6/29/2017  E-commerce & direct-to-consumer   \n",
       "1070  Zhuan Zhuan       $1B   4/18/2017  E-commerce & direct-to-consumer   \n",
       "1071     Zihaiguo       $1B    5/6/2021                Consumer & retail   \n",
       "1072         Zopa       $1B  10/19/2021                          Fintech   \n",
       "1073        Zwift       $1B   9/16/2020  E-commerce & direct-to-consumer   \n",
       "\n",
       "               City         Country      Continent  Year Founded Funding  \\\n",
       "0           Beijing           China           Asia          2012     $8B   \n",
       "1         Hawthorne   United States  North America          2002     $7B   \n",
       "2          Shenzhen           China           Asia          2008     $2B   \n",
       "3     San Francisco   United States  North America          2010     $2B   \n",
       "4         Stockholm          Sweden         Europe          2005     $4B   \n",
       "...             ...             ...            ...           ...     ...   \n",
       "1069       Shanghai           China           Asia          2012   $379M   \n",
       "1070        Beijing           China           Asia          2015   $990M   \n",
       "1071      Chongqing           China           Asia          2018    $80M   \n",
       "1072         London  United Kingdom         Europe          2005   $792M   \n",
       "1073     Long Beach   United States  North America          2014   $620M   \n",
       "\n",
       "                                       Select Investors  \n",
       "0     Sequoia Capital China, SIG Asia Investments, S...  \n",
       "1     Founders Fund, Draper Fisher Jurvetson, Rothen...  \n",
       "2     Tiger Global Management, Sequoia Capital China...  \n",
       "3           Khosla Ventures, LowercaseCapital, capitalG  \n",
       "4     Institutional Venture Partners, Sequoia Capita...  \n",
       "...                                                 ...  \n",
       "1069    K2 Ventures, Matrix Partners China, IDG Capital  \n",
       "1070                           58.com, Tencent Holdings  \n",
       "1071  Xingwang Investment Management, China Capital ...  \n",
       "1072  IAG Capital Partners, Augmentum Fintech, North...  \n",
       "1073    Novator Partners, True, Causeway Media Partners  \n",
       "\n",
       "[1074 rows x 10 columns]"
      ]
     },
     "execution_count": 38,
     "metadata": {},
     "output_type": "execute_result"
    }
   ],
   "source": [
    "# load and read data file\n",
    "'''inside the quotation is the a filepath of the data file'''\n",
    "Unicorn_data = pd.read_csv(r'C:\\Users\\BAB AL SAFA\\Documents\\Unicorn_Companies.csv') # for csv file # pd.read_excel(r'')===> for excel filr format\n",
    "Unicorn_data"
   ]
  },
  {
   "cell_type": "markdown",
   "id": "6902fc48",
   "metadata": {},
   "source": [
    "## Data Inspection and Manipulation "
   ]
  },
  {
   "cell_type": "code",
   "execution_count": 39,
   "id": "79e0fbe3",
   "metadata": {},
   "outputs": [
    {
     "data": {
      "text/plain": [
       "(1074, 10)"
      ]
     },
     "execution_count": 39,
     "metadata": {},
     "output_type": "execute_result"
    }
   ],
   "source": [
    "# view the shape of data\n",
    "Unicorn_data.shape"
   ]
  },
  {
   "cell_type": "code",
   "execution_count": 41,
   "id": "50437067",
   "metadata": {
    "scrolled": true
   },
   "outputs": [
    {
     "name": "stdout",
     "output_type": "stream",
     "text": [
      "<class 'pandas.core.frame.DataFrame'>\n",
      "RangeIndex: 1074 entries, 0 to 1073\n",
      "Data columns (total 10 columns):\n",
      " #   Column            Non-Null Count  Dtype \n",
      "---  ------            --------------  ----- \n",
      " 0   Company           1074 non-null   object\n",
      " 1   Valuation         1074 non-null   object\n",
      " 2   Date Joined       1074 non-null   object\n",
      " 3   Industry          1074 non-null   object\n",
      " 4   City              1058 non-null   object\n",
      " 5   Country           1074 non-null   object\n",
      " 6   Continent         1074 non-null   object\n",
      " 7   Year Founded      1074 non-null   int64 \n",
      " 8   Funding           1074 non-null   object\n",
      " 9   Select Investors  1073 non-null   object\n",
      "dtypes: int64(1), object(9)\n",
      "memory usage: 84.0+ KB\n"
     ]
    }
   ],
   "source": [
    "# view the info of data\n",
    "Unicorn_data.info()"
   ]
  },
  {
   "cell_type": "code",
   "execution_count": 42,
   "id": "a7bce4e7",
   "metadata": {
    "scrolled": true
   },
   "outputs": [
    {
     "data": {
      "text/plain": [
       "Index(['Company', 'Valuation', 'Date Joined', 'Industry', 'City', 'Country',\n",
       "       'Continent', 'Year Founded', 'Funding', 'Select Investors'],\n",
       "      dtype='object')"
      ]
     },
     "execution_count": 42,
     "metadata": {},
     "output_type": "execute_result"
    }
   ],
   "source": [
    "# view columns\n",
    "Unicorn_data.columns"
   ]
  },
  {
   "cell_type": "code",
   "execution_count": 44,
   "id": "15b95bef",
   "metadata": {},
   "outputs": [
    {
     "data": {
      "text/plain": [
       "Company             object\n",
       "Valuation           object\n",
       "Date Joined         object\n",
       "Industry            object\n",
       "City                object\n",
       "Country             object\n",
       "Continent           object\n",
       "Year Founded         int64\n",
       "Funding             object\n",
       "Select Investors    object\n",
       "dtype: object"
      ]
     },
     "execution_count": 44,
     "metadata": {},
     "output_type": "execute_result"
    }
   ],
   "source": [
    "Unicorn_data.dtypes"
   ]
  },
  {
   "cell_type": "code",
   "execution_count": 45,
   "id": "92022cd8",
   "metadata": {
    "scrolled": true
   },
   "outputs": [
    {
     "data": {
      "text/plain": [
       "Company              0\n",
       "Valuation            0\n",
       "Date Joined          0\n",
       "Industry             0\n",
       "City                16\n",
       "Country              0\n",
       "Continent            0\n",
       "Year Founded         0\n",
       "Funding              0\n",
       "Select Investors     1\n",
       "dtype: int64"
      ]
     },
     "execution_count": 45,
     "metadata": {},
     "output_type": "execute_result"
    }
   ],
   "source": [
    "# check for missing values\n",
    "Unicorn_data.isnull().sum()"
   ]
  },
  {
   "cell_type": "code",
   "execution_count": 46,
   "id": "3060dea1",
   "metadata": {
    "scrolled": false
   },
   "outputs": [
    {
     "name": "stderr",
     "output_type": "stream",
     "text": [
      "C:\\Users\\BAB AL SAFA\\AppData\\Local\\Temp\\ipykernel_16680\\1616263888.py:7: FutureWarning: The default value of regex will change from True to False in a future version. In addition, single character regular expressions will *not* be treated as literal strings when regex=True.\n",
      "  Unicorn_data['Valuation ($B)'] = Unicorn_data['Valuation ($B)'].astype(str).str.replace(',', '').str.replace('$', '').str.replace('B', '').astype('float64')\n",
      "C:\\Users\\BAB AL SAFA\\AppData\\Local\\Temp\\ipykernel_16680\\1616263888.py:13: FutureWarning: The default value of regex will change from True to False in a future version. In addition, single character regular expressions will *not* be treated as literal strings when regex=True.\n",
      "  Unicorn_data['Funding ($B)'] = Unicorn_data['Funding ($B)'].str.replace(',', '').str.replace('$', '').str.replace('B', '').str.replace('M', '')\n"
     ]
    }
   ],
   "source": [
    "Unicorn_data.rename(columns={'Date Joined': 'Date', 'Valuation': 'Valuation ($B)', 'Select Investors': 'Investors', 'Funding': 'Funding ($B)'}, inplace=True)\n",
    "\n",
    "Unicorn_data['Investors'] = Unicorn_data['Investors'].astype(str)\n",
    "\n",
    "Unicorn_data['Date'] = pd.to_datetime(Unicorn_data['Date'])\n",
    "\n",
    "Unicorn_data['Valuation ($B)'] = Unicorn_data['Valuation ($B)'].astype(str).str.replace(',', '').str.replace('$', '').str.replace('B', '').astype('float64')\n",
    "\n",
    "# Convert the 'Funding' column to string data type\n",
    "Unicorn_data['Funding ($B)'] = Unicorn_data['Funding ($B)'].astype(str)\n",
    "\n",
    "# Remove symbols from the 'Funding' column\n",
    "Unicorn_data['Funding ($B)'] = Unicorn_data['Funding ($B)'].str.replace(',', '').str.replace('$', '').str.replace('B', '').str.replace('M', '')\n",
    "\n",
    "# Replace 'Unknown' values with NaN\n",
    "Unicorn_data['Funding ($B)'] = Unicorn_data['Funding ($B)'].replace('Unknown', np.nan)\n",
    "\n",
    "# Convert the 'Funding' column to a float data type\n",
    "Unicorn_data['Funding ($B)'] = Unicorn_data['Funding ($B)'].astype(float)\n",
    "\n",
    "# Convert values greater than or equal to 1000 from millions to billions\n",
    "#Unicorn_data.loc[Unicorn_data['Funding ($B)'] >= 1000, 'Funding ($B)'] //= 1000\n",
    "\n",
    "Unicorn_data['Funding ($B)'] = Unicorn_data['Funding ($B)'].astype(str)\n",
    "\n",
    "\n",
    "Unicorn_data['Funding ($B)'] = np.where(Unicorn_data['Funding ($B)'].str.contains('M'), Unicorn_data['Funding ($B)'].str.replace('M', '').astype(float) // 1000, Unicorn_data['Funding ($B)'].str.replace('B', '').astype(float))\n",
    "\n",
    "\n",
    "# Replace NaN values with 0 and convert the 'Funding' column to an integer data type\n",
    "Unicorn_data['Funding ($B)'] = Unicorn_data['Funding ($B)'].fillna(0).astype('int64')\n",
    "\n"
   ]
  },
  {
   "cell_type": "code",
   "execution_count": 47,
   "id": "35323b72",
   "metadata": {
    "scrolled": false
   },
   "outputs": [
    {
     "name": "stdout",
     "output_type": "stream",
     "text": [
      "[  8   7   2   4 572   3  14   5 918 476 770 979 721 490 734 427 400   1\n",
      " 799 765 800 376 558 294 564 333 691 343 497  71 679 775 105 742 607 549\n",
      " 660 820 297 922 863 447 844 603 583 912 920 849 424 645 802 629 448 928\n",
      " 815 728 433 891 524 803 415 587 826 910 412 405 729 600 869 187 943 514\n",
      " 492 644 562 286 559 647 567 428 996 596 426 462 824 926 755 633 599 371\n",
      " 425 761 903 704 503 655 263 216 128 776 119 555 864 468 505 542 381 434\n",
      " 643 948 435   0 489 352 477 125 404 498 493 657 440 792 739 324 379 367\n",
      " 414 350 495 664 546 523 667 250 720 535 110 870 614 504 881 856 413 230\n",
      " 553 445 335 450 154 471  54 418 859 714 225 408 500 532 531 582  75 685\n",
      " 280 274 314 366 465 730 987 313 148 789 395 496 706 357 722 407 818 248\n",
      " 507 543 200 417 999 880 777 398 666 461 682 483 299 326 812 591 334 399\n",
      " 698 551 665 628 475 788 360 328 487 351 711 975 474 525 393 612 329 330\n",
      " 170 240 419 311 339 919 180 127 224  45 946  19 536 188 101 390 717  29\n",
      " 186 137 634 556 594 696 640 754 221 340 766 431 233 472 861 568 320 181\n",
      " 150 289 100 719 257 828 142 261 466 245 310 192 211 203 370 217 253 218\n",
      " 190 152 129 177 331 204 544  90 120 380 401 744 282 386 151 421 219 325\n",
      " 538 222 255 195 139 236 298 624 266 902 179 403 397 364 285 517 577 315\n",
      " 358 251 237 231 663 275 557 229 277 509 423 378 422 402 710 287 550 259\n",
      " 172 305 374 193 676 345  96 295 301 300 441 593 529 349 268 365 791 210\n",
      " 438 293 658 341 449 115 281 302 456 410 121 342 545 569 527 183 202 570\n",
      " 566 147 226 356 296 161 432 373 768 950 786  94  62 206 547 227  79 214\n",
      " 700 223 249 131 143 650 344  52 394 163 164  43 171 174 369 307 149 554\n",
      " 947 160 388  98 235 632 116 267 271 511 207 362 228 262 323 303 318 165\n",
      " 264 384 169 368 141 241 521 382 436 156 276 178  67 252 361 738 102 130\n",
      " 215 166 336 201  10 610 291 246 157 260 482 167 520 191 111 317 189 337\n",
      " 430 124 118 309 347 194   9 573  33 787 144 197 875 205 292 396 458 288\n",
      " 140 109 304 258 656 185 134 136 346  53 247 107 132  86 273 243 265 534\n",
      "  64 697 238 526 406 595 182 254 196 269 232 460 209 279 145 391 359 283\n",
      " 439 284  93 592  17 173 135  92 306 126  91 588 463 220 515  51  60 239\n",
      "  15 484 416 114 623 585 516 308  70 871 389 990  80 620]\n"
     ]
    }
   ],
   "source": [
    "print(Unicorn_data['Funding ($B)'].unique())"
   ]
  },
  {
   "cell_type": "code",
   "execution_count": 48,
   "id": "f632798c",
   "metadata": {
    "scrolled": true
   },
   "outputs": [
    {
     "name": "stdout",
     "output_type": "stream",
     "text": [
      "0       False\n",
      "1       False\n",
      "2       False\n",
      "3       False\n",
      "4       False\n",
      "        ...  \n",
      "1069    False\n",
      "1070    False\n",
      "1071    False\n",
      "1072    False\n",
      "1073    False\n",
      "Name: Funding ($B), Length: 1074, dtype: bool\n"
     ]
    }
   ],
   "source": [
    "print(Unicorn_data['Funding ($B)'].isnull())"
   ]
  },
  {
   "cell_type": "code",
   "execution_count": 49,
   "id": "1b56dd00",
   "metadata": {},
   "outputs": [
    {
     "data": {
      "text/plain": [
       "Company                   object\n",
       "Valuation ($B)           float64\n",
       "Date              datetime64[ns]\n",
       "Industry                  object\n",
       "City                      object\n",
       "Country                   object\n",
       "Continent                 object\n",
       "Year Founded               int64\n",
       "Funding ($B)               int64\n",
       "Investors                 object\n",
       "dtype: object"
      ]
     },
     "execution_count": 49,
     "metadata": {},
     "output_type": "execute_result"
    }
   ],
   "source": [
    "Unicorn_data.dtypes"
   ]
  },
  {
   "cell_type": "code",
   "execution_count": 50,
   "id": "2692f4d4",
   "metadata": {
    "scrolled": false
   },
   "outputs": [
    {
     "data": {
      "text/html": [
       "<div>\n",
       "<style scoped>\n",
       "    .dataframe tbody tr th:only-of-type {\n",
       "        vertical-align: middle;\n",
       "    }\n",
       "\n",
       "    .dataframe tbody tr th {\n",
       "        vertical-align: top;\n",
       "    }\n",
       "\n",
       "    .dataframe thead th {\n",
       "        text-align: right;\n",
       "    }\n",
       "</style>\n",
       "<table border=\"1\" class=\"dataframe\">\n",
       "  <thead>\n",
       "    <tr style=\"text-align: right;\">\n",
       "      <th></th>\n",
       "      <th>Company</th>\n",
       "      <th>Valuation ($B)</th>\n",
       "      <th>Date</th>\n",
       "      <th>Industry</th>\n",
       "      <th>City</th>\n",
       "      <th>Country</th>\n",
       "      <th>Continent</th>\n",
       "      <th>Year Founded</th>\n",
       "      <th>Funding ($B)</th>\n",
       "      <th>Investors</th>\n",
       "    </tr>\n",
       "  </thead>\n",
       "  <tbody>\n",
       "    <tr>\n",
       "      <th>0</th>\n",
       "      <td>Bytedance</td>\n",
       "      <td>180.0</td>\n",
       "      <td>2017-04-07</td>\n",
       "      <td>Artificial intelligence</td>\n",
       "      <td>Beijing</td>\n",
       "      <td>China</td>\n",
       "      <td>Asia</td>\n",
       "      <td>2012</td>\n",
       "      <td>8</td>\n",
       "      <td>Sequoia Capital China, SIG Asia Investments, S...</td>\n",
       "    </tr>\n",
       "    <tr>\n",
       "      <th>1</th>\n",
       "      <td>SpaceX</td>\n",
       "      <td>100.0</td>\n",
       "      <td>2012-12-01</td>\n",
       "      <td>Other</td>\n",
       "      <td>Hawthorne</td>\n",
       "      <td>United States</td>\n",
       "      <td>North America</td>\n",
       "      <td>2002</td>\n",
       "      <td>7</td>\n",
       "      <td>Founders Fund, Draper Fisher Jurvetson, Rothen...</td>\n",
       "    </tr>\n",
       "    <tr>\n",
       "      <th>2</th>\n",
       "      <td>SHEIN</td>\n",
       "      <td>100.0</td>\n",
       "      <td>2018-07-03</td>\n",
       "      <td>E-commerce &amp; direct-to-consumer</td>\n",
       "      <td>Shenzhen</td>\n",
       "      <td>China</td>\n",
       "      <td>Asia</td>\n",
       "      <td>2008</td>\n",
       "      <td>2</td>\n",
       "      <td>Tiger Global Management, Sequoia Capital China...</td>\n",
       "    </tr>\n",
       "    <tr>\n",
       "      <th>3</th>\n",
       "      <td>Stripe</td>\n",
       "      <td>95.0</td>\n",
       "      <td>2014-01-23</td>\n",
       "      <td>Fintech</td>\n",
       "      <td>San Francisco</td>\n",
       "      <td>United States</td>\n",
       "      <td>North America</td>\n",
       "      <td>2010</td>\n",
       "      <td>2</td>\n",
       "      <td>Khosla Ventures, LowercaseCapital, capitalG</td>\n",
       "    </tr>\n",
       "    <tr>\n",
       "      <th>4</th>\n",
       "      <td>Klarna</td>\n",
       "      <td>46.0</td>\n",
       "      <td>2011-12-12</td>\n",
       "      <td>Fintech</td>\n",
       "      <td>Stockholm</td>\n",
       "      <td>Sweden</td>\n",
       "      <td>Europe</td>\n",
       "      <td>2005</td>\n",
       "      <td>4</td>\n",
       "      <td>Institutional Venture Partners, Sequoia Capita...</td>\n",
       "    </tr>\n",
       "  </tbody>\n",
       "</table>\n",
       "</div>"
      ],
      "text/plain": [
       "     Company  Valuation ($B)       Date                         Industry  \\\n",
       "0  Bytedance           180.0 2017-04-07          Artificial intelligence   \n",
       "1     SpaceX           100.0 2012-12-01                            Other   \n",
       "2      SHEIN           100.0 2018-07-03  E-commerce & direct-to-consumer   \n",
       "3     Stripe            95.0 2014-01-23                          Fintech   \n",
       "4     Klarna            46.0 2011-12-12                          Fintech   \n",
       "\n",
       "            City        Country      Continent  Year Founded  Funding ($B)  \\\n",
       "0        Beijing          China           Asia          2012             8   \n",
       "1      Hawthorne  United States  North America          2002             7   \n",
       "2       Shenzhen          China           Asia          2008             2   \n",
       "3  San Francisco  United States  North America          2010             2   \n",
       "4      Stockholm         Sweden         Europe          2005             4   \n",
       "\n",
       "                                           Investors  \n",
       "0  Sequoia Capital China, SIG Asia Investments, S...  \n",
       "1  Founders Fund, Draper Fisher Jurvetson, Rothen...  \n",
       "2  Tiger Global Management, Sequoia Capital China...  \n",
       "3        Khosla Ventures, LowercaseCapital, capitalG  \n",
       "4  Institutional Venture Partners, Sequoia Capita...  "
      ]
     },
     "execution_count": 50,
     "metadata": {},
     "output_type": "execute_result"
    }
   ],
   "source": [
    "Unicorn_data.head()"
   ]
  },
  {
   "cell_type": "code",
   "execution_count": 51,
   "id": "83190bc7",
   "metadata": {
    "scrolled": true
   },
   "outputs": [
    {
     "data": {
      "text/html": [
       "<div>\n",
       "<style scoped>\n",
       "    .dataframe tbody tr th:only-of-type {\n",
       "        vertical-align: middle;\n",
       "    }\n",
       "\n",
       "    .dataframe tbody tr th {\n",
       "        vertical-align: top;\n",
       "    }\n",
       "\n",
       "    .dataframe thead th {\n",
       "        text-align: right;\n",
       "    }\n",
       "</style>\n",
       "<table border=\"1\" class=\"dataframe\">\n",
       "  <thead>\n",
       "    <tr style=\"text-align: right;\">\n",
       "      <th></th>\n",
       "      <th>Company</th>\n",
       "      <th>Valuation ($B)</th>\n",
       "      <th>Date</th>\n",
       "      <th>Industry</th>\n",
       "      <th>City</th>\n",
       "      <th>Country</th>\n",
       "      <th>Continent</th>\n",
       "      <th>Year Founded</th>\n",
       "      <th>Funding ($B)</th>\n",
       "      <th>Investors</th>\n",
       "    </tr>\n",
       "  </thead>\n",
       "  <tbody>\n",
       "    <tr>\n",
       "      <th>12</th>\n",
       "      <td>FTX</td>\n",
       "      <td>32.0</td>\n",
       "      <td>2021-07-20</td>\n",
       "      <td>Fintech</td>\n",
       "      <td>NaN</td>\n",
       "      <td>Bahamas</td>\n",
       "      <td>North America</td>\n",
       "      <td>2018</td>\n",
       "      <td>2</td>\n",
       "      <td>Sequoia Capital, Thoma Bravo, Softbank</td>\n",
       "    </tr>\n",
       "    <tr>\n",
       "      <th>170</th>\n",
       "      <td>HyalRoute</td>\n",
       "      <td>4.0</td>\n",
       "      <td>2020-05-26</td>\n",
       "      <td>Mobile &amp; telecommunications</td>\n",
       "      <td>NaN</td>\n",
       "      <td>Singapore</td>\n",
       "      <td>Asia</td>\n",
       "      <td>2015</td>\n",
       "      <td>263</td>\n",
       "      <td>Kuang-Chi</td>\n",
       "    </tr>\n",
       "    <tr>\n",
       "      <th>242</th>\n",
       "      <td>Moglix</td>\n",
       "      <td>3.0</td>\n",
       "      <td>2021-05-17</td>\n",
       "      <td>E-commerce &amp; direct-to-consumer</td>\n",
       "      <td>NaN</td>\n",
       "      <td>Singapore</td>\n",
       "      <td>Asia</td>\n",
       "      <td>2015</td>\n",
       "      <td>471</td>\n",
       "      <td>Jungle Ventures, Accel, Venture Highway</td>\n",
       "    </tr>\n",
       "    <tr>\n",
       "      <th>251</th>\n",
       "      <td>Trax</td>\n",
       "      <td>3.0</td>\n",
       "      <td>2019-07-22</td>\n",
       "      <td>Artificial intelligence</td>\n",
       "      <td>NaN</td>\n",
       "      <td>Singapore</td>\n",
       "      <td>Asia</td>\n",
       "      <td>2010</td>\n",
       "      <td>1</td>\n",
       "      <td>Hopu Investment Management, Boyu Capital, DC T...</td>\n",
       "    </tr>\n",
       "    <tr>\n",
       "      <th>325</th>\n",
       "      <td>Amber Group</td>\n",
       "      <td>3.0</td>\n",
       "      <td>2021-06-21</td>\n",
       "      <td>Fintech</td>\n",
       "      <td>NaN</td>\n",
       "      <td>Hong Kong</td>\n",
       "      <td>Asia</td>\n",
       "      <td>2015</td>\n",
       "      <td>328</td>\n",
       "      <td>Tiger Global Management, Tiger Brokers, DCM Ve...</td>\n",
       "    </tr>\n",
       "    <tr>\n",
       "      <th>382</th>\n",
       "      <td>Ninja Van</td>\n",
       "      <td>2.0</td>\n",
       "      <td>2021-09-27</td>\n",
       "      <td>Supply chain, logistics, &amp; delivery</td>\n",
       "      <td>NaN</td>\n",
       "      <td>Singapore</td>\n",
       "      <td>Asia</td>\n",
       "      <td>2014</td>\n",
       "      <td>975</td>\n",
       "      <td>B Capital Group, Monk's Hill Ventures, Dynamic...</td>\n",
       "    </tr>\n",
       "    <tr>\n",
       "      <th>541</th>\n",
       "      <td>Advance Intelligence Group</td>\n",
       "      <td>2.0</td>\n",
       "      <td>2021-09-23</td>\n",
       "      <td>Artificial intelligence</td>\n",
       "      <td>NaN</td>\n",
       "      <td>Singapore</td>\n",
       "      <td>Asia</td>\n",
       "      <td>2016</td>\n",
       "      <td>536</td>\n",
       "      <td>Vision Plus Capital, GSR Ventures, ZhenFund</td>\n",
       "    </tr>\n",
       "    <tr>\n",
       "      <th>811</th>\n",
       "      <td>Carousell</td>\n",
       "      <td>1.0</td>\n",
       "      <td>2021-09-15</td>\n",
       "      <td>E-commerce &amp; direct-to-consumer</td>\n",
       "      <td>NaN</td>\n",
       "      <td>Singapore</td>\n",
       "      <td>Asia</td>\n",
       "      <td>2012</td>\n",
       "      <td>288</td>\n",
       "      <td>500 Global, Rakuten Ventures, Golden Gate Vent...</td>\n",
       "    </tr>\n",
       "    <tr>\n",
       "      <th>848</th>\n",
       "      <td>Matrixport</td>\n",
       "      <td>1.0</td>\n",
       "      <td>2021-06-01</td>\n",
       "      <td>Fintech</td>\n",
       "      <td>NaN</td>\n",
       "      <td>Singapore</td>\n",
       "      <td>Asia</td>\n",
       "      <td>2019</td>\n",
       "      <td>100</td>\n",
       "      <td>Dragonfly Captial, Qiming Venture Partners, DS...</td>\n",
       "    </tr>\n",
       "    <tr>\n",
       "      <th>880</th>\n",
       "      <td>bolttech</td>\n",
       "      <td>1.0</td>\n",
       "      <td>2021-07-01</td>\n",
       "      <td>Fintech</td>\n",
       "      <td>NaN</td>\n",
       "      <td>Singapore</td>\n",
       "      <td>Asia</td>\n",
       "      <td>2018</td>\n",
       "      <td>210</td>\n",
       "      <td>Mundi Ventures, Doqling Capital Partners, Acti...</td>\n",
       "    </tr>\n",
       "    <tr>\n",
       "      <th>889</th>\n",
       "      <td>Carro</td>\n",
       "      <td>1.0</td>\n",
       "      <td>2021-06-14</td>\n",
       "      <td>E-commerce &amp; direct-to-consumer</td>\n",
       "      <td>NaN</td>\n",
       "      <td>Singapore</td>\n",
       "      <td>Asia</td>\n",
       "      <td>2015</td>\n",
       "      <td>595</td>\n",
       "      <td>SingTel Innov8, Alpha JWC Ventures, Golden Gat...</td>\n",
       "    </tr>\n",
       "    <tr>\n",
       "      <th>893</th>\n",
       "      <td>Cider</td>\n",
       "      <td>1.0</td>\n",
       "      <td>2021-09-02</td>\n",
       "      <td>E-commerce &amp; direct-to-consumer</td>\n",
       "      <td>NaN</td>\n",
       "      <td>Hong Kong</td>\n",
       "      <td>Asia</td>\n",
       "      <td>2020</td>\n",
       "      <td>140</td>\n",
       "      <td>Andreessen Horowitz, DST Global, IDG Capital</td>\n",
       "    </tr>\n",
       "    <tr>\n",
       "      <th>980</th>\n",
       "      <td>NIUM</td>\n",
       "      <td>1.0</td>\n",
       "      <td>2021-07-13</td>\n",
       "      <td>Fintech</td>\n",
       "      <td>NaN</td>\n",
       "      <td>Singapore</td>\n",
       "      <td>Asia</td>\n",
       "      <td>2014</td>\n",
       "      <td>285</td>\n",
       "      <td>Vertex Ventures SE Asia, Global Founders Capit...</td>\n",
       "    </tr>\n",
       "    <tr>\n",
       "      <th>986</th>\n",
       "      <td>ONE</td>\n",
       "      <td>1.0</td>\n",
       "      <td>2021-12-08</td>\n",
       "      <td>Internet software &amp; services</td>\n",
       "      <td>NaN</td>\n",
       "      <td>Singapore</td>\n",
       "      <td>Asia</td>\n",
       "      <td>2011</td>\n",
       "      <td>515</td>\n",
       "      <td>Temasek, Guggenheim Investments, Qatar Investm...</td>\n",
       "    </tr>\n",
       "    <tr>\n",
       "      <th>994</th>\n",
       "      <td>PatSnap</td>\n",
       "      <td>1.0</td>\n",
       "      <td>2021-03-16</td>\n",
       "      <td>Internet software &amp; services</td>\n",
       "      <td>NaN</td>\n",
       "      <td>Singapore</td>\n",
       "      <td>Asia</td>\n",
       "      <td>2007</td>\n",
       "      <td>352</td>\n",
       "      <td>Sequoia Capital China, Shunwei Capital Partner...</td>\n",
       "    </tr>\n",
       "    <tr>\n",
       "      <th>1061</th>\n",
       "      <td>WeLab</td>\n",
       "      <td>1.0</td>\n",
       "      <td>2017-11-08</td>\n",
       "      <td>Fintech</td>\n",
       "      <td>NaN</td>\n",
       "      <td>Hong Kong</td>\n",
       "      <td>Asia</td>\n",
       "      <td>2013</td>\n",
       "      <td>871</td>\n",
       "      <td>Sequoia Capital China, ING, Alibaba Entreprene...</td>\n",
       "    </tr>\n",
       "  </tbody>\n",
       "</table>\n",
       "</div>"
      ],
      "text/plain": [
       "                         Company  Valuation ($B)       Date  \\\n",
       "12                           FTX            32.0 2021-07-20   \n",
       "170                    HyalRoute             4.0 2020-05-26   \n",
       "242                       Moglix             3.0 2021-05-17   \n",
       "251                         Trax             3.0 2019-07-22   \n",
       "325                  Amber Group             3.0 2021-06-21   \n",
       "382                    Ninja Van             2.0 2021-09-27   \n",
       "541   Advance Intelligence Group             2.0 2021-09-23   \n",
       "811                    Carousell             1.0 2021-09-15   \n",
       "848                   Matrixport             1.0 2021-06-01   \n",
       "880                     bolttech             1.0 2021-07-01   \n",
       "889                        Carro             1.0 2021-06-14   \n",
       "893                        Cider             1.0 2021-09-02   \n",
       "980                         NIUM             1.0 2021-07-13   \n",
       "986                          ONE             1.0 2021-12-08   \n",
       "994                      PatSnap             1.0 2021-03-16   \n",
       "1061                       WeLab             1.0 2017-11-08   \n",
       "\n",
       "                                 Industry City    Country      Continent  \\\n",
       "12                                Fintech  NaN    Bahamas  North America   \n",
       "170           Mobile & telecommunications  NaN  Singapore           Asia   \n",
       "242       E-commerce & direct-to-consumer  NaN  Singapore           Asia   \n",
       "251               Artificial intelligence  NaN  Singapore           Asia   \n",
       "325                               Fintech  NaN  Hong Kong           Asia   \n",
       "382   Supply chain, logistics, & delivery  NaN  Singapore           Asia   \n",
       "541               Artificial intelligence  NaN  Singapore           Asia   \n",
       "811       E-commerce & direct-to-consumer  NaN  Singapore           Asia   \n",
       "848                               Fintech  NaN  Singapore           Asia   \n",
       "880                               Fintech  NaN  Singapore           Asia   \n",
       "889       E-commerce & direct-to-consumer  NaN  Singapore           Asia   \n",
       "893       E-commerce & direct-to-consumer  NaN  Hong Kong           Asia   \n",
       "980                               Fintech  NaN  Singapore           Asia   \n",
       "986          Internet software & services  NaN  Singapore           Asia   \n",
       "994          Internet software & services  NaN  Singapore           Asia   \n",
       "1061                              Fintech  NaN  Hong Kong           Asia   \n",
       "\n",
       "      Year Founded  Funding ($B)  \\\n",
       "12            2018             2   \n",
       "170           2015           263   \n",
       "242           2015           471   \n",
       "251           2010             1   \n",
       "325           2015           328   \n",
       "382           2014           975   \n",
       "541           2016           536   \n",
       "811           2012           288   \n",
       "848           2019           100   \n",
       "880           2018           210   \n",
       "889           2015           595   \n",
       "893           2020           140   \n",
       "980           2014           285   \n",
       "986           2011           515   \n",
       "994           2007           352   \n",
       "1061          2013           871   \n",
       "\n",
       "                                              Investors  \n",
       "12               Sequoia Capital, Thoma Bravo, Softbank  \n",
       "170                                           Kuang-Chi  \n",
       "242             Jungle Ventures, Accel, Venture Highway  \n",
       "251   Hopu Investment Management, Boyu Capital, DC T...  \n",
       "325   Tiger Global Management, Tiger Brokers, DCM Ve...  \n",
       "382   B Capital Group, Monk's Hill Ventures, Dynamic...  \n",
       "541         Vision Plus Capital, GSR Ventures, ZhenFund  \n",
       "811   500 Global, Rakuten Ventures, Golden Gate Vent...  \n",
       "848   Dragonfly Captial, Qiming Venture Partners, DS...  \n",
       "880   Mundi Ventures, Doqling Capital Partners, Acti...  \n",
       "889   SingTel Innov8, Alpha JWC Ventures, Golden Gat...  \n",
       "893        Andreessen Horowitz, DST Global, IDG Capital  \n",
       "980   Vertex Ventures SE Asia, Global Founders Capit...  \n",
       "986   Temasek, Guggenheim Investments, Qatar Investm...  \n",
       "994   Sequoia Capital China, Shunwei Capital Partner...  \n",
       "1061  Sequoia Capital China, ING, Alibaba Entreprene...  "
      ]
     },
     "execution_count": 51,
     "metadata": {},
     "output_type": "execute_result"
    }
   ],
   "source": [
    "Unicorn_data[Unicorn_data.City.isnull()]"
   ]
  },
  {
   "cell_type": "code",
   "execution_count": 17,
   "id": "2a74ef92",
   "metadata": {
    "scrolled": false
   },
   "outputs": [
    {
     "data": {
      "text/html": [
       "<div>\n",
       "<style scoped>\n",
       "    .dataframe tbody tr th:only-of-type {\n",
       "        vertical-align: middle;\n",
       "    }\n",
       "\n",
       "    .dataframe tbody tr th {\n",
       "        vertical-align: top;\n",
       "    }\n",
       "\n",
       "    .dataframe thead th {\n",
       "        text-align: right;\n",
       "    }\n",
       "</style>\n",
       "<table border=\"1\" class=\"dataframe\">\n",
       "  <thead>\n",
       "    <tr style=\"text-align: right;\">\n",
       "      <th></th>\n",
       "      <th>Company</th>\n",
       "      <th>Valuation ($B)</th>\n",
       "      <th>Date</th>\n",
       "      <th>Industry</th>\n",
       "      <th>City</th>\n",
       "      <th>Country</th>\n",
       "      <th>Continent</th>\n",
       "      <th>Year Founded</th>\n",
       "      <th>Funding ($B)</th>\n",
       "      <th>Investors</th>\n",
       "    </tr>\n",
       "  </thead>\n",
       "  <tbody>\n",
       "    <tr>\n",
       "      <th>0</th>\n",
       "      <td>Bytedance</td>\n",
       "      <td>180.0</td>\n",
       "      <td>2017-04-07</td>\n",
       "      <td>Artificial intelligence</td>\n",
       "      <td>Beijing</td>\n",
       "      <td>China</td>\n",
       "      <td>Asia</td>\n",
       "      <td>2012</td>\n",
       "      <td>8</td>\n",
       "      <td>Sequoia Capital China, SIG Asia Investments, S...</td>\n",
       "    </tr>\n",
       "    <tr>\n",
       "      <th>1</th>\n",
       "      <td>SpaceX</td>\n",
       "      <td>100.0</td>\n",
       "      <td>2012-12-01</td>\n",
       "      <td>Other</td>\n",
       "      <td>Hawthorne</td>\n",
       "      <td>United States</td>\n",
       "      <td>North America</td>\n",
       "      <td>2002</td>\n",
       "      <td>7</td>\n",
       "      <td>Founders Fund, Draper Fisher Jurvetson, Rothen...</td>\n",
       "    </tr>\n",
       "    <tr>\n",
       "      <th>2</th>\n",
       "      <td>SHEIN</td>\n",
       "      <td>100.0</td>\n",
       "      <td>2018-07-03</td>\n",
       "      <td>E-commerce &amp; direct-to-consumer</td>\n",
       "      <td>Shenzhen</td>\n",
       "      <td>China</td>\n",
       "      <td>Asia</td>\n",
       "      <td>2008</td>\n",
       "      <td>2</td>\n",
       "      <td>Tiger Global Management, Sequoia Capital China...</td>\n",
       "    </tr>\n",
       "    <tr>\n",
       "      <th>3</th>\n",
       "      <td>Stripe</td>\n",
       "      <td>95.0</td>\n",
       "      <td>2014-01-23</td>\n",
       "      <td>Fintech</td>\n",
       "      <td>San Francisco</td>\n",
       "      <td>United States</td>\n",
       "      <td>North America</td>\n",
       "      <td>2010</td>\n",
       "      <td>2</td>\n",
       "      <td>Khosla Ventures, LowercaseCapital, capitalG</td>\n",
       "    </tr>\n",
       "    <tr>\n",
       "      <th>4</th>\n",
       "      <td>Klarna</td>\n",
       "      <td>46.0</td>\n",
       "      <td>2011-12-12</td>\n",
       "      <td>Fintech</td>\n",
       "      <td>Stockholm</td>\n",
       "      <td>Sweden</td>\n",
       "      <td>Europe</td>\n",
       "      <td>2005</td>\n",
       "      <td>4</td>\n",
       "      <td>Institutional Venture Partners, Sequoia Capita...</td>\n",
       "    </tr>\n",
       "    <tr>\n",
       "      <th>5</th>\n",
       "      <td>Canva</td>\n",
       "      <td>40.0</td>\n",
       "      <td>2018-01-08</td>\n",
       "      <td>Internet software &amp; services</td>\n",
       "      <td>Surry Hills</td>\n",
       "      <td>Australia</td>\n",
       "      <td>Oceania</td>\n",
       "      <td>2012</td>\n",
       "      <td>572</td>\n",
       "      <td>Sequoia Capital China, Blackbird Ventures, Mat...</td>\n",
       "    </tr>\n",
       "    <tr>\n",
       "      <th>6</th>\n",
       "      <td>Checkout.com</td>\n",
       "      <td>40.0</td>\n",
       "      <td>2019-05-02</td>\n",
       "      <td>Fintech</td>\n",
       "      <td>London</td>\n",
       "      <td>United Kingdom</td>\n",
       "      <td>Europe</td>\n",
       "      <td>2012</td>\n",
       "      <td>2</td>\n",
       "      <td>Tiger Global Management, Insight Partners, DST...</td>\n",
       "    </tr>\n",
       "    <tr>\n",
       "      <th>7</th>\n",
       "      <td>Instacart</td>\n",
       "      <td>39.0</td>\n",
       "      <td>2014-12-30</td>\n",
       "      <td>Supply chain, logistics, &amp; delivery</td>\n",
       "      <td>San Francisco</td>\n",
       "      <td>United States</td>\n",
       "      <td>North America</td>\n",
       "      <td>2012</td>\n",
       "      <td>3</td>\n",
       "      <td>Khosla Ventures, Kleiner Perkins Caufield &amp; By...</td>\n",
       "    </tr>\n",
       "    <tr>\n",
       "      <th>8</th>\n",
       "      <td>JUUL Labs</td>\n",
       "      <td>38.0</td>\n",
       "      <td>2017-12-20</td>\n",
       "      <td>Consumer &amp; retail</td>\n",
       "      <td>San Francisco</td>\n",
       "      <td>United States</td>\n",
       "      <td>North America</td>\n",
       "      <td>2015</td>\n",
       "      <td>14</td>\n",
       "      <td>Tiger Global Management</td>\n",
       "    </tr>\n",
       "    <tr>\n",
       "      <th>9</th>\n",
       "      <td>Databricks</td>\n",
       "      <td>38.0</td>\n",
       "      <td>2019-02-05</td>\n",
       "      <td>Data management &amp; analytics</td>\n",
       "      <td>San Francisco</td>\n",
       "      <td>United States</td>\n",
       "      <td>North America</td>\n",
       "      <td>2013</td>\n",
       "      <td>3</td>\n",
       "      <td>Andreessen Horowitz, New Enterprise Associates...</td>\n",
       "    </tr>\n",
       "    <tr>\n",
       "      <th>10</th>\n",
       "      <td>Revolut</td>\n",
       "      <td>33.0</td>\n",
       "      <td>2018-04-26</td>\n",
       "      <td>Fintech</td>\n",
       "      <td>London</td>\n",
       "      <td>United Kingdom</td>\n",
       "      <td>Europe</td>\n",
       "      <td>2015</td>\n",
       "      <td>2</td>\n",
       "      <td>index Ventures, DST Global, Ribbit Capital</td>\n",
       "    </tr>\n",
       "    <tr>\n",
       "      <th>11</th>\n",
       "      <td>Epic Games</td>\n",
       "      <td>32.0</td>\n",
       "      <td>2018-10-26</td>\n",
       "      <td>Other</td>\n",
       "      <td>Cary</td>\n",
       "      <td>United States</td>\n",
       "      <td>North America</td>\n",
       "      <td>1991</td>\n",
       "      <td>7</td>\n",
       "      <td>Tencent Holdings, KKR, Smash Ventures</td>\n",
       "    </tr>\n",
       "    <tr>\n",
       "      <th>12</th>\n",
       "      <td>FTX</td>\n",
       "      <td>32.0</td>\n",
       "      <td>2021-07-20</td>\n",
       "      <td>Fintech</td>\n",
       "      <td>NaN</td>\n",
       "      <td>Bahamas</td>\n",
       "      <td>North America</td>\n",
       "      <td>2018</td>\n",
       "      <td>2</td>\n",
       "      <td>Sequoia Capital, Thoma Bravo, Softbank</td>\n",
       "    </tr>\n",
       "    <tr>\n",
       "      <th>13</th>\n",
       "      <td>Fanatics</td>\n",
       "      <td>27.0</td>\n",
       "      <td>2012-06-06</td>\n",
       "      <td>E-commerce &amp; direct-to-consumer</td>\n",
       "      <td>Jacksonville</td>\n",
       "      <td>United States</td>\n",
       "      <td>North America</td>\n",
       "      <td>2002</td>\n",
       "      <td>4</td>\n",
       "      <td>SoftBank Group, Andreessen Horowitz, Temasek H...</td>\n",
       "    </tr>\n",
       "    <tr>\n",
       "      <th>14</th>\n",
       "      <td>Chime</td>\n",
       "      <td>25.0</td>\n",
       "      <td>2019-03-05</td>\n",
       "      <td>Fintech</td>\n",
       "      <td>San Francisco</td>\n",
       "      <td>United States</td>\n",
       "      <td>North America</td>\n",
       "      <td>2013</td>\n",
       "      <td>2</td>\n",
       "      <td>Forerunner Ventures, Crosslink Capital, Homebrew</td>\n",
       "    </tr>\n",
       "    <tr>\n",
       "      <th>15</th>\n",
       "      <td>BYJU's</td>\n",
       "      <td>22.0</td>\n",
       "      <td>2017-07-25</td>\n",
       "      <td>Edtech</td>\n",
       "      <td>Bengaluru</td>\n",
       "      <td>India</td>\n",
       "      <td>Asia</td>\n",
       "      <td>2008</td>\n",
       "      <td>4</td>\n",
       "      <td>Tencent Holdings, Lightspeed India Partners, S...</td>\n",
       "    </tr>\n",
       "    <tr>\n",
       "      <th>16</th>\n",
       "      <td>J&amp;T Express</td>\n",
       "      <td>20.0</td>\n",
       "      <td>2021-04-07</td>\n",
       "      <td>Supply chain, logistics, &amp; delivery</td>\n",
       "      <td>Jakarta</td>\n",
       "      <td>Indonesia</td>\n",
       "      <td>Asia</td>\n",
       "      <td>2015</td>\n",
       "      <td>5</td>\n",
       "      <td>Hillhouse Capital Management, Boyu Capital, Se...</td>\n",
       "    </tr>\n",
       "    <tr>\n",
       "      <th>17</th>\n",
       "      <td>Xiaohongshu</td>\n",
       "      <td>20.0</td>\n",
       "      <td>2016-03-31</td>\n",
       "      <td>E-commerce &amp; direct-to-consumer</td>\n",
       "      <td>Shanghai</td>\n",
       "      <td>China</td>\n",
       "      <td>Asia</td>\n",
       "      <td>2013</td>\n",
       "      <td>918</td>\n",
       "      <td>GGV Capital, ZhenFund, Tencent</td>\n",
       "    </tr>\n",
       "    <tr>\n",
       "      <th>18</th>\n",
       "      <td>Miro</td>\n",
       "      <td>18.0</td>\n",
       "      <td>2022-01-05</td>\n",
       "      <td>Internet software &amp; services</td>\n",
       "      <td>San Francisco</td>\n",
       "      <td>United States</td>\n",
       "      <td>North America</td>\n",
       "      <td>2011</td>\n",
       "      <td>476</td>\n",
       "      <td>Accel, AltaIR Capital, Technology Crossover Ve...</td>\n",
       "    </tr>\n",
       "    <tr>\n",
       "      <th>19</th>\n",
       "      <td>Yuanfudao</td>\n",
       "      <td>17.0</td>\n",
       "      <td>2017-05-31</td>\n",
       "      <td>Edtech</td>\n",
       "      <td>Beijing</td>\n",
       "      <td>China</td>\n",
       "      <td>Asia</td>\n",
       "      <td>2012</td>\n",
       "      <td>4</td>\n",
       "      <td>Tencent Holdings, Warbug Pincus, IDG Capital</td>\n",
       "    </tr>\n",
       "  </tbody>\n",
       "</table>\n",
       "</div>"
      ],
      "text/plain": [
       "         Company  Valuation ($B)       Date  \\\n",
       "0      Bytedance           180.0 2017-04-07   \n",
       "1         SpaceX           100.0 2012-12-01   \n",
       "2          SHEIN           100.0 2018-07-03   \n",
       "3         Stripe            95.0 2014-01-23   \n",
       "4         Klarna            46.0 2011-12-12   \n",
       "5          Canva            40.0 2018-01-08   \n",
       "6   Checkout.com            40.0 2019-05-02   \n",
       "7      Instacart            39.0 2014-12-30   \n",
       "8      JUUL Labs            38.0 2017-12-20   \n",
       "9     Databricks            38.0 2019-02-05   \n",
       "10       Revolut            33.0 2018-04-26   \n",
       "11    Epic Games            32.0 2018-10-26   \n",
       "12           FTX            32.0 2021-07-20   \n",
       "13      Fanatics            27.0 2012-06-06   \n",
       "14         Chime            25.0 2019-03-05   \n",
       "15        BYJU's            22.0 2017-07-25   \n",
       "16   J&T Express            20.0 2021-04-07   \n",
       "17   Xiaohongshu            20.0 2016-03-31   \n",
       "18          Miro            18.0 2022-01-05   \n",
       "19     Yuanfudao            17.0 2017-05-31   \n",
       "\n",
       "                               Industry           City         Country  \\\n",
       "0               Artificial intelligence        Beijing           China   \n",
       "1                                 Other      Hawthorne   United States   \n",
       "2       E-commerce & direct-to-consumer       Shenzhen           China   \n",
       "3                               Fintech  San Francisco   United States   \n",
       "4                               Fintech      Stockholm          Sweden   \n",
       "5          Internet software & services    Surry Hills       Australia   \n",
       "6                               Fintech         London  United Kingdom   \n",
       "7   Supply chain, logistics, & delivery  San Francisco   United States   \n",
       "8                     Consumer & retail  San Francisco   United States   \n",
       "9           Data management & analytics  San Francisco   United States   \n",
       "10                              Fintech         London  United Kingdom   \n",
       "11                                Other           Cary   United States   \n",
       "12                              Fintech            NaN         Bahamas   \n",
       "13      E-commerce & direct-to-consumer   Jacksonville   United States   \n",
       "14                              Fintech  San Francisco   United States   \n",
       "15                               Edtech      Bengaluru           India   \n",
       "16  Supply chain, logistics, & delivery        Jakarta       Indonesia   \n",
       "17      E-commerce & direct-to-consumer       Shanghai           China   \n",
       "18         Internet software & services  San Francisco   United States   \n",
       "19                               Edtech        Beijing           China   \n",
       "\n",
       "        Continent  Year Founded  Funding ($B)  \\\n",
       "0            Asia          2012             8   \n",
       "1   North America          2002             7   \n",
       "2            Asia          2008             2   \n",
       "3   North America          2010             2   \n",
       "4          Europe          2005             4   \n",
       "5         Oceania          2012           572   \n",
       "6          Europe          2012             2   \n",
       "7   North America          2012             3   \n",
       "8   North America          2015            14   \n",
       "9   North America          2013             3   \n",
       "10         Europe          2015             2   \n",
       "11  North America          1991             7   \n",
       "12  North America          2018             2   \n",
       "13  North America          2002             4   \n",
       "14  North America          2013             2   \n",
       "15           Asia          2008             4   \n",
       "16           Asia          2015             5   \n",
       "17           Asia          2013           918   \n",
       "18  North America          2011           476   \n",
       "19           Asia          2012             4   \n",
       "\n",
       "                                            Investors  \n",
       "0   Sequoia Capital China, SIG Asia Investments, S...  \n",
       "1   Founders Fund, Draper Fisher Jurvetson, Rothen...  \n",
       "2   Tiger Global Management, Sequoia Capital China...  \n",
       "3         Khosla Ventures, LowercaseCapital, capitalG  \n",
       "4   Institutional Venture Partners, Sequoia Capita...  \n",
       "5   Sequoia Capital China, Blackbird Ventures, Mat...  \n",
       "6   Tiger Global Management, Insight Partners, DST...  \n",
       "7   Khosla Ventures, Kleiner Perkins Caufield & By...  \n",
       "8                             Tiger Global Management  \n",
       "9   Andreessen Horowitz, New Enterprise Associates...  \n",
       "10         index Ventures, DST Global, Ribbit Capital  \n",
       "11              Tencent Holdings, KKR, Smash Ventures  \n",
       "12             Sequoia Capital, Thoma Bravo, Softbank  \n",
       "13  SoftBank Group, Andreessen Horowitz, Temasek H...  \n",
       "14   Forerunner Ventures, Crosslink Capital, Homebrew  \n",
       "15  Tencent Holdings, Lightspeed India Partners, S...  \n",
       "16  Hillhouse Capital Management, Boyu Capital, Se...  \n",
       "17                     GGV Capital, ZhenFund, Tencent  \n",
       "18  Accel, AltaIR Capital, Technology Crossover Ve...  \n",
       "19       Tencent Holdings, Warbug Pincus, IDG Capital  "
      ]
     },
     "execution_count": 17,
     "metadata": {},
     "output_type": "execute_result"
    }
   ],
   "source": [
    "# check the first 5 rows\n",
    "Unicorn_data.head(20)"
   ]
  },
  {
   "cell_type": "code",
   "execution_count": 52,
   "id": "c0c08f7f",
   "metadata": {
    "scrolled": false
   },
   "outputs": [
    {
     "data": {
      "text/html": [
       "<div>\n",
       "<style scoped>\n",
       "    .dataframe tbody tr th:only-of-type {\n",
       "        vertical-align: middle;\n",
       "    }\n",
       "\n",
       "    .dataframe tbody tr th {\n",
       "        vertical-align: top;\n",
       "    }\n",
       "\n",
       "    .dataframe thead th {\n",
       "        text-align: right;\n",
       "    }\n",
       "</style>\n",
       "<table border=\"1\" class=\"dataframe\">\n",
       "  <thead>\n",
       "    <tr style=\"text-align: right;\">\n",
       "      <th></th>\n",
       "      <th>Company</th>\n",
       "      <th>Valuation ($B)</th>\n",
       "      <th>Date</th>\n",
       "      <th>Industry</th>\n",
       "      <th>City</th>\n",
       "      <th>Country</th>\n",
       "      <th>Continent</th>\n",
       "      <th>Year Founded</th>\n",
       "      <th>Funding ($B)</th>\n",
       "      <th>Investors</th>\n",
       "    </tr>\n",
       "  </thead>\n",
       "  <tbody>\n",
       "    <tr>\n",
       "      <th>1069</th>\n",
       "      <td>Zhaogang</td>\n",
       "      <td>1.0</td>\n",
       "      <td>2017-06-29</td>\n",
       "      <td>E-commerce &amp; direct-to-consumer</td>\n",
       "      <td>Shanghai</td>\n",
       "      <td>China</td>\n",
       "      <td>Asia</td>\n",
       "      <td>2012</td>\n",
       "      <td>379</td>\n",
       "      <td>K2 Ventures, Matrix Partners China, IDG Capital</td>\n",
       "    </tr>\n",
       "    <tr>\n",
       "      <th>1070</th>\n",
       "      <td>Zhuan Zhuan</td>\n",
       "      <td>1.0</td>\n",
       "      <td>2017-04-18</td>\n",
       "      <td>E-commerce &amp; direct-to-consumer</td>\n",
       "      <td>Beijing</td>\n",
       "      <td>China</td>\n",
       "      <td>Asia</td>\n",
       "      <td>2015</td>\n",
       "      <td>990</td>\n",
       "      <td>58.com, Tencent Holdings</td>\n",
       "    </tr>\n",
       "    <tr>\n",
       "      <th>1071</th>\n",
       "      <td>Zihaiguo</td>\n",
       "      <td>1.0</td>\n",
       "      <td>2021-05-06</td>\n",
       "      <td>Consumer &amp; retail</td>\n",
       "      <td>Chongqing</td>\n",
       "      <td>China</td>\n",
       "      <td>Asia</td>\n",
       "      <td>2018</td>\n",
       "      <td>80</td>\n",
       "      <td>Xingwang Investment Management, China Capital ...</td>\n",
       "    </tr>\n",
       "    <tr>\n",
       "      <th>1072</th>\n",
       "      <td>Zopa</td>\n",
       "      <td>1.0</td>\n",
       "      <td>2021-10-19</td>\n",
       "      <td>Fintech</td>\n",
       "      <td>London</td>\n",
       "      <td>United Kingdom</td>\n",
       "      <td>Europe</td>\n",
       "      <td>2005</td>\n",
       "      <td>792</td>\n",
       "      <td>IAG Capital Partners, Augmentum Fintech, North...</td>\n",
       "    </tr>\n",
       "    <tr>\n",
       "      <th>1073</th>\n",
       "      <td>Zwift</td>\n",
       "      <td>1.0</td>\n",
       "      <td>2020-09-16</td>\n",
       "      <td>E-commerce &amp; direct-to-consumer</td>\n",
       "      <td>Long Beach</td>\n",
       "      <td>United States</td>\n",
       "      <td>North America</td>\n",
       "      <td>2014</td>\n",
       "      <td>620</td>\n",
       "      <td>Novator Partners, True, Causeway Media Partners</td>\n",
       "    </tr>\n",
       "  </tbody>\n",
       "</table>\n",
       "</div>"
      ],
      "text/plain": [
       "          Company  Valuation ($B)       Date                         Industry  \\\n",
       "1069     Zhaogang             1.0 2017-06-29  E-commerce & direct-to-consumer   \n",
       "1070  Zhuan Zhuan             1.0 2017-04-18  E-commerce & direct-to-consumer   \n",
       "1071     Zihaiguo             1.0 2021-05-06                Consumer & retail   \n",
       "1072         Zopa             1.0 2021-10-19                          Fintech   \n",
       "1073        Zwift             1.0 2020-09-16  E-commerce & direct-to-consumer   \n",
       "\n",
       "            City         Country      Continent  Year Founded  Funding ($B)  \\\n",
       "1069    Shanghai           China           Asia          2012           379   \n",
       "1070     Beijing           China           Asia          2015           990   \n",
       "1071   Chongqing           China           Asia          2018            80   \n",
       "1072      London  United Kingdom         Europe          2005           792   \n",
       "1073  Long Beach   United States  North America          2014           620   \n",
       "\n",
       "                                              Investors  \n",
       "1069    K2 Ventures, Matrix Partners China, IDG Capital  \n",
       "1070                           58.com, Tencent Holdings  \n",
       "1071  Xingwang Investment Management, China Capital ...  \n",
       "1072  IAG Capital Partners, Augmentum Fintech, North...  \n",
       "1073    Novator Partners, True, Causeway Media Partners  "
      ]
     },
     "execution_count": 52,
     "metadata": {},
     "output_type": "execute_result"
    }
   ],
   "source": [
    "# check the last 5 rows\n",
    "Unicorn_data.tail()"
   ]
  },
  {
   "cell_type": "code",
   "execution_count": 53,
   "id": "207c581c",
   "metadata": {
    "scrolled": true
   },
   "outputs": [
    {
     "data": {
      "text/plain": [
       "5"
      ]
     },
     "execution_count": 53,
     "metadata": {},
     "output_type": "execute_result"
    }
   ],
   "source": [
    "# How many unique valuation have no city\n",
    "len(Unicorn_data[Unicorn_data.City.isnull()]['Valuation ($B)'].unique())"
   ]
  },
  {
   "cell_type": "code",
   "execution_count": 54,
   "id": "7db4bb0c",
   "metadata": {
    "scrolled": false
   },
   "outputs": [
    {
     "data": {
      "text/html": [
       "<div>\n",
       "<style scoped>\n",
       "    .dataframe tbody tr th:only-of-type {\n",
       "        vertical-align: middle;\n",
       "    }\n",
       "\n",
       "    .dataframe tbody tr th {\n",
       "        vertical-align: top;\n",
       "    }\n",
       "\n",
       "    .dataframe thead th {\n",
       "        text-align: right;\n",
       "    }\n",
       "</style>\n",
       "<table border=\"1\" class=\"dataframe\">\n",
       "  <thead>\n",
       "    <tr style=\"text-align: right;\">\n",
       "      <th></th>\n",
       "      <th>Valuation ($B)</th>\n",
       "      <th>Year Founded</th>\n",
       "      <th>Funding ($B)</th>\n",
       "    </tr>\n",
       "  </thead>\n",
       "  <tbody>\n",
       "    <tr>\n",
       "      <th>count</th>\n",
       "      <td>1074.000000</td>\n",
       "      <td>1074.000000</td>\n",
       "      <td>1074.000000</td>\n",
       "    </tr>\n",
       "    <tr>\n",
       "      <th>mean</th>\n",
       "      <td>3.455307</td>\n",
       "      <td>2012.895717</td>\n",
       "      <td>334.313780</td>\n",
       "    </tr>\n",
       "    <tr>\n",
       "      <th>std</th>\n",
       "      <td>8.547022</td>\n",
       "      <td>5.698573</td>\n",
       "      <td>238.665354</td>\n",
       "    </tr>\n",
       "    <tr>\n",
       "      <th>min</th>\n",
       "      <td>1.000000</td>\n",
       "      <td>1919.000000</td>\n",
       "      <td>0.000000</td>\n",
       "    </tr>\n",
       "    <tr>\n",
       "      <th>25%</th>\n",
       "      <td>1.000000</td>\n",
       "      <td>2011.000000</td>\n",
       "      <td>161.000000</td>\n",
       "    </tr>\n",
       "    <tr>\n",
       "      <th>50%</th>\n",
       "      <td>2.000000</td>\n",
       "      <td>2014.000000</td>\n",
       "      <td>299.000000</td>\n",
       "    </tr>\n",
       "    <tr>\n",
       "      <th>75%</th>\n",
       "      <td>3.000000</td>\n",
       "      <td>2016.000000</td>\n",
       "      <td>488.500000</td>\n",
       "    </tr>\n",
       "    <tr>\n",
       "      <th>max</th>\n",
       "      <td>180.000000</td>\n",
       "      <td>2021.000000</td>\n",
       "      <td>999.000000</td>\n",
       "    </tr>\n",
       "  </tbody>\n",
       "</table>\n",
       "</div>"
      ],
      "text/plain": [
       "       Valuation ($B)  Year Founded  Funding ($B)\n",
       "count     1074.000000   1074.000000   1074.000000\n",
       "mean         3.455307   2012.895717    334.313780\n",
       "std          8.547022      5.698573    238.665354\n",
       "min          1.000000   1919.000000      0.000000\n",
       "25%          1.000000   2011.000000    161.000000\n",
       "50%          2.000000   2014.000000    299.000000\n",
       "75%          3.000000   2016.000000    488.500000\n",
       "max        180.000000   2021.000000    999.000000"
      ]
     },
     "execution_count": 54,
     "metadata": {},
     "output_type": "execute_result"
    }
   ],
   "source": [
    "Unicorn_data.describe()"
   ]
  },
  {
   "cell_type": "code",
   "execution_count": 55,
   "id": "85e65d31",
   "metadata": {
    "scrolled": false
   },
   "outputs": [
    {
     "data": {
      "text/plain": [
       "Singapore    12\n",
       "Hong Kong     3\n",
       "Bahamas       1\n",
       "Name: Country, dtype: int64"
      ]
     },
     "execution_count": 55,
     "metadata": {},
     "output_type": "execute_result"
    }
   ],
   "source": [
    "# What countries have valuation with no city?\n",
    "Unicorn_data[Unicorn_data.City.isnull()].Country.value_counts()"
   ]
  },
  {
   "cell_type": "code",
   "execution_count": 56,
   "id": "5ddc8e5a",
   "metadata": {
    "scrolled": true
   },
   "outputs": [
    {
     "name": "stdout",
     "output_type": "stream",
     "text": [
      "Total number of records:  1074\n",
      "Number of records with missing City:  16\n",
      "Number of records without missing City:  1058\n"
     ]
    }
   ],
   "source": [
    "# Check the number of records that will be affected\n",
    "\n",
    "print('Total number of records: ', Unicorn_data.shape[0])\n",
    "print('Number of records with missing City: ', Unicorn_data[Unicorn_data.City.isnull()].shape[0])  \n",
    "print('Number of records without missing City: ', Unicorn_data[Unicorn_data.City.notna()].shape[0]) \n"
   ]
  },
  {
   "cell_type": "code",
   "execution_count": 57,
   "id": "549a2ebc",
   "metadata": {},
   "outputs": [
    {
     "data": {
      "text/plain": [
       "1.49"
      ]
     },
     "execution_count": 57,
     "metadata": {},
     "output_type": "execute_result"
    }
   ],
   "source": [
    "# Number of rows with City\n",
    "num_missing = Unicorn_data[Unicorn_data.City.isnull()].shape[0]\n",
    "\n",
    "# number of rows in all the dataset\n",
    "\n",
    "num_all = Unicorn_data.shape[0]\n",
    "\n",
    "# Percentage of rows with missing city \n",
    "round((num_missing / num_all) * 100, 2)"
   ]
  },
  {
   "cell_type": "code",
   "execution_count": 31,
   "id": "e98d2bfb",
   "metadata": {
    "scrolled": true
   },
   "outputs": [
    {
     "data": {
      "text/html": [
       "<div>\n",
       "<style scoped>\n",
       "    .dataframe tbody tr th:only-of-type {\n",
       "        vertical-align: middle;\n",
       "    }\n",
       "\n",
       "    .dataframe tbody tr th {\n",
       "        vertical-align: top;\n",
       "    }\n",
       "\n",
       "    .dataframe thead th {\n",
       "        text-align: right;\n",
       "    }\n",
       "</style>\n",
       "<table border=\"1\" class=\"dataframe\">\n",
       "  <thead>\n",
       "    <tr style=\"text-align: right;\">\n",
       "      <th></th>\n",
       "      <th>Company</th>\n",
       "      <th>Valuation ($B)</th>\n",
       "      <th>Date</th>\n",
       "      <th>Industry</th>\n",
       "      <th>City</th>\n",
       "      <th>Country</th>\n",
       "      <th>Continent</th>\n",
       "      <th>Year Founded</th>\n",
       "      <th>Funding ($B)</th>\n",
       "      <th>Investors</th>\n",
       "    </tr>\n",
       "  </thead>\n",
       "  <tbody>\n",
       "    <tr>\n",
       "      <th>0</th>\n",
       "      <td>False</td>\n",
       "      <td>False</td>\n",
       "      <td>False</td>\n",
       "      <td>False</td>\n",
       "      <td>False</td>\n",
       "      <td>False</td>\n",
       "      <td>False</td>\n",
       "      <td>False</td>\n",
       "      <td>False</td>\n",
       "      <td>False</td>\n",
       "    </tr>\n",
       "    <tr>\n",
       "      <th>1</th>\n",
       "      <td>False</td>\n",
       "      <td>False</td>\n",
       "      <td>False</td>\n",
       "      <td>False</td>\n",
       "      <td>False</td>\n",
       "      <td>False</td>\n",
       "      <td>False</td>\n",
       "      <td>False</td>\n",
       "      <td>False</td>\n",
       "      <td>False</td>\n",
       "    </tr>\n",
       "    <tr>\n",
       "      <th>2</th>\n",
       "      <td>False</td>\n",
       "      <td>False</td>\n",
       "      <td>False</td>\n",
       "      <td>False</td>\n",
       "      <td>False</td>\n",
       "      <td>False</td>\n",
       "      <td>False</td>\n",
       "      <td>False</td>\n",
       "      <td>False</td>\n",
       "      <td>False</td>\n",
       "    </tr>\n",
       "    <tr>\n",
       "      <th>3</th>\n",
       "      <td>False</td>\n",
       "      <td>False</td>\n",
       "      <td>False</td>\n",
       "      <td>False</td>\n",
       "      <td>False</td>\n",
       "      <td>False</td>\n",
       "      <td>False</td>\n",
       "      <td>False</td>\n",
       "      <td>False</td>\n",
       "      <td>False</td>\n",
       "    </tr>\n",
       "    <tr>\n",
       "      <th>4</th>\n",
       "      <td>False</td>\n",
       "      <td>False</td>\n",
       "      <td>False</td>\n",
       "      <td>False</td>\n",
       "      <td>False</td>\n",
       "      <td>False</td>\n",
       "      <td>False</td>\n",
       "      <td>False</td>\n",
       "      <td>False</td>\n",
       "      <td>False</td>\n",
       "    </tr>\n",
       "    <tr>\n",
       "      <th>...</th>\n",
       "      <td>...</td>\n",
       "      <td>...</td>\n",
       "      <td>...</td>\n",
       "      <td>...</td>\n",
       "      <td>...</td>\n",
       "      <td>...</td>\n",
       "      <td>...</td>\n",
       "      <td>...</td>\n",
       "      <td>...</td>\n",
       "      <td>...</td>\n",
       "    </tr>\n",
       "    <tr>\n",
       "      <th>1069</th>\n",
       "      <td>False</td>\n",
       "      <td>False</td>\n",
       "      <td>False</td>\n",
       "      <td>False</td>\n",
       "      <td>False</td>\n",
       "      <td>False</td>\n",
       "      <td>False</td>\n",
       "      <td>False</td>\n",
       "      <td>False</td>\n",
       "      <td>False</td>\n",
       "    </tr>\n",
       "    <tr>\n",
       "      <th>1070</th>\n",
       "      <td>False</td>\n",
       "      <td>False</td>\n",
       "      <td>False</td>\n",
       "      <td>False</td>\n",
       "      <td>False</td>\n",
       "      <td>False</td>\n",
       "      <td>False</td>\n",
       "      <td>False</td>\n",
       "      <td>False</td>\n",
       "      <td>False</td>\n",
       "    </tr>\n",
       "    <tr>\n",
       "      <th>1071</th>\n",
       "      <td>False</td>\n",
       "      <td>False</td>\n",
       "      <td>False</td>\n",
       "      <td>False</td>\n",
       "      <td>False</td>\n",
       "      <td>False</td>\n",
       "      <td>False</td>\n",
       "      <td>False</td>\n",
       "      <td>False</td>\n",
       "      <td>False</td>\n",
       "    </tr>\n",
       "    <tr>\n",
       "      <th>1072</th>\n",
       "      <td>False</td>\n",
       "      <td>False</td>\n",
       "      <td>False</td>\n",
       "      <td>False</td>\n",
       "      <td>False</td>\n",
       "      <td>False</td>\n",
       "      <td>False</td>\n",
       "      <td>False</td>\n",
       "      <td>False</td>\n",
       "      <td>False</td>\n",
       "    </tr>\n",
       "    <tr>\n",
       "      <th>1073</th>\n",
       "      <td>False</td>\n",
       "      <td>False</td>\n",
       "      <td>False</td>\n",
       "      <td>False</td>\n",
       "      <td>False</td>\n",
       "      <td>False</td>\n",
       "      <td>False</td>\n",
       "      <td>False</td>\n",
       "      <td>False</td>\n",
       "      <td>False</td>\n",
       "    </tr>\n",
       "  </tbody>\n",
       "</table>\n",
       "<p>1074 rows × 10 columns</p>\n",
       "</div>"
      ],
      "text/plain": [
       "      Company  Valuation ($B)   Date  Industry   City  Country  Continent  \\\n",
       "0       False           False  False     False  False    False      False   \n",
       "1       False           False  False     False  False    False      False   \n",
       "2       False           False  False     False  False    False      False   \n",
       "3       False           False  False     False  False    False      False   \n",
       "4       False           False  False     False  False    False      False   \n",
       "...       ...             ...    ...       ...    ...      ...        ...   \n",
       "1069    False           False  False     False  False    False      False   \n",
       "1070    False           False  False     False  False    False      False   \n",
       "1071    False           False  False     False  False    False      False   \n",
       "1072    False           False  False     False  False    False      False   \n",
       "1073    False           False  False     False  False    False      False   \n",
       "\n",
       "      Year Founded  Funding ($B)  Investors  \n",
       "0            False         False      False  \n",
       "1            False         False      False  \n",
       "2            False         False      False  \n",
       "3            False         False      False  \n",
       "4            False         False      False  \n",
       "...            ...           ...        ...  \n",
       "1069         False         False      False  \n",
       "1070         False         False      False  \n",
       "1071         False         False      False  \n",
       "1072         False         False      False  \n",
       "1073         False         False      False  \n",
       "\n",
       "[1074 rows x 10 columns]"
      ]
     },
     "execution_count": 31,
     "metadata": {},
     "output_type": "execute_result"
    }
   ],
   "source": [
    "Unicorn_data.isnull()"
   ]
  },
  {
   "cell_type": "code",
   "execution_count": 58,
   "id": "f224c5a9",
   "metadata": {
    "scrolled": true
   },
   "outputs": [
    {
     "data": {
      "text/plain": [
       "San Francisco    152\n",
       "New York         103\n",
       "Beijing           63\n",
       "Shanghai          44\n",
       "London            34\n",
       "                ... \n",
       "Santa Barbara      1\n",
       "Altrincham         1\n",
       "Northbrook         1\n",
       "Cincinnati         1\n",
       "Milpitas           1\n",
       "Name: City, Length: 256, dtype: int64"
      ]
     },
     "execution_count": 58,
     "metadata": {},
     "output_type": "execute_result"
    }
   ],
   "source": [
    "Unicorn_data.City.value_counts()"
   ]
  },
  {
   "cell_type": "code",
   "execution_count": 59,
   "id": "e8aded5d",
   "metadata": {
    "scrolled": true
   },
   "outputs": [
    {
     "data": {
      "image/png": "[encoded data removed]",
      "text/plain": [
       "<Figure size 1000x500 with 2 Axes>"
      ]
     },
     "metadata": {},
     "output_type": "display_data"
    }
   ],
   "source": [
    "plt.figure(figsize = (10, 5))\n",
    "sns.heatmap(Unicorn_data.isnull(), cbar = True, cmap = 'magma_r')\n",
    "plt.show()"
   ]
  },
  {
   "cell_type": "markdown",
   "id": "37da71bb",
   "metadata": {},
   "source": [
    "## Unicorn Startups in Different Industry Sector in Indian"
   ]
  },
  {
   "cell_type": "code",
   "execution_count": 60,
   "id": "124bdb58",
   "metadata": {
    "scrolled": true
   },
   "outputs": [
    {
     "data": {
      "text/html": [
       "<div>\n",
       "<style scoped>\n",
       "    .dataframe tbody tr th:only-of-type {\n",
       "        vertical-align: middle;\n",
       "    }\n",
       "\n",
       "    .dataframe tbody tr th {\n",
       "        vertical-align: top;\n",
       "    }\n",
       "\n",
       "    .dataframe thead th {\n",
       "        text-align: right;\n",
       "    }\n",
       "</style>\n",
       "<table border=\"1\" class=\"dataframe\">\n",
       "  <thead>\n",
       "    <tr style=\"text-align: right;\">\n",
       "      <th></th>\n",
       "      <th>Company</th>\n",
       "      <th>Valuation ($B)</th>\n",
       "      <th>Date</th>\n",
       "      <th>Industry</th>\n",
       "      <th>City</th>\n",
       "      <th>Country</th>\n",
       "      <th>Continent</th>\n",
       "      <th>Year Founded</th>\n",
       "      <th>Funding ($B)</th>\n",
       "      <th>Investors</th>\n",
       "    </tr>\n",
       "  </thead>\n",
       "  <tbody>\n",
       "    <tr>\n",
       "      <th>15</th>\n",
       "      <td>BYJU's</td>\n",
       "      <td>22.0</td>\n",
       "      <td>2017-07-25</td>\n",
       "      <td>Edtech</td>\n",
       "      <td>Bengaluru</td>\n",
       "      <td>India</td>\n",
       "      <td>Asia</td>\n",
       "      <td>2008</td>\n",
       "      <td>4</td>\n",
       "      <td>Tencent Holdings, Lightspeed India Partners, S...</td>\n",
       "    </tr>\n",
       "    <tr>\n",
       "      <th>41</th>\n",
       "      <td>Swiggy</td>\n",
       "      <td>11.0</td>\n",
       "      <td>2018-06-21</td>\n",
       "      <td>Supply chain, logistics, &amp; delivery</td>\n",
       "      <td>Bengaluru</td>\n",
       "      <td>India</td>\n",
       "      <td>Asia</td>\n",
       "      <td>2014</td>\n",
       "      <td>5</td>\n",
       "      <td>Accel India, SAIF Partners, Norwest Venture Pa...</td>\n",
       "    </tr>\n",
       "    <tr>\n",
       "      <th>48</th>\n",
       "      <td>OYO Rooms</td>\n",
       "      <td>10.0</td>\n",
       "      <td>2018-09-25</td>\n",
       "      <td>Travel</td>\n",
       "      <td>Gurugram</td>\n",
       "      <td>India</td>\n",
       "      <td>Asia</td>\n",
       "      <td>2012</td>\n",
       "      <td>3</td>\n",
       "      <td>SoftBank Group, Sequoia Capital India,Lightspe...</td>\n",
       "    </tr>\n",
       "    <tr>\n",
       "      <th>71</th>\n",
       "      <td>Dream11</td>\n",
       "      <td>8.0</td>\n",
       "      <td>2019-04-09</td>\n",
       "      <td>Internet software &amp; services</td>\n",
       "      <td>Mumbai</td>\n",
       "      <td>India</td>\n",
       "      <td>Asia</td>\n",
       "      <td>2007</td>\n",
       "      <td>2</td>\n",
       "      <td>Kaalari Capital, Tencent Holdings, Steadview C...</td>\n",
       "    </tr>\n",
       "    <tr>\n",
       "      <th>74</th>\n",
       "      <td>Razorpay</td>\n",
       "      <td>8.0</td>\n",
       "      <td>2020-10-11</td>\n",
       "      <td>Fintech</td>\n",
       "      <td>Bengaluru</td>\n",
       "      <td>India</td>\n",
       "      <td>Asia</td>\n",
       "      <td>2013</td>\n",
       "      <td>742</td>\n",
       "      <td>Sequoia Capital India, Tiger Global Management...</td>\n",
       "    </tr>\n",
       "    <tr>\n",
       "      <th>...</th>\n",
       "      <td>...</td>\n",
       "      <td>...</td>\n",
       "      <td>...</td>\n",
       "      <td>...</td>\n",
       "      <td>...</td>\n",
       "      <td>...</td>\n",
       "      <td>...</td>\n",
       "      <td>...</td>\n",
       "      <td>...</td>\n",
       "      <td>...</td>\n",
       "    </tr>\n",
       "    <tr>\n",
       "      <th>955</th>\n",
       "      <td>Licious</td>\n",
       "      <td>1.0</td>\n",
       "      <td>2021-10-05</td>\n",
       "      <td>E-commerce &amp; direct-to-consumer</td>\n",
       "      <td>Bengaluru</td>\n",
       "      <td>India</td>\n",
       "      <td>Asia</td>\n",
       "      <td>2015</td>\n",
       "      <td>489</td>\n",
       "      <td>3one4 Capital Partners, Bertelsmann India Inve...</td>\n",
       "    </tr>\n",
       "    <tr>\n",
       "      <th>967</th>\n",
       "      <td>Mensa Brands</td>\n",
       "      <td>1.0</td>\n",
       "      <td>2021-11-16</td>\n",
       "      <td>Other</td>\n",
       "      <td>Bengaluru</td>\n",
       "      <td>India</td>\n",
       "      <td>Asia</td>\n",
       "      <td>2021</td>\n",
       "      <td>218</td>\n",
       "      <td>Accel, Falcon Edge Capital, Norwest Venture Pa...</td>\n",
       "    </tr>\n",
       "    <tr>\n",
       "      <th>981</th>\n",
       "      <td>NoBroker</td>\n",
       "      <td>1.0</td>\n",
       "      <td>2021-11-23</td>\n",
       "      <td>Internet software &amp; services</td>\n",
       "      <td>Bengaluru</td>\n",
       "      <td>India</td>\n",
       "      <td>Asia</td>\n",
       "      <td>2014</td>\n",
       "      <td>424</td>\n",
       "      <td>General Atlantic, Elevation Capital, BEENEXT</td>\n",
       "    </tr>\n",
       "    <tr>\n",
       "      <th>1026</th>\n",
       "      <td>Slice</td>\n",
       "      <td>1.0</td>\n",
       "      <td>2021-11-28</td>\n",
       "      <td>Fintech</td>\n",
       "      <td>Bengaluru</td>\n",
       "      <td>India</td>\n",
       "      <td>Asia</td>\n",
       "      <td>2015</td>\n",
       "      <td>249</td>\n",
       "      <td>Gunosy Capital, Blume Ventures, Das Capital</td>\n",
       "    </tr>\n",
       "    <tr>\n",
       "      <th>1052</th>\n",
       "      <td>Vedantu</td>\n",
       "      <td>1.0</td>\n",
       "      <td>2021-09-29</td>\n",
       "      <td>Edtech</td>\n",
       "      <td>Bengaluru</td>\n",
       "      <td>India</td>\n",
       "      <td>Asia</td>\n",
       "      <td>2014</td>\n",
       "      <td>292</td>\n",
       "      <td>Accel, Tiger Global Management, Omidyar Network</td>\n",
       "    </tr>\n",
       "  </tbody>\n",
       "</table>\n",
       "<p>65 rows × 10 columns</p>\n",
       "</div>"
      ],
      "text/plain": [
       "           Company  Valuation ($B)       Date  \\\n",
       "15          BYJU's            22.0 2017-07-25   \n",
       "41          Swiggy            11.0 2018-06-21   \n",
       "48       OYO Rooms            10.0 2018-09-25   \n",
       "71         Dream11             8.0 2019-04-09   \n",
       "74        Razorpay             8.0 2020-10-11   \n",
       "...            ...             ...        ...   \n",
       "955        Licious             1.0 2021-10-05   \n",
       "967   Mensa Brands             1.0 2021-11-16   \n",
       "981       NoBroker             1.0 2021-11-23   \n",
       "1026         Slice             1.0 2021-11-28   \n",
       "1052       Vedantu             1.0 2021-09-29   \n",
       "\n",
       "                                 Industry       City Country Continent  \\\n",
       "15                                 Edtech  Bengaluru   India      Asia   \n",
       "41    Supply chain, logistics, & delivery  Bengaluru   India      Asia   \n",
       "48                                 Travel   Gurugram   India      Asia   \n",
       "71           Internet software & services     Mumbai   India      Asia   \n",
       "74                                Fintech  Bengaluru   India      Asia   \n",
       "...                                   ...        ...     ...       ...   \n",
       "955       E-commerce & direct-to-consumer  Bengaluru   India      Asia   \n",
       "967                                 Other  Bengaluru   India      Asia   \n",
       "981          Internet software & services  Bengaluru   India      Asia   \n",
       "1026                              Fintech  Bengaluru   India      Asia   \n",
       "1052                               Edtech  Bengaluru   India      Asia   \n",
       "\n",
       "      Year Founded  Funding ($B)  \\\n",
       "15            2008             4   \n",
       "41            2014             5   \n",
       "48            2012             3   \n",
       "71            2007             2   \n",
       "74            2013           742   \n",
       "...            ...           ...   \n",
       "955           2015           489   \n",
       "967           2021           218   \n",
       "981           2014           424   \n",
       "1026          2015           249   \n",
       "1052          2014           292   \n",
       "\n",
       "                                              Investors  \n",
       "15    Tencent Holdings, Lightspeed India Partners, S...  \n",
       "41    Accel India, SAIF Partners, Norwest Venture Pa...  \n",
       "48    SoftBank Group, Sequoia Capital India,Lightspe...  \n",
       "71    Kaalari Capital, Tencent Holdings, Steadview C...  \n",
       "74    Sequoia Capital India, Tiger Global Management...  \n",
       "...                                                 ...  \n",
       "955   3one4 Capital Partners, Bertelsmann India Inve...  \n",
       "967   Accel, Falcon Edge Capital, Norwest Venture Pa...  \n",
       "981        General Atlantic, Elevation Capital, BEENEXT  \n",
       "1026        Gunosy Capital, Blume Ventures, Das Capital  \n",
       "1052    Accel, Tiger Global Management, Omidyar Network  \n",
       "\n",
       "[65 rows x 10 columns]"
      ]
     },
     "execution_count": 60,
     "metadata": {},
     "output_type": "execute_result"
    }
   ],
   "source": [
    "India = Unicorn_data[Unicorn_data['Country'] == \"India\"]\n",
    "India"
   ]
  },
  {
   "cell_type": "code",
   "execution_count": 61,
   "id": "f828a725",
   "metadata": {
    "scrolled": true
   },
   "outputs": [
    {
     "data": {
      "text/html": [
       "<div>\n",
       "<style scoped>\n",
       "    .dataframe tbody tr th:only-of-type {\n",
       "        vertical-align: middle;\n",
       "    }\n",
       "\n",
       "    .dataframe tbody tr th {\n",
       "        vertical-align: top;\n",
       "    }\n",
       "\n",
       "    .dataframe thead th {\n",
       "        text-align: right;\n",
       "    }\n",
       "</style>\n",
       "<table border=\"1\" class=\"dataframe\">\n",
       "  <thead>\n",
       "    <tr style=\"text-align: right;\">\n",
       "      <th></th>\n",
       "      <th>Company</th>\n",
       "      <th>Valuation ($B)</th>\n",
       "      <th>Date</th>\n",
       "      <th>Industry</th>\n",
       "      <th>City</th>\n",
       "      <th>Country</th>\n",
       "      <th>Continent</th>\n",
       "      <th>Year Founded</th>\n",
       "      <th>Funding ($B)</th>\n",
       "      <th>Investors</th>\n",
       "    </tr>\n",
       "  </thead>\n",
       "  <tbody>\n",
       "    <tr>\n",
       "      <th>0</th>\n",
       "      <td>Bytedance</td>\n",
       "      <td>180.0</td>\n",
       "      <td>2017-04-07</td>\n",
       "      <td>Artificial intelligence</td>\n",
       "      <td>Beijing</td>\n",
       "      <td>China</td>\n",
       "      <td>Asia</td>\n",
       "      <td>2012</td>\n",
       "      <td>8</td>\n",
       "      <td>Sequoia Capital China, SIG Asia Investments, S...</td>\n",
       "    </tr>\n",
       "    <tr>\n",
       "      <th>1</th>\n",
       "      <td>SpaceX</td>\n",
       "      <td>100.0</td>\n",
       "      <td>2012-12-01</td>\n",
       "      <td>Other</td>\n",
       "      <td>Hawthorne</td>\n",
       "      <td>United States</td>\n",
       "      <td>North America</td>\n",
       "      <td>2002</td>\n",
       "      <td>7</td>\n",
       "      <td>Founders Fund, Draper Fisher Jurvetson, Rothen...</td>\n",
       "    </tr>\n",
       "    <tr>\n",
       "      <th>2</th>\n",
       "      <td>SHEIN</td>\n",
       "      <td>100.0</td>\n",
       "      <td>2018-07-03</td>\n",
       "      <td>E-commerce &amp; direct-to-consumer</td>\n",
       "      <td>Shenzhen</td>\n",
       "      <td>China</td>\n",
       "      <td>Asia</td>\n",
       "      <td>2008</td>\n",
       "      <td>2</td>\n",
       "      <td>Tiger Global Management, Sequoia Capital China...</td>\n",
       "    </tr>\n",
       "    <tr>\n",
       "      <th>3</th>\n",
       "      <td>Stripe</td>\n",
       "      <td>95.0</td>\n",
       "      <td>2014-01-23</td>\n",
       "      <td>Fintech</td>\n",
       "      <td>San Francisco</td>\n",
       "      <td>United States</td>\n",
       "      <td>North America</td>\n",
       "      <td>2010</td>\n",
       "      <td>2</td>\n",
       "      <td>Khosla Ventures, LowercaseCapital, capitalG</td>\n",
       "    </tr>\n",
       "    <tr>\n",
       "      <th>4</th>\n",
       "      <td>Klarna</td>\n",
       "      <td>46.0</td>\n",
       "      <td>2011-12-12</td>\n",
       "      <td>Fintech</td>\n",
       "      <td>Stockholm</td>\n",
       "      <td>Sweden</td>\n",
       "      <td>Europe</td>\n",
       "      <td>2005</td>\n",
       "      <td>4</td>\n",
       "      <td>Institutional Venture Partners, Sequoia Capita...</td>\n",
       "    </tr>\n",
       "    <tr>\n",
       "      <th>...</th>\n",
       "      <td>...</td>\n",
       "      <td>...</td>\n",
       "      <td>...</td>\n",
       "      <td>...</td>\n",
       "      <td>...</td>\n",
       "      <td>...</td>\n",
       "      <td>...</td>\n",
       "      <td>...</td>\n",
       "      <td>...</td>\n",
       "      <td>...</td>\n",
       "    </tr>\n",
       "    <tr>\n",
       "      <th>754</th>\n",
       "      <td>Kuaikan Manhua</td>\n",
       "      <td>1.0</td>\n",
       "      <td>2017-12-01</td>\n",
       "      <td>Internet software &amp; services</td>\n",
       "      <td>Beijing</td>\n",
       "      <td>China</td>\n",
       "      <td>Asia</td>\n",
       "      <td>2014</td>\n",
       "      <td>594</td>\n",
       "      <td>Sequoia Capital China, CMC Capital Partners, T...</td>\n",
       "    </tr>\n",
       "    <tr>\n",
       "      <th>753</th>\n",
       "      <td>Incode Technologies</td>\n",
       "      <td>1.0</td>\n",
       "      <td>2021-12-07</td>\n",
       "      <td>Cybersecurity</td>\n",
       "      <td>San Francisco</td>\n",
       "      <td>United States</td>\n",
       "      <td>North America</td>\n",
       "      <td>2015</td>\n",
       "      <td>257</td>\n",
       "      <td>Dila Capital, Framework Ventures, 3L</td>\n",
       "    </tr>\n",
       "    <tr>\n",
       "      <th>752</th>\n",
       "      <td>Honor Technology</td>\n",
       "      <td>1.0</td>\n",
       "      <td>2021-10-05</td>\n",
       "      <td>Internet software &amp; services</td>\n",
       "      <td>San Francisco</td>\n",
       "      <td>United States</td>\n",
       "      <td>North America</td>\n",
       "      <td>2014</td>\n",
       "      <td>325</td>\n",
       "      <td>Andreessen Horowitz, Prosus Ventures, Thrive C...</td>\n",
       "    </tr>\n",
       "    <tr>\n",
       "      <th>751</th>\n",
       "      <td>Flipdish</td>\n",
       "      <td>1.0</td>\n",
       "      <td>2022-01-13</td>\n",
       "      <td>Internet software &amp; services</td>\n",
       "      <td>Dublin</td>\n",
       "      <td>Ireland</td>\n",
       "      <td>Europe</td>\n",
       "      <td>2015</td>\n",
       "      <td>157</td>\n",
       "      <td>Tencent Holdings, Tiger Global Management, Glo...</td>\n",
       "    </tr>\n",
       "    <tr>\n",
       "      <th>1073</th>\n",
       "      <td>Zwift</td>\n",
       "      <td>1.0</td>\n",
       "      <td>2020-09-16</td>\n",
       "      <td>E-commerce &amp; direct-to-consumer</td>\n",
       "      <td>Long Beach</td>\n",
       "      <td>United States</td>\n",
       "      <td>North America</td>\n",
       "      <td>2014</td>\n",
       "      <td>620</td>\n",
       "      <td>Novator Partners, True, Causeway Media Partners</td>\n",
       "    </tr>\n",
       "  </tbody>\n",
       "</table>\n",
       "<p>1074 rows × 10 columns</p>\n",
       "</div>"
      ],
      "text/plain": [
       "                  Company  Valuation ($B)       Date  \\\n",
       "0               Bytedance           180.0 2017-04-07   \n",
       "1                  SpaceX           100.0 2012-12-01   \n",
       "2                   SHEIN           100.0 2018-07-03   \n",
       "3                  Stripe            95.0 2014-01-23   \n",
       "4                  Klarna            46.0 2011-12-12   \n",
       "...                   ...             ...        ...   \n",
       "754        Kuaikan Manhua             1.0 2017-12-01   \n",
       "753   Incode Technologies             1.0 2021-12-07   \n",
       "752      Honor Technology             1.0 2021-10-05   \n",
       "751              Flipdish             1.0 2022-01-13   \n",
       "1073                Zwift             1.0 2020-09-16   \n",
       "\n",
       "                             Industry           City        Country  \\\n",
       "0             Artificial intelligence        Beijing          China   \n",
       "1                               Other      Hawthorne  United States   \n",
       "2     E-commerce & direct-to-consumer       Shenzhen          China   \n",
       "3                             Fintech  San Francisco  United States   \n",
       "4                             Fintech      Stockholm         Sweden   \n",
       "...                               ...            ...            ...   \n",
       "754      Internet software & services        Beijing          China   \n",
       "753                     Cybersecurity  San Francisco  United States   \n",
       "752      Internet software & services  San Francisco  United States   \n",
       "751      Internet software & services         Dublin        Ireland   \n",
       "1073  E-commerce & direct-to-consumer     Long Beach  United States   \n",
       "\n",
       "          Continent  Year Founded  Funding ($B)  \\\n",
       "0              Asia          2012             8   \n",
       "1     North America          2002             7   \n",
       "2              Asia          2008             2   \n",
       "3     North America          2010             2   \n",
       "4            Europe          2005             4   \n",
       "...             ...           ...           ...   \n",
       "754            Asia          2014           594   \n",
       "753   North America          2015           257   \n",
       "752   North America          2014           325   \n",
       "751          Europe          2015           157   \n",
       "1073  North America          2014           620   \n",
       "\n",
       "                                              Investors  \n",
       "0     Sequoia Capital China, SIG Asia Investments, S...  \n",
       "1     Founders Fund, Draper Fisher Jurvetson, Rothen...  \n",
       "2     Tiger Global Management, Sequoia Capital China...  \n",
       "3           Khosla Ventures, LowercaseCapital, capitalG  \n",
       "4     Institutional Venture Partners, Sequoia Capita...  \n",
       "...                                                 ...  \n",
       "754   Sequoia Capital China, CMC Capital Partners, T...  \n",
       "753                Dila Capital, Framework Ventures, 3L  \n",
       "752   Andreessen Horowitz, Prosus Ventures, Thrive C...  \n",
       "751   Tencent Holdings, Tiger Global Management, Glo...  \n",
       "1073    Novator Partners, True, Causeway Media Partners  \n",
       "\n",
       "[1074 rows x 10 columns]"
      ]
     },
     "execution_count": 61,
     "metadata": {},
     "output_type": "execute_result"
    }
   ],
   "source": [
    "company_wise_valuation = Unicorn_data.sort_values(by=\"Valuation ($B)\", ascending=False)\n",
    "company_wise_valuation.head(10)\n",
    "company_wise_valuation"
   ]
  },
  {
   "cell_type": "code",
   "execution_count": 89,
   "id": "57a793bb",
   "metadata": {},
   "outputs": [
    {
     "data": {
      "image/png": "[encoded data removed]",
      "text/plain": [
       "<Figure size 800x600 with 1 Axes>"
      ]
     },
     "metadata": {},
     "output_type": "display_data"
    }
   ],
   "source": [
    "# Define a color mapping dictionary with a default color\n",
    "color_map = {'USA': mcolors.CSS4_COLORS['blue'],\n",
    "             'China': mcolors.CSS4_COLORS['orange'],\n",
    "             'India': mcolors.CSS4_COLORS['greenyellow'],\n",
    "             'UK': mcolors.CSS4_COLORS['hotpink'],\n",
    "             'Germany': mcolors.CSS4_COLORS['gold'],\n",
    "             'South Korea': mcolors.CSS4_COLORS['mediumslateblue'],\n",
    "             'default': mcolors.CSS4_COLORS['yellow']}\n",
    "\n",
    "# Sort the data frame by valuation in descending order\n",
    "company_wise_valuation = company_wise_valuation.sort_values(by=\"Valuation ($B)\", ascending=False)\n",
    "\n",
    "# Select the top 10 startups by valuation\n",
    "top_10 = company_wise_valuation.head(10)\n",
    "\n",
    "# Convert the country names to RGBA values using the color mapping dictionary\n",
    "colors = [color_map.get(c, color_map['default']) for c in top_10['Country']]\n",
    "\n",
    "# Create a horizontal bar chart\n",
    "fig, ax = plt.subplots(figsize=(8, 6))\n",
    "ax.barh(top_10['Company'], top_10['Valuation ($B)'], color=colors)\n",
    "ax.set_xlabel('Valuation ($B)')\n",
    "ax.set_ylabel('Company')\n",
    "ax.set_title('Top 10 Startups by Valuation')\n",
    "plt.show()\n"
   ]
  },
  {
   "cell_type": "markdown",
   "id": "7d5640ff",
   "metadata": {},
   "source": [
    "## Observation\n",
    "-According to the data in our dataset, Bytedance from China has the highest valuation among startups,\n",
    "\n",
    "with a total valuation of $180B. The second most valued startup are SpaceX and SHEIN, with a \n",
    "\n",
    "valuation of $100B respectively. It's noteworthy that SpaceX joined the unicorn club in 2012 which is\n",
    "\n",
    "the fastest company to rise in terms of valuation."
   ]
  },
  {
   "cell_type": "code",
   "execution_count": 69,
   "id": "e3a41129",
   "metadata": {
    "scrolled": false
   },
   "outputs": [
    {
     "data": {
      "text/plain": [
       "San Francisco    152\n",
       "New York         103\n",
       "Beijing           63\n",
       "Shanghai          44\n",
       "London            34\n",
       "Bengaluru         29\n",
       "Shenzhen          19\n",
       "Paris             19\n",
       "Palo Alto         18\n",
       "Berlin            17\n",
       "Boston            16\n",
       "Hangzhou          16\n",
       "Chicago           16\n",
       "Mountain View     16\n",
       "Tel Aviv          11\n",
       "Name: City, dtype: int64"
      ]
     },
     "execution_count": 69,
     "metadata": {},
     "output_type": "execute_result"
    }
   ],
   "source": [
    "##Top 15 city with most Unicorn Startups\n",
    "\n",
    "top15_city = Unicorn_data.City.value_counts().head(15)\n",
    "top15_city"
   ]
  },
  {
   "cell_type": "code",
   "execution_count": 70,
   "id": "db024527",
   "metadata": {
    "scrolled": true
   },
   "outputs": [
    {
     "data": {
      "image/png": "[encoded data removed]",
      "text/plain": [
       "<Figure size 1000x500 with 1 Axes>"
      ]
     },
     "metadata": {},
     "output_type": "display_data"
    }
   ],
   "source": [
    "# visualize using bar chart\n",
    "ax = top15_city.plot(kind = 'bar', figsize = (10, 5), title = 'Top 15 city with most Unicorn Startups', xlabel = 'City', \n",
    "                       ylabel = 'Count of City', legend = False)\n",
    "\n",
    "# set x-axis tick labels and rotation\n",
    "ax.set_xticklabels(top15_city.index, rotation=45, ha='right')\n",
    "\n",
    "#annonate\n",
    "ax.bar_label(ax.containers[0], label_type = 'edge')\n",
    "\n",
    "# pad the spacing between the number and edge of the figure\n",
    "ax.margins(y = 0.1)\n",
    "\n",
    "# show the visual\n",
    "plt.show()\n"
   ]
  },
  {
   "cell_type": "markdown",
   "id": "d12946ab",
   "metadata": {},
   "source": [
    "Observation\n",
    "\n",
    "it is observed that San Francisco has the highest number of Unicorn startups with a value of 152 while Tel Aviv has 11 comapared to other Cities"
   ]
  },
  {
   "cell_type": "code",
   "execution_count": 71,
   "id": "9fb5ac5e",
   "metadata": {},
   "outputs": [
    {
     "data": {
      "text/plain": [
       "City\n",
       "Aarhus         2.0\n",
       "Aberdeen       2.0\n",
       "Alameda        3.0\n",
       "Alexandria     1.0\n",
       "Altrincham     2.0\n",
       "Ambler         1.0\n",
       "Amsterdam     19.0\n",
       "Andheri        1.0\n",
       "Arlington      1.0\n",
       "Atlanta       18.0\n",
       "Name: Valuation ($B), dtype: float64"
      ]
     },
     "execution_count": 71,
     "metadata": {},
     "output_type": "execute_result"
    }
   ],
   "source": [
    "# Top 10 City by Valuation\n",
    "top10_loc = Unicorn_data['Valuation ($B)'].groupby(Unicorn_data['City']).sum().head(10)\n",
    "top10_loc"
   ]
  },
  {
   "cell_type": "code",
   "execution_count": 35,
   "id": "4c632e9d",
   "metadata": {
    "scrolled": false
   },
   "outputs": [
    {
     "data": {
      "image/png": "[encoded data removed]",
      "text/plain": [
       "<Figure size 640x480 with 1 Axes>"
      ]
     },
     "metadata": {},
     "output_type": "display_data"
    }
   ],
   "source": [
    "# visualize the top 10 City by Valuation\n",
    "explode = (0.1, 0, 0)\n",
    "plt.pie(top10_loc, labels = top10_loc.index,  autopct = '%1.1f%%', shadow = True, startangle = 140)\n",
    "plt.title('Top 10 City with Most Valuation')\n",
    "plt.show()"
   ]
  },
  {
   "cell_type": "code",
   "execution_count": 66,
   "id": "25fb6e5c",
   "metadata": {},
   "outputs": [
    {
     "data": {
      "application/vnd.plotly.v1+json": {
       "config": {
        "plotlyServerURL": "https://plot.ly"
       },
       "data": [
        {
         "domain": {
          "x": [
           0,
           1
          ],
          "y": [
           0,
           1
          ]
         },
         "hovertemplate": "Industry=%{label}<extra></extra>",
         "labels": [
          "Artificial intelligence",
          "Other",
          "E-commerce & direct-to-consumer",
          "Fintech",
          "Fintech",
          "Internet software & services",
          "Fintech",
          "Supply chain, logistics, & delivery",
          "Consumer & retail",
          "Data management & analytics",
          "Fintech",
          "Other",
          "Fintech",
          "E-commerce & direct-to-consumer",
          "Fintech",
          "Edtech",
          "Supply chain, logistics, & delivery",
          "E-commerce & direct-to-consumer",
          "Internet software & services",
          "Edtech",
          "Fintech",
          "Internet software & services",
          "Consumer & retail",
          "E-commerce & direct-to-consumer",
          "Fintech",
          "Fintech",
          "Health",
          "E-commerce & direct-to-consumer",
          "Internet software & services",
          "Artificial intelligence",
          "Other",
          "Artificial intelligence",
          "Internet software & services",
          "Fintech",
          "E-commerce & direct-to-consumer",
          "Health",
          "Hardware",
          "Internet software & services",
          "E-commerce & direct-to-consumer",
          "Auto & transportation",
          "Auto & transportation",
          "Supply chain, logistics, & delivery",
          "Consumer & retail",
          "Hardware",
          "Fintech",
          "Data management & analytics",
          "Edtech",
          "Fintech",
          "Travel",
          "Internet software & services",
          "Internet software & services",
          "Fintech",
          "E-commerce & direct-to-consumer",
          "Fintech",
          "Internet software & services",
          "Fintech",
          "Supply chain, logistics, & delivery",
          "Internet software & services",
          "Internet software & services",
          "Internet software & services",
          "Other",
          "Fintech",
          "Travel",
          "Artificial intelligence",
          "Auto & transportation",
          "Cybersecurity",
          "E-commerce & direct-to-consumer",
          "Fintech",
          "Internet software & services",
          "Mobile & telecommunications",
          "Cybersecurity",
          "Internet software & services",
          "Hardware",
          "Cybersecurity",
          "Fintech",
          "Fintech",
          "Cybersecurity",
          "Fintech",
          "Internet software & services",
          "Health",
          "Fintech",
          "Health",
          "Fintech",
          "Supply chain, logistics, & delivery",
          "Fintech",
          "Mobile & telecommunications",
          "Consumer & retail",
          "Fintech",
          "Mobile & telecommunications",
          "Auto & transportation",
          "Internet software & services",
          "Fintech",
          "Fintech",
          "E-commerce & direct-to-consumer",
          "Artificial intelligence",
          "Artificial intelligence",
          "Travel",
          "Cybersecurity",
          "Artificial intelligence",
          "Fintech",
          "Fintech",
          "Health",
          "Other",
          "Consumer & retail",
          "Health",
          "Auto & transportation",
          "Fintech",
          "Fintech",
          "Fintech",
          "Fintech",
          "Health",
          "Data management & analytics",
          "Internet software & services",
          "E-commerce & direct-to-consumer",
          "Health",
          "Artificial intelligence",
          "Internet software & services",
          "Supply chain, logistics, & delivery",
          "Internet software & services",
          "Internet software & services",
          "Fintech",
          "E-commerce & direct-to-consumer",
          "Health",
          "Health",
          "Internet software & services",
          "Fintech",
          "Fintech",
          "Cybersecurity",
          "Internet software & services",
          "Other",
          "Internet software & services",
          "Hardware",
          "Artificial intelligence",
          "Hardware",
          "Fintech",
          "Cybersecurity",
          "Edtech",
          "E-commerce & direct-to-consumer",
          "Fintech",
          "Hardware",
          "Artificial intelligence",
          "Internet software & services",
          "Health",
          "Internet software & services",
          "Internet software & services",
          "Fintech",
          "Fintech",
          "Hardware",
          "Data management & analytics",
          "Supply chain, logistics, & delivery",
          "Artificial intelligence",
          "Health",
          "Fintech",
          "Internet software & services",
          "E-commerce & direct-to-consumer",
          "Fintech",
          "Data management & analytics",
          "Travel",
          "Artificial intelligence",
          "Mobile & telecommunications",
          "E-commerce & direct-to-consumer",
          "Auto & transportation",
          "Fintech",
          "Fintech",
          "Data management & analytics",
          "Health",
          "Auto & transportation",
          "Fintech",
          "Health",
          "Fintech",
          "Mobile & telecommunications",
          "Health",
          "Mobile & telecommunications",
          "Internet software & services",
          "E-commerce & direct-to-consumer",
          "Fintech",
          "Artificial intelligence",
          "Fintech",
          "Fintech",
          "Fintech",
          "Cybersecurity",
          "Internet software & services",
          "Hardware",
          "Internet software & services",
          "Internet software & services",
          "Artificial intelligence",
          "E-commerce & direct-to-consumer",
          "Internet software & services",
          "Internet software & services",
          "Health",
          "Internet software & services",
          "Auto & transportation",
          "Data management & analytics",
          "Edtech",
          "Internet software & services",
          "E-commerce & direct-to-consumer",
          "Cybersecurity",
          "E-commerce & direct-to-consumer",
          "Health",
          "Internet software & services",
          "Other",
          "Internet software & services",
          "E-commerce & direct-to-consumer",
          "Data management & analytics",
          "Edtech",
          "E-commerce & direct-to-consumer",
          "Fintech",
          "Internet software & services",
          "Fintech",
          "Data management & analytics",
          "Internet software & services",
          "Health",
          "Other",
          "E-commerce & direct-to-consumer",
          "Internet software & services",
          "E-commerce & direct-to-consumer",
          "Fintech",
          "Artificial intelligence",
          "Supply chain, logistics, & delivery",
          "Health",
          "Auto & transportation",
          "Internet software & services",
          "Mobile & telecommunications",
          "Internet software & services",
          "Hardware",
          "Internet software & services",
          "Mobile & telecommunications",
          "Other",
          "E-commerce & direct-to-consumer",
          "Artificial intelligence",
          "Fintech",
          "Fintech",
          "Internet software & services",
          "Internet software & services",
          "Internet software & services",
          "Data management & analytics",
          "E-commerce & direct-to-consumer",
          "Internet software & services",
          "Fintech",
          "Internet software & services",
          "Other",
          "Supply chain, logistics, & delivery",
          "E-commerce & direct-to-consumer",
          "Artificial intelligence",
          "Fintech",
          "Other",
          "Mobile & telecommunications",
          "Internet software & services",
          "Fintech",
          "Fintech",
          "Supply chain, logistics, & delivery",
          "Artificial intelligence",
          "Mobile & telecommunications",
          "Data management & analytics",
          "Cybersecurity",
          "Other",
          "Cybersecurity",
          "Cybersecurity",
          "Auto & transportation",
          "Cybersecurity",
          "Fintech",
          "E-commerce & direct-to-consumer",
          "Internet software & services",
          "Edtech",
          "Fintech",
          "E-commerce & direct-to-consumer",
          "Internet software & services",
          "Hardware",
          "Health",
          "Cybersecurity",
          "Artificial Intelligence",
          "Fintech",
          "Internet software & services",
          "Health",
          "Edtech",
          "Cybersecurity",
          "Internet software & services",
          "E-commerce & direct-to-consumer",
          "Internet software & services",
          "Internet software & services",
          "Data management & analytics",
          "Supply chain, logistics, & delivery",
          "Internet software & services",
          "Data management & analytics",
          "Data management & analytics",
          "Auto & transportation",
          "Internet software & services",
          "E-commerce & direct-to-consumer",
          "Fintech",
          "Health",
          "Internet software & services",
          "Artificial intelligence",
          "Mobile & telecommunications",
          "Other",
          "Auto & transportation",
          "Cybersecurity",
          "Fintech",
          "Supply chain, logistics, & delivery",
          "Mobile & telecommunications",
          "Cybersecurity",
          "Edtech",
          "Artificial intelligence",
          "Edtech",
          "Fintech",
          "Fintech",
          "Internet software & services",
          "Edtech",
          "Health",
          "Internet software & services",
          "E-commerce & direct-to-consumer",
          "E-commerce & direct-to-consumer",
          "Supply chain, logistics, & delivery",
          "Fintech",
          "Fintech",
          "E-commerce & direct-to-consumer",
          "Hardware",
          "Fintech",
          "E-commerce & direct-to-consumer",
          "Fintech",
          "E-commerce & direct-to-consumer",
          "E-commerce & direct-to-consumer",
          "Supply chain, logistics, & delivery",
          "Internet software & services",
          "Internet software & services",
          "Edtech",
          "Fintech",
          "Fintech",
          "Fintech",
          "Internet software & services",
          "Health",
          "Fintech",
          "Health",
          "Internet software & services",
          "Fintech",
          "Supply chain, logistics, & delivery",
          "Auto & transportation",
          "Fintech",
          "Cybersecurity",
          "Internet software & services",
          "Fintech",
          "Fintech",
          "E-commerce & direct-to-consumer",
          "Internet software & services",
          "Internet software & services",
          "Internet software & services",
          "Edtech",
          "Internet software & services",
          "Fintech",
          "Internet software & services",
          "Internet software & services",
          "E-commerce & direct-to-consumer",
          "Fintech",
          "Travel",
          "Fintech",
          "Other",
          "Internet software & services",
          "Fintech",
          "Fintech",
          "Fintech",
          "Mobile & telecommunications",
          "E-commerce & direct-to-consumer",
          "Fintech",
          "Fintech",
          "Edtech",
          "E-commerce & direct-to-consumer",
          "Auto & transportation",
          "Edtech",
          "Artificial intelligence",
          "E-commerce & direct-to-consumer",
          "Hardware",
          "Data management & analytics",
          "Fintech",
          "Fintech",
          "Consumer & retail",
          "E-commerce & direct-to-consumer",
          "Mobile & telecommunications",
          "Other",
          "Fintech",
          "Cybersecurity",
          "Other",
          "Mobile & telecommunications",
          "Health",
          "Supply chain, logistics, & delivery",
          "Internet software & services",
          "E-commerce & direct-to-consumer",
          "E-commerce & direct-to-consumer",
          "Consumer & retail",
          "Hardware",
          "Fintech",
          "Health",
          "Fintech",
          "Internet software & services",
          "Internet software & services",
          "Fintech",
          "Health",
          "Internet software & services",
          "Fintech",
          "Data management & analytics",
          "Fintech",
          "Fintech",
          "Internet software & services",
          "Data management & analytics",
          "Supply chain, logistics, & delivery",
          "Auto & transportation",
          "Cybersecurity",
          "Internet software & services",
          "Hardware",
          "Internet software & services",
          "Data management & analytics",
          "Artificial intelligence",
          "Data management & analytics",
          "Hardware",
          "Artificial Intelligence",
          "E-commerce & direct-to-consumer",
          "Fintech",
          "Internet software & services",
          "Cybersecurity",
          "Internet software & services",
          "Fintech",
          "Other",
          "Other",
          "Internet software & services",
          "Internet software & services",
          "Travel",
          "Other",
          "Supply chain, logistics, & delivery",
          "Artificial intelligence",
          "E-commerce & direct-to-consumer",
          "Internet software & services",
          "Fintech",
          "Internet software & services",
          "Internet software & services",
          "Fintech",
          "Other",
          "Auto & transportation",
          "Other",
          "Artificial intelligence",
          "Artificial intelligence",
          "Cybersecurity",
          "Auto & transportation",
          "Fintech",
          "Hardware",
          "Internet software & services",
          "Artificial Intelligence",
          "Cybersecurity",
          "Supply chain, logistics, & delivery",
          "Fintech",
          "Internet software & services",
          "Hardware",
          "Fintech",
          "Fintech",
          "Internet software & services",
          "Fintech",
          "E-commerce & direct-to-consumer",
          "Health",
          "Health",
          "Cybersecurity",
          "Fintech",
          "Internet software & services",
          "Health",
          "Other",
          "Consumer & retail",
          "Internet software & services",
          "Internet software & services",
          "Internet software & services",
          "Fintech",
          "E-commerce & direct-to-consumer",
          "Fintech",
          "Hardware",
          "Other",
          "E-commerce & direct-to-consumer",
          "Internet software & services",
          "E-commerce & direct-to-consumer",
          "Health",
          "Cybersecurity",
          "Supply chain, logistics, & delivery",
          "Artificial intelligence",
          "Artificial intelligence",
          "Consumer & retail",
          "Consumer & retail",
          "Internet software & services",
          "Data management & analytics",
          "Fintech",
          "E-commerce & direct-to-consumer",
          "Fintech",
          "Fintech",
          "Other",
          "Fintech",
          "Supply chain, logistics, & delivery",
          "Internet software & services",
          "Other",
          "Artificial intelligence",
          "Fintech",
          "Internet software & services",
          "Internet software & services",
          "E-commerce & direct-to-consumer",
          "Cybersecurity",
          "Consumer & retail",
          "Auto & transportation",
          "Fintech",
          "Artificial intelligence",
          "Fintech",
          "Internet software & services",
          "Supply chain, logistics, & delivery",
          "Internet software & services",
          "E-commerce & direct-to-consumer",
          "Other",
          "Health",
          "Other",
          "Internet software & services",
          "Artificial intelligence",
          "Hardware",
          "Health",
          "Other",
          "Mobile & telecommunications",
          "Fintech",
          "Artificial intelligence",
          "Fintech",
          "Internet software & services",
          "Auto & transportation",
          "Fintech",
          "Health",
          "Fintech",
          "Artificial Intelligence",
          "Internet software & services",
          "E-commerce & direct-to-consumer",
          "Supply chain, logistics, & delivery",
          "Fintech",
          "Internet software & services",
          "Fintech",
          "Internet software & services",
          "Artificial intelligence",
          "Fintech",
          "Fintech",
          "Fintech",
          "Fintech",
          "E-commerce & direct-to-consumer",
          "Internet software & services",
          "Fintech",
          "E-commerce & direct-to-consumer",
          "Artificial intelligence",
          "Artificial intelligence",
          "Internet software & services",
          "E-commerce & direct-to-consumer",
          "Other",
          "Mobile & telecommunications",
          "Artificial intelligence",
          "Internet software & services",
          "Auto & transportation",
          "Artificial intelligence",
          "Fintech",
          "Consumer & retail",
          "Fintech",
          "Fintech",
          "Data management & analytics",
          "Fintech",
          "Internet software & services",
          "Supply chain, logistics, & delivery",
          "Fintech",
          "Data management & analytics",
          "Data management & analytics",
          "Internet software & services",
          "Hardware",
          "Hardware",
          "Consumer & retail",
          "Artificial intelligence",
          "E-commerce & direct-to-consumer",
          "Supply chain, logistics, & delivery",
          "Internet software & services",
          "Internet software & services",
          "Cybersecurity",
          "Mobile & telecommunications",
          "Health",
          "Supply chain, logistics, & delivery",
          "Internet software & services",
          "Fintech",
          "Travel",
          "Hardware",
          "E-commerce & direct-to-consumer",
          "Fintech",
          "Internet software & services",
          "Fintech",
          "Data management & analytics",
          "Internet software & services",
          "Other",
          "Fintech",
          "Fintech",
          "Artificial intelligence",
          "Internet software & services",
          "Data management & analytics",
          "Mobile & telecommunications",
          "Health",
          "Cybersecurity",
          "Health",
          "Travel",
          "Consumer & retail",
          "Fintech",
          "Artificial intelligence",
          "Health",
          "Internet software & services",
          "E-commerce & direct-to-consumer",
          "Artificial intelligence",
          "Fintech",
          "Supply chain, logistics, & delivery",
          "Health",
          "Health",
          "Data management & analytics",
          "Mobile & telecommunications",
          "Hardware",
          "Fintech",
          "Artificial intelligence",
          "Health",
          "Auto & transportation",
          "Health",
          "E-commerce & direct-to-consumer",
          "Auto & transportation",
          "Internet software & services",
          "Artificial intelligence",
          "E-commerce & direct-to-consumer",
          "Fintech",
          "Edtech",
          "Fintech",
          "Edtech",
          "Fintech",
          "Supply chain, logistics, & delivery",
          "Internet software & services",
          "Supply chain, logistics, & delivery",
          "Supply chain, logistics, & delivery",
          "Other",
          "Mobile & telecommunications",
          "Fintech",
          "Health",
          "Other",
          "Internet software & services",
          "Edtech",
          "Internet software & services",
          "Auto & transportation",
          "Artificial Intelligence",
          "Health",
          "Other",
          "E-commerce & direct-to-consumer",
          "Fintech",
          "Mobile & telecommunications",
          "Artificial Intelligence",
          "Supply chain, logistics, & delivery",
          "Health",
          "Artificial intelligence",
          "Cybersecurity",
          "Mobile & telecommunications",
          "Fintech",
          "Internet software & services",
          "Fintech",
          "Internet software & services",
          "Supply chain, logistics, & delivery",
          "Supply chain, logistics, & delivery",
          "E-commerce & direct-to-consumer",
          "Other",
          "Auto & transportation",
          "E-commerce & direct-to-consumer",
          "Auto & transportation",
          "Consumer & retail",
          "Fintech",
          "Fintech",
          "Internet software & services",
          "Fintech",
          "Internet software & services",
          "Cybersecurity",
          "Mobile & telecommunications",
          "Fintech",
          "Health",
          "Data management & analytics",
          "E-commerce & direct-to-consumer",
          "E-commerce & direct-to-consumer",
          "Health",
          "E-commerce & direct-to-consumer",
          "Fintech",
          "Fintech",
          "Travel",
          "Consumer & retail",
          "Supply chain, logistics, & delivery",
          "Auto & transportation",
          "Cybersecurity",
          "Hardware",
          "E-commerce & direct-to-consumer",
          "Fintech",
          "Internet software & services",
          "Health",
          "Mobile & telecommunications",
          "E-commerce & direct-to-consumer",
          "Auto & transportation",
          "Health",
          "Internet software & services",
          "Internet software & services",
          "Edtech",
          "Fintech",
          "Internet software & services",
          "Internet software & services",
          "Internet software & services",
          "Data management & analytics",
          "Other",
          "Internet software & services",
          "Internet software & services",
          "E-commerce & direct-to-consumer",
          "Cybersecurity",
          "Health",
          "Health",
          "E-commerce & direct-to-consumer",
          "Cybersecurity",
          "Fintech",
          "Artificial intelligence",
          "Fintech",
          "Fintech",
          "Mobile & telecommunications",
          "Internet software & services",
          "Mobile & telecommunications",
          "Internet software & services",
          "Fintech",
          "E-commerce & direct-to-consumer",
          "Fintech",
          "Other",
          "Travel",
          "Health",
          "Fintech",
          "E-commerce & direct-to-consumer",
          "E-commerce & direct-to-consumer",
          "Health",
          "Other",
          "E-commerce & direct-to-consumer",
          "Cybersecurity",
          "Artificial intelligence",
          "Fintech",
          "Other",
          "Fintech",
          "Internet software & services",
          "Internet software & services",
          "Supply chain, logistics, & delivery",
          "Health",
          "Internet software & services",
          "Fintech",
          "Fintech",
          "Internet software & services",
          "Supply chain, logistics, & delivery",
          "Fintech",
          "Other",
          "Other",
          "Travel",
          "Data management & analytics",
          "Internet software & services",
          "Other",
          "Cybersecurity",
          "Fintech",
          "Internet software & services",
          "Internet software & services",
          "Cybersecurity",
          "Internet software & services",
          "Fintech",
          "Internet software & services",
          "Supply chain, logistics, & delivery",
          "Internet software & services",
          "Other",
          "Mobile & telecommunications",
          "Internet software & services",
          "Other",
          "Artificial intelligence",
          "Fintech",
          "Internet software & services",
          "Artificial intelligence",
          "E-commerce & direct-to-consumer",
          "Data management & analytics",
          "Fintech",
          "Fintech",
          "Internet software & services",
          "E-commerce & direct-to-consumer",
          "Internet software & services",
          "Other",
          "E-commerce & direct-to-consumer",
          "E-commerce & direct-to-consumer",
          "E-commerce & direct-to-consumer",
          "Internet software & services",
          "E-commerce & direct-to-consumer",
          "E-commerce & direct-to-consumer",
          "Internet software & services",
          "Fintech",
          "Fintech",
          "Health",
          "Fintech",
          "Data management & analytics",
          "Supply chain, logistics, & delivery",
          "Internet software & services",
          "Artificial Intelligence",
          "Internet software & services",
          "Edtech",
          "Internet software & services",
          "Supply chain, logistics, & delivery",
          "Consumer & retail",
          "Artificial intelligence",
          "Edtech",
          "Internet software & services",
          "Health",
          "Auto & transportation",
          "Data management & analytics",
          "Health",
          "Fintech",
          "Fintech",
          "Artificial intelligence",
          "Supply chain, logistics, & delivery",
          "Fintech",
          "Fintech",
          "Fintech",
          "Internet software & services",
          "Cybersecurity",
          "E-commerce & direct-to-consumer",
          "Other",
          "Fintech",
          "E-commerce & direct-to-consumer",
          "Internet software & services",
          "Cybersecurity",
          "Other",
          "Fintech",
          "Internet software & services",
          "Hardware",
          "Travel",
          "E-commerce & direct-to-consumer",
          "Fintech",
          "E-commerce & direct-to-consumer",
          "Internet software & services",
          "Edtech",
          "Data management & analytics",
          "Internet software & services",
          "E-commerce & direct-to-consumer",
          "Health",
          "Supply chain, logistics, & delivery",
          "Data management & analytics",
          "Internet software & services",
          "Fintech",
          "Mobile & telecommunications",
          "Fintech",
          "Fintech",
          "Internet software & services",
          "E-commerce & direct-to-consumer",
          "Fintech",
          "Supply chain, logistics, & delivery",
          "Other",
          "Auto & transportation",
          "Fintech",
          "Hardware",
          "Data management & analytics",
          "E-commerce & direct-to-consumer",
          "Fintech",
          "Internet software & services",
          "Mobile & telecommunications",
          "Artificial intelligence",
          "Auto & transportation",
          "Hardware",
          "Internet software & services",
          "Hardware",
          "Artificial intelligence",
          "Internet software & services",
          "Fintech",
          "Health",
          "Internet software & services",
          "Fintech",
          "Artificial intelligence",
          "Artificial Intelligence",
          "Internet software & services",
          "Cybersecurity",
          "Internet software & services",
          "Supply chain, logistics, & delivery",
          "Artificial intelligence",
          "Internet software & services",
          "Other",
          "Auto & transportation",
          "E-commerce & direct-to-consumer",
          "Artificial intelligence",
          "E-commerce & direct-to-consumer",
          "Artificial intelligence",
          "Hardware",
          "Supply chain, logistics, & delivery",
          "Artificial intelligence",
          "Cybersecurity",
          "Fintech",
          "Other",
          "Supply chain, logistics, & delivery",
          "Fintech",
          "Health",
          "Fintech",
          "Internet software & services",
          "Health",
          "Supply chain, logistics, & delivery",
          "E-commerce & direct-to-consumer",
          "Fintech",
          "Cybersecurity",
          "Data management & analytics",
          "E-commerce & direct-to-consumer",
          "Fintech",
          "Fintech",
          "Artificial Intelligence",
          "Cybersecurity",
          "Internet software & services",
          "Health",
          "E-commerce & direct-to-consumer",
          "Cybersecurity",
          "Internet software & services",
          "Data management & analytics",
          "Health",
          "Fintech",
          "Hardware",
          "Cybersecurity",
          "Other",
          "Fintech",
          "Health",
          "Cybersecurity",
          "Supply chain, logistics, & delivery",
          "Artificial intelligence",
          "Internet software & services",
          "Health",
          "Fintech",
          "Supply chain, logistics, & delivery",
          "Supply chain, logistics, & delivery",
          "Data management & analytics",
          "Fintech",
          "Mobile & telecommunications",
          "Fintech",
          "Hardware",
          "E-commerce & direct-to-consumer",
          "Fintech",
          "Internet software & services",
          "Artificial intelligence",
          "Artificial intelligence",
          "Artificial Intelligence",
          "Internet software & services",
          "Consumer & retail",
          "E-commerce & direct-to-consumer",
          "Mobile & telecommunications",
          "E-commerce & direct-to-consumer",
          "Edtech",
          "Fintech",
          "Fintech",
          "Artificial intelligence",
          "Supply chain, logistics, & delivery",
          "Other",
          "Mobile & telecommunications",
          "Fintech",
          "Artificial intelligence",
          "Fintech",
          "Data management & analytics",
          "Edtech",
          "Consumer & retail",
          "Supply chain, logistics, & delivery",
          "Edtech",
          "Consumer & retail",
          "E-commerce & direct-to-consumer",
          "Internet software & services",
          "Internet software & services",
          "Health",
          "E-commerce & direct-to-consumer",
          "Health",
          "Hardware",
          "Cybersecurity",
          "Fintech",
          "E-commerce & direct-to-consumer",
          "Mobile & telecommunications",
          "Health",
          "Fintech",
          "Health",
          "Internet software & services",
          "Artificial intelligence",
          "Other",
          "E-commerce & direct-to-consumer",
          "Data management & analytics",
          "Consumer & retail",
          "Internet software & services",
          "Artificial intelligence",
          "Internet software & services",
          "Mobile & telecommunications",
          "Internet software & services",
          "Other",
          "E-commerce & direct-to-consumer",
          "Internet software & services",
          "Internet software & services",
          "Fintech",
          "Internet software & services",
          "Cybersecurity",
          "Fintech",
          "Health",
          "Travel",
          "Internet software & services",
          "Internet software & services",
          "Hardware",
          "Health",
          "Fintech",
          "Artificial Intelligence",
          "Internet software & services",
          "Consumer & retail",
          "Internet software & services",
          "Fintech",
          "Cybersecurity",
          "E-commerce & direct-to-consumer",
          "Mobile & telecommunications",
          "Internet software & services",
          "Artificial intelligence",
          "Other",
          "Mobile & telecommunications",
          "Fintech",
          "Other",
          "Data management & analytics",
          "Edtech",
          "Internet software & services",
          "Consumer & retail",
          "Other",
          "Supply chain, logistics, & delivery",
          "Cybersecurity",
          "Other",
          "Consumer & retail",
          "Fintech",
          "E-commerce & direct-to-consumer",
          "Fintech",
          "Supply chain, logistics, & delivery",
          "Other",
          "Artificial intelligence",
          "Artificial intelligence",
          "Supply chain, logistics, & delivery",
          "Supply chain, logistics, & delivery",
          "Fintech",
          "Artificial intelligence",
          "Supply chain, logistics, & delivery",
          "Fintech",
          "Fintech",
          "Internet software & services",
          "Internet software & services",
          "Artificial intelligence",
          "Internet software & services",
          "Artificial intelligence",
          "Internet software & services",
          "Artificial intelligence",
          "Cybersecurity",
          "Fintech",
          "Mobile & telecommunications",
          "E-commerce & direct-to-consumer",
          "Artificial intelligence",
          "Hardware",
          "Internet software & services",
          "E-commerce & direct-to-consumer",
          "Health",
          "Fintech",
          "Internet software & services",
          "Artificial intelligence",
          "Fintech",
          "Health",
          "Fintech",
          "Artificial intelligence",
          "Internet software & services",
          "Edtech",
          "Internet software & services",
          "Fintech",
          "Internet software & services",
          "Travel",
          "Internet software & services",
          "Internet software & services",
          "Internet software & services",
          "Internet software & services",
          "Fintech",
          "E-commerce & direct-to-consumer",
          "Fintech",
          "Fintech",
          "Internet software & services",
          "Supply chain, logistics, & delivery",
          "Internet software & services",
          "Edtech",
          "E-commerce & direct-to-consumer",
          "E-commerce & direct-to-consumer",
          "Consumer & retail",
          "Fintech",
          "E-commerce & direct-to-consumer"
         ],
         "legendgroup": "",
         "name": "",
         "showlegend": true,
         "type": "pie"
        }
       ],
       "layout": {
        "height": 400,
        "legend": {
         "tracegroupgap": 0
        },
        "margin": {
         "t": 60
        },
        "template": {
         "data": {
          "bar": [
           {
            "error_x": {
             "color": "#2a3f5f"
            },
            "error_y": {
             "color": "#2a3f5f"
            },
            "marker": {
             "line": {
              "color": "#E5ECF6",
              "width": 0.5
             },
             "pattern": {
              "fillmode": "overlay",
              "size": 10,
              "solidity": 0.2
             }
            },
            "type": "bar"
           }
          ],
          "barpolar": [
           {
            "marker": {
             "line": {
              "color": "#E5ECF6",
              "width": 0.5
             },
             "pattern": {
              "fillmode": "overlay",
              "size": 10,
              "solidity": 0.2
             }
            },
            "type": "barpolar"
           }
          ],
          "carpet": [
           {
            "aaxis": {
             "endlinecolor": "#2a3f5f",
             "gridcolor": "white",
             "linecolor": "white",
             "minorgridcolor": "white",
             "startlinecolor": "#2a3f5f"
            },
            "baxis": {
             "endlinecolor": "#2a3f5f",
             "gridcolor": "white",
             "linecolor": "white",
             "minorgridcolor": "white",
             "startlinecolor": "#2a3f5f"
            },
            "type": "carpet"
           }
          ],
          "choropleth": [
           {
            "colorbar": {
             "outlinewidth": 0,
             "ticks": ""
            },
            "type": "choropleth"
           }
          ],
          "contour": [
           {
            "colorbar": {
             "outlinewidth": 0,
             "ticks": ""
            },
            "colorscale": [
             [
              0,
              "#0d0887"
             ],
             [
              0.1111111111111111,
              "#46039f"
             ],
             [
              0.2222222222222222,
              "#7201a8"
             ],
             [
              0.3333333333333333,
              "#9c179e"
             ],
             [
              0.4444444444444444,
              "#bd3786"
             ],
             [
              0.5555555555555556,
              "#d8576b"
             ],
             [
              0.6666666666666666,
              "#ed7953"
             ],
             [
              0.7777777777777778,
              "#fb9f3a"
             ],
             [
              0.8888888888888888,
              "#fdca26"
             ],
             [
              1,
              "#f0f921"
             ]
            ],
            "type": "contour"
           }
          ],
          "contourcarpet": [
           {
            "colorbar": {
             "outlinewidth": 0,
             "ticks": ""
            },
            "type": "contourcarpet"
           }
          ],
          "heatmap": [
           {
            "colorbar": {
             "outlinewidth": 0,
             "ticks": ""
            },
            "colorscale": [
             [
              0,
              "#0d0887"
             ],
             [
              0.1111111111111111,
              "#46039f"
             ],
             [
              0.2222222222222222,
              "#7201a8"
             ],
             [
              0.3333333333333333,
              "#9c179e"
             ],
             [
              0.4444444444444444,
              "#bd3786"
             ],
             [
              0.5555555555555556,
              "#d8576b"
             ],
             [
              0.6666666666666666,
              "#ed7953"
             ],
             [
              0.7777777777777778,
              "#fb9f3a"
             ],
             [
              0.8888888888888888,
              "#fdca26"
             ],
             [
              1,
              "#f0f921"
             ]
            ],
            "type": "heatmap"
           }
          ],
          "heatmapgl": [
           {
            "colorbar": {
             "outlinewidth": 0,
             "ticks": ""
            },
            "colorscale": [
             [
              0,
              "#0d0887"
             ],
             [
              0.1111111111111111,
              "#46039f"
             ],
             [
              0.2222222222222222,
              "#7201a8"
             ],
             [
              0.3333333333333333,
              "#9c179e"
             ],
             [
              0.4444444444444444,
              "#bd3786"
             ],
             [
              0.5555555555555556,
              "#d8576b"
             ],
             [
              0.6666666666666666,
              "#ed7953"
             ],
             [
              0.7777777777777778,
              "#fb9f3a"
             ],
             [
              0.8888888888888888,
              "#fdca26"
             ],
             [
              1,
              "#f0f921"
             ]
            ],
            "type": "heatmapgl"
           }
          ],
          "histogram": [
           {
            "marker": {
             "pattern": {
              "fillmode": "overlay",
              "size": 10,
              "solidity": 0.2
             }
            },
            "type": "histogram"
           }
          ],
          "histogram2d": [
           {
            "colorbar": {
             "outlinewidth": 0,
             "ticks": ""
            },
            "colorscale": [
             [
              0,
              "#0d0887"
             ],
             [
              0.1111111111111111,
              "#46039f"
             ],
             [
              0.2222222222222222,
              "#7201a8"
             ],
             [
              0.3333333333333333,
              "#9c179e"
             ],
             [
              0.4444444444444444,
              "#bd3786"
             ],
             [
              0.5555555555555556,
              "#d8576b"
             ],
             [
              0.6666666666666666,
              "#ed7953"
             ],
             [
              0.7777777777777778,
              "#fb9f3a"
             ],
             [
              0.8888888888888888,
              "#fdca26"
             ],
             [
              1,
              "#f0f921"
             ]
            ],
            "type": "histogram2d"
           }
          ],
          "histogram2dcontour": [
           {
            "colorbar": {
             "outlinewidth": 0,
             "ticks": ""
            },
            "colorscale": [
             [
              0,
              "#0d0887"
             ],
             [
              0.1111111111111111,
              "#46039f"
             ],
             [
              0.2222222222222222,
              "#7201a8"
             ],
             [
              0.3333333333333333,
              "#9c179e"
             ],
             [
              0.4444444444444444,
              "#bd3786"
             ],
             [
              0.5555555555555556,
              "#d8576b"
             ],
             [
              0.6666666666666666,
              "#ed7953"
             ],
             [
              0.7777777777777778,
              "#fb9f3a"
             ],
             [
              0.8888888888888888,
              "#fdca26"
             ],
             [
              1,
              "#f0f921"
             ]
            ],
            "type": "histogram2dcontour"
           }
          ],
          "mesh3d": [
           {
            "colorbar": {
             "outlinewidth": 0,
             "ticks": ""
            },
            "type": "mesh3d"
           }
          ],
          "parcoords": [
           {
            "line": {
             "colorbar": {
              "outlinewidth": 0,
              "ticks": ""
             }
            },
            "type": "parcoords"
           }
          ],
          "pie": [
           {
            "automargin": true,
            "type": "pie"
           }
          ],
          "scatter": [
           {
            "fillpattern": {
             "fillmode": "overlay",
             "size": 10,
             "solidity": 0.2
            },
            "type": "scatter"
           }
          ],
          "scatter3d": [
           {
            "line": {
             "colorbar": {
              "outlinewidth": 0,
              "ticks": ""
             }
            },
            "marker": {
             "colorbar": {
              "outlinewidth": 0,
              "ticks": ""
             }
            },
            "type": "scatter3d"
           }
          ],
          "scattercarpet": [
           {
            "marker": {
             "colorbar": {
              "outlinewidth": 0,
              "ticks": ""
             }
            },
            "type": "scattercarpet"
           }
          ],
          "scattergeo": [
           {
            "marker": {
             "colorbar": {
              "outlinewidth": 0,
              "ticks": ""
             }
            },
            "type": "scattergeo"
           }
          ],
          "scattergl": [
           {
            "marker": {
             "colorbar": {
              "outlinewidth": 0,
              "ticks": ""
             }
            },
            "type": "scattergl"
           }
          ],
          "scattermapbox": [
           {
            "marker": {
             "colorbar": {
              "outlinewidth": 0,
              "ticks": ""
             }
            },
            "type": "scattermapbox"
           }
          ],
          "scatterpolar": [
           {
            "marker": {
             "colorbar": {
              "outlinewidth": 0,
              "ticks": ""
             }
            },
            "type": "scatterpolar"
           }
          ],
          "scatterpolargl": [
           {
            "marker": {
             "colorbar": {
              "outlinewidth": 0,
              "ticks": ""
             }
            },
            "type": "scatterpolargl"
           }
          ],
          "scatterternary": [
           {
            "marker": {
             "colorbar": {
              "outlinewidth": 0,
              "ticks": ""
             }
            },
            "type": "scatterternary"
           }
          ],
          "surface": [
           {
            "colorbar": {
             "outlinewidth": 0,
             "ticks": ""
            },
            "colorscale": [
             [
              0,
              "#0d0887"
             ],
             [
              0.1111111111111111,
              "#46039f"
             ],
             [
              0.2222222222222222,
              "#7201a8"
             ],
             [
              0.3333333333333333,
              "#9c179e"
             ],
             [
              0.4444444444444444,
              "#bd3786"
             ],
             [
              0.5555555555555556,
              "#d8576b"
             ],
             [
              0.6666666666666666,
              "#ed7953"
             ],
             [
              0.7777777777777778,
              "#fb9f3a"
             ],
             [
              0.8888888888888888,
              "#fdca26"
             ],
             [
              1,
              "#f0f921"
             ]
            ],
            "type": "surface"
           }
          ],
          "table": [
           {
            "cells": {
             "fill": {
              "color": "#EBF0F8"
             },
             "line": {
              "color": "white"
             }
            },
            "header": {
             "fill": {
              "color": "#C8D4E3"
             },
             "line": {
              "color": "white"
             }
            },
            "type": "table"
           }
          ]
         },
         "layout": {
          "annotationdefaults": {
           "arrowcolor": "#2a3f5f",
           "arrowhead": 0,
           "arrowwidth": 1
          },
          "autotypenumbers": "strict",
          "coloraxis": {
           "colorbar": {
            "outlinewidth": 0,
            "ticks": ""
           }
          },
          "colorscale": {
           "diverging": [
            [
             0,
             "#8e0152"
            ],
            [
             0.1,
             "#c51b7d"
            ],
            [
             0.2,
             "#de77ae"
            ],
            [
             0.3,
             "#f1b6da"
            ],
            [
             0.4,
             "#fde0ef"
            ],
            [
             0.5,
             "#f7f7f7"
            ],
            [
             0.6,
             "#e6f5d0"
            ],
            [
             0.7,
             "#b8e186"
            ],
            [
             0.8,
             "#7fbc41"
            ],
            [
             0.9,
             "#4d9221"
            ],
            [
             1,
             "#276419"
            ]
           ],
           "sequential": [
            [
             0,
             "#0d0887"
            ],
            [
             0.1111111111111111,
             "#46039f"
            ],
            [
             0.2222222222222222,
             "#7201a8"
            ],
            [
             0.3333333333333333,
             "#9c179e"
            ],
            [
             0.4444444444444444,
             "#bd3786"
            ],
            [
             0.5555555555555556,
             "#d8576b"
            ],
            [
             0.6666666666666666,
             "#ed7953"
            ],
            [
             0.7777777777777778,
             "#fb9f3a"
            ],
            [
             0.8888888888888888,
             "#fdca26"
            ],
            [
             1,
             "#f0f921"
            ]
           ],
           "sequentialminus": [
            [
             0,
             "#0d0887"
            ],
            [
             0.1111111111111111,
             "#46039f"
            ],
            [
             0.2222222222222222,
             "#7201a8"
            ],
            [
             0.3333333333333333,
             "#9c179e"
            ],
            [
             0.4444444444444444,
             "#bd3786"
            ],
            [
             0.5555555555555556,
             "#d8576b"
            ],
            [
             0.6666666666666666,
             "#ed7953"
            ],
            [
             0.7777777777777778,
             "#fb9f3a"
            ],
            [
             0.8888888888888888,
             "#fdca26"
            ],
            [
             1,
             "#f0f921"
            ]
           ]
          },
          "colorway": [
           "#636efa",
           "#EF553B",
           "#00cc96",
           "#ab63fa",
           "#FFA15A",
           "#19d3f3",
           "#FF6692",
           "#B6E880",
           "#FF97FF",
           "#FECB52"
          ],
          "font": {
           "color": "#2a3f5f"
          },
          "geo": {
           "bgcolor": "white",
           "lakecolor": "white",
           "landcolor": "#E5ECF6",
           "showlakes": true,
           "showland": true,
           "subunitcolor": "white"
          },
          "hoverlabel": {
           "align": "left"
          },
          "hovermode": "closest",
          "mapbox": {
           "style": "light"
          },
          "paper_bgcolor": "white",
          "plot_bgcolor": "#E5ECF6",
          "polar": {
           "angularaxis": {
            "gridcolor": "white",
            "linecolor": "white",
            "ticks": ""
           },
           "bgcolor": "#E5ECF6",
           "radialaxis": {
            "gridcolor": "white",
            "linecolor": "white",
            "ticks": ""
           }
          },
          "scene": {
           "xaxis": {
            "backgroundcolor": "#E5ECF6",
            "gridcolor": "white",
            "gridwidth": 2,
            "linecolor": "white",
            "showbackground": true,
            "ticks": "",
            "zerolinecolor": "white"
           },
           "yaxis": {
            "backgroundcolor": "#E5ECF6",
            "gridcolor": "white",
            "gridwidth": 2,
            "linecolor": "white",
            "showbackground": true,
            "ticks": "",
            "zerolinecolor": "white"
           },
           "zaxis": {
            "backgroundcolor": "#E5ECF6",
            "gridcolor": "white",
            "gridwidth": 2,
            "linecolor": "white",
            "showbackground": true,
            "ticks": "",
            "zerolinecolor": "white"
           }
          },
          "shapedefaults": {
           "line": {
            "color": "#2a3f5f"
           }
          },
          "ternary": {
           "aaxis": {
            "gridcolor": "white",
            "linecolor": "white",
            "ticks": ""
           },
           "baxis": {
            "gridcolor": "white",
            "linecolor": "white",
            "ticks": ""
           },
           "bgcolor": "#E5ECF6",
           "caxis": {
            "gridcolor": "white",
            "linecolor": "white",
            "ticks": ""
           }
          },
          "title": {
           "x": 0.05
          },
          "xaxis": {
           "automargin": true,
           "gridcolor": "white",
           "linecolor": "white",
           "ticks": "",
           "title": {
            "standoff": 15
           },
           "zerolinecolor": "white",
           "zerolinewidth": 2
          },
          "yaxis": {
           "automargin": true,
           "gridcolor": "white",
           "linecolor": "white",
           "ticks": "",
           "title": {
            "standoff": 15
           },
           "zerolinecolor": "white",
           "zerolinewidth": 2
          }
         }
        },
        "title": {
         "text": "Unicorn Startups in different Industry Sectors"
        },
        "width": 800
       }
      },
      "text/html": [
       "<div>                            <div id=\"53a46a65-0c18-4e94-b3cc-0f3481fcdfc8\" class=\"plotly-graph-div\" style=\"height:400px; width:800px;\"></div>            <script type=\"text/javascript\">                require([\"plotly\"], function(Plotly) {                    window.PLOTLYENV=window.PLOTLYENV || {};                                    if (document.getElementById(\"53a46a65-0c18-4e94-b3cc-0f3481fcdfc8\")) {                    Plotly.newPlot(                        \"53a46a65-0c18-4e94-b3cc-0f3481fcdfc8\",                        [{\"domain\":{\"x\":[0.0,1.0],\"y\":[0.0,1.0]},\"hovertemplate\":\"Industry=%{label}<extra></extra>\",\"labels\":[\"Artificial intelligence\",\"Other\",\"E-commerce & direct-to-consumer\",\"Fintech\",\"Fintech\",\"Internet software & services\",\"Fintech\",\"Supply chain, logistics, & delivery\",\"Consumer & retail\",\"Data management & analytics\",\"Fintech\",\"Other\",\"Fintech\",\"E-commerce & direct-to-consumer\",\"Fintech\",\"Edtech\",\"Supply chain, logistics, & delivery\",\"E-commerce & direct-to-consumer\",\"Internet software & services\",\"Edtech\",\"Fintech\",\"Internet software & services\",\"Consumer & retail\",\"E-commerce & direct-to-consumer\",\"Fintech\",\"Fintech\",\"Health\",\"E-commerce & direct-to-consumer\",\"Internet software & services\",\"Artificial intelligence\",\"Other\",\"Artificial intelligence\",\"Internet software & services\",\"Fintech\",\"E-commerce & direct-to-consumer\",\"Health\",\"Hardware\",\"Internet software & services\",\"E-commerce & direct-to-consumer\",\"Auto & transportation\",\"Auto & transportation\",\"Supply chain, logistics, & delivery\",\"Consumer & retail\",\"Hardware\",\"Fintech\",\"Data management & analytics\",\"Edtech\",\"Fintech\",\"Travel\",\"Internet software & services\",\"Internet software & services\",\"Fintech\",\"E-commerce & direct-to-consumer\",\"Fintech\",\"Internet software & services\",\"Fintech\",\"Supply chain, logistics, & delivery\",\"Internet software & services\",\"Internet software & services\",\"Internet software & services\",\"Other\",\"Fintech\",\"Travel\",\"Artificial intelligence\",\"Auto & transportation\",\"Cybersecurity\",\"E-commerce & direct-to-consumer\",\"Fintech\",\"Internet software & services\",\"Mobile & telecommunications\",\"Cybersecurity\",\"Internet software & services\",\"Hardware\",\"Cybersecurity\",\"Fintech\",\"Fintech\",\"Cybersecurity\",\"Fintech\",\"Internet software & services\",\"Health\",\"Fintech\",\"Health\",\"Fintech\",\"Supply chain, logistics, & delivery\",\"Fintech\",\"Mobile & telecommunications\",\"Consumer & retail\",\"Fintech\",\"Mobile & telecommunications\",\"Auto & transportation\",\"Internet software & services\",\"Fintech\",\"Fintech\",\"E-commerce & direct-to-consumer\",\"Artificial intelligence\",\"Artificial intelligence\",\"Travel\",\"Cybersecurity\",\"Artificial intelligence\",\"Fintech\",\"Fintech\",\"Health\",\"Other\",\"Consumer & retail\",\"Health\",\"Auto & transportation\",\"Fintech\",\"Fintech\",\"Fintech\",\"Fintech\",\"Health\",\"Data management & analytics\",\"Internet software & services\",\"E-commerce & direct-to-consumer\",\"Health\",\"Artificial intelligence\",\"Internet software & services\",\"Supply chain, logistics, & delivery\",\"Internet software & services\",\"Internet software & services\",\"Fintech\",\"E-commerce & direct-to-consumer\",\"Health\",\"Health\",\"Internet software & services\",\"Fintech\",\"Fintech\",\"Cybersecurity\",\"Internet software & services\",\"Other\",\"Internet software & services\",\"Hardware\",\"Artificial intelligence\",\"Hardware\",\"Fintech\",\"Cybersecurity\",\"Edtech\",\"E-commerce & direct-to-consumer\",\"Fintech\",\"Hardware\",\"Artificial intelligence\",\"Internet software & services\",\"Health\",\"Internet software & services\",\"Internet software & services\",\"Fintech\",\"Fintech\",\"Hardware\",\"Data management & analytics\",\"Supply chain, logistics, & delivery\",\"Artificial intelligence\",\"Health\",\"Fintech\",\"Internet software & services\",\"E-commerce & direct-to-consumer\",\"Fintech\",\"Data management & analytics\",\"Travel\",\"Artificial intelligence\",\"Mobile & telecommunications\",\"E-commerce & direct-to-consumer\",\"Auto & transportation\",\"Fintech\",\"Fintech\",\"Data management & analytics\",\"Health\",\"Auto & transportation\",\"Fintech\",\"Health\",\"Fintech\",\"Mobile & telecommunications\",\"Health\",\"Mobile & telecommunications\",\"Internet software & services\",\"E-commerce & direct-to-consumer\",\"Fintech\",\"Artificial intelligence\",\"Fintech\",\"Fintech\",\"Fintech\",\"Cybersecurity\",\"Internet software & services\",\"Hardware\",\"Internet software & services\",\"Internet software & services\",\"Artificial intelligence\",\"E-commerce & direct-to-consumer\",\"Internet software & services\",\"Internet software & services\",\"Health\",\"Internet software & services\",\"Auto & transportation\",\"Data management & analytics\",\"Edtech\",\"Internet software & services\",\"E-commerce & direct-to-consumer\",\"Cybersecurity\",\"E-commerce & direct-to-consumer\",\"Health\",\"Internet software & services\",\"Other\",\"Internet software & services\",\"E-commerce & direct-to-consumer\",\"Data management & analytics\",\"Edtech\",\"E-commerce & direct-to-consumer\",\"Fintech\",\"Internet software & services\",\"Fintech\",\"Data management & analytics\",\"Internet software & services\",\"Health\",\"Other\",\"E-commerce & direct-to-consumer\",\"Internet software & services\",\"E-commerce & direct-to-consumer\",\"Fintech\",\"Artificial intelligence\",\"Supply chain, logistics, & delivery\",\"Health\",\"Auto & transportation\",\"Internet software & services\",\"Mobile & telecommunications\",\"Internet software & services\",\"Hardware\",\"Internet software & services\",\"Mobile & telecommunications\",\"Other\",\"E-commerce & direct-to-consumer\",\"Artificial intelligence\",\"Fintech\",\"Fintech\",\"Internet software & services\",\"Internet software & services\",\"Internet software & services\",\"Data management & analytics\",\"E-commerce & direct-to-consumer\",\"Internet software & services\",\"Fintech\",\"Internet software & services\",\"Other\",\"Supply chain, logistics, & delivery\",\"E-commerce & direct-to-consumer\",\"Artificial intelligence\",\"Fintech\",\"Other\",\"Mobile & telecommunications\",\"Internet software & services\",\"Fintech\",\"Fintech\",\"Supply chain, logistics, & delivery\",\"Artificial intelligence\",\"Mobile & telecommunications\",\"Data management & analytics\",\"Cybersecurity\",\"Other\",\"Cybersecurity\",\"Cybersecurity\",\"Auto & transportation\",\"Cybersecurity\",\"Fintech\",\"E-commerce & direct-to-consumer\",\"Internet software & services\",\"Edtech\",\"Fintech\",\"E-commerce & direct-to-consumer\",\"Internet software & services\",\"Hardware\",\"Health\",\"Cybersecurity\",\"Artificial Intelligence\",\"Fintech\",\"Internet software & services\",\"Health\",\"Edtech\",\"Cybersecurity\",\"Internet software & services\",\"E-commerce & direct-to-consumer\",\"Internet software & services\",\"Internet software & services\",\"Data management & analytics\",\"Supply chain, logistics, & delivery\",\"Internet software & services\",\"Data management & analytics\",\"Data management & analytics\",\"Auto & transportation\",\"Internet software & services\",\"E-commerce & direct-to-consumer\",\"Fintech\",\"Health\",\"Internet software & services\",\"Artificial intelligence\",\"Mobile & telecommunications\",\"Other\",\"Auto & transportation\",\"Cybersecurity\",\"Fintech\",\"Supply chain, logistics, & delivery\",\"Mobile & telecommunications\",\"Cybersecurity\",\"Edtech\",\"Artificial intelligence\",\"Edtech\",\"Fintech\",\"Fintech\",\"Internet software & services\",\"Edtech\",\"Health\",\"Internet software & services\",\"E-commerce & direct-to-consumer\",\"E-commerce & direct-to-consumer\",\"Supply chain, logistics, & delivery\",\"Fintech\",\"Fintech\",\"E-commerce & direct-to-consumer\",\"Hardware\",\"Fintech\",\"E-commerce & direct-to-consumer\",\"Fintech\",\"E-commerce & direct-to-consumer\",\"E-commerce & direct-to-consumer\",\"Supply chain, logistics, & delivery\",\"Internet software & services\",\"Internet software & services\",\"Edtech\",\"Fintech\",\"Fintech\",\"Fintech\",\"Internet software & services\",\"Health\",\"Fintech\",\"Health\",\"Internet software & services\",\"Fintech\",\"Supply chain, logistics, & delivery\",\"Auto & transportation\",\"Fintech\",\"Cybersecurity\",\"Internet software & services\",\"Fintech\",\"Fintech\",\"E-commerce & direct-to-consumer\",\"Internet software & services\",\"Internet software & services\",\"Internet software & services\",\"Edtech\",\"Internet software & services\",\"Fintech\",\"Internet software & services\",\"Internet software & services\",\"E-commerce & direct-to-consumer\",\"Fintech\",\"Travel\",\"Fintech\",\"Other\",\"Internet software & services\",\"Fintech\",\"Fintech\",\"Fintech\",\"Mobile & telecommunications\",\"E-commerce & direct-to-consumer\",\"Fintech\",\"Fintech\",\"Edtech\",\"E-commerce & direct-to-consumer\",\"Auto & transportation\",\"Edtech\",\"Artificial intelligence\",\"E-commerce & direct-to-consumer\",\"Hardware\",\"Data management & analytics\",\"Fintech\",\"Fintech\",\"Consumer & retail\",\"E-commerce & direct-to-consumer\",\"Mobile & telecommunications\",\"Other\",\"Fintech\",\"Cybersecurity\",\"Other\",\"Mobile & telecommunications\",\"Health\",\"Supply chain, logistics, & delivery\",\"Internet software & services\",\"E-commerce & direct-to-consumer\",\"E-commerce & direct-to-consumer\",\"Consumer & retail\",\"Hardware\",\"Fintech\",\"Health\",\"Fintech\",\"Internet software & services\",\"Internet software & services\",\"Fintech\",\"Health\",\"Internet software & services\",\"Fintech\",\"Data management & analytics\",\"Fintech\",\"Fintech\",\"Internet software & services\",\"Data management & analytics\",\"Supply chain, logistics, & delivery\",\"Auto & transportation\",\"Cybersecurity\",\"Internet software & services\",\"Hardware\",\"Internet software & services\",\"Data management & analytics\",\"Artificial intelligence\",\"Data management & analytics\",\"Hardware\",\"Artificial Intelligence\",\"E-commerce & direct-to-consumer\",\"Fintech\",\"Internet software & services\",\"Cybersecurity\",\"Internet software & services\",\"Fintech\",\"Other\",\"Other\",\"Internet software & services\",\"Internet software & services\",\"Travel\",\"Other\",\"Supply chain, logistics, & delivery\",\"Artificial intelligence\",\"E-commerce & direct-to-consumer\",\"Internet software & services\",\"Fintech\",\"Internet software & services\",\"Internet software & services\",\"Fintech\",\"Other\",\"Auto & transportation\",\"Other\",\"Artificial intelligence\",\"Artificial intelligence\",\"Cybersecurity\",\"Auto & transportation\",\"Fintech\",\"Hardware\",\"Internet software & services\",\"Artificial Intelligence\",\"Cybersecurity\",\"Supply chain, logistics, & delivery\",\"Fintech\",\"Internet software & services\",\"Hardware\",\"Fintech\",\"Fintech\",\"Internet software & services\",\"Fintech\",\"E-commerce & direct-to-consumer\",\"Health\",\"Health\",\"Cybersecurity\",\"Fintech\",\"Internet software & services\",\"Health\",\"Other\",\"Consumer & retail\",\"Internet software & services\",\"Internet software & services\",\"Internet software & services\",\"Fintech\",\"E-commerce & direct-to-consumer\",\"Fintech\",\"Hardware\",\"Other\",\"E-commerce & direct-to-consumer\",\"Internet software & services\",\"E-commerce & direct-to-consumer\",\"Health\",\"Cybersecurity\",\"Supply chain, logistics, & delivery\",\"Artificial intelligence\",\"Artificial intelligence\",\"Consumer & retail\",\"Consumer & retail\",\"Internet software & services\",\"Data management & analytics\",\"Fintech\",\"E-commerce & direct-to-consumer\",\"Fintech\",\"Fintech\",\"Other\",\"Fintech\",\"Supply chain, logistics, & delivery\",\"Internet software & services\",\"Other\",\"Artificial intelligence\",\"Fintech\",\"Internet software & services\",\"Internet software & services\",\"E-commerce & direct-to-consumer\",\"Cybersecurity\",\"Consumer & retail\",\"Auto & transportation\",\"Fintech\",\"Artificial intelligence\",\"Fintech\",\"Internet software & services\",\"Supply chain, logistics, & delivery\",\"Internet software & services\",\"E-commerce & direct-to-consumer\",\"Other\",\"Health\",\"Other\",\"Internet software & services\",\"Artificial intelligence\",\"Hardware\",\"Health\",\"Other\",\"Mobile & telecommunications\",\"Fintech\",\"Artificial intelligence\",\"Fintech\",\"Internet software & services\",\"Auto & transportation\",\"Fintech\",\"Health\",\"Fintech\",\"Artificial Intelligence\",\"Internet software & services\",\"E-commerce & direct-to-consumer\",\"Supply chain, logistics, & delivery\",\"Fintech\",\"Internet software & services\",\"Fintech\",\"Internet software & services\",\"Artificial intelligence\",\"Fintech\",\"Fintech\",\"Fintech\",\"Fintech\",\"E-commerce & direct-to-consumer\",\"Internet software & services\",\"Fintech\",\"E-commerce & direct-to-consumer\",\"Artificial intelligence\",\"Artificial intelligence\",\"Internet software & services\",\"E-commerce & direct-to-consumer\",\"Other\",\"Mobile & telecommunications\",\"Artificial intelligence\",\"Internet software & services\",\"Auto & transportation\",\"Artificial intelligence\",\"Fintech\",\"Consumer & retail\",\"Fintech\",\"Fintech\",\"Data management & analytics\",\"Fintech\",\"Internet software & services\",\"Supply chain, logistics, & delivery\",\"Fintech\",\"Data management & analytics\",\"Data management & analytics\",\"Internet software & services\",\"Hardware\",\"Hardware\",\"Consumer & retail\",\"Artificial intelligence\",\"E-commerce & direct-to-consumer\",\"Supply chain, logistics, & delivery\",\"Internet software & services\",\"Internet software & services\",\"Cybersecurity\",\"Mobile & telecommunications\",\"Health\",\"Supply chain, logistics, & delivery\",\"Internet software & services\",\"Fintech\",\"Travel\",\"Hardware\",\"E-commerce & direct-to-consumer\",\"Fintech\",\"Internet software & services\",\"Fintech\",\"Data management & analytics\",\"Internet software & services\",\"Other\",\"Fintech\",\"Fintech\",\"Artificial intelligence\",\"Internet software & services\",\"Data management & analytics\",\"Mobile & telecommunications\",\"Health\",\"Cybersecurity\",\"Health\",\"Travel\",\"Consumer & retail\",\"Fintech\",\"Artificial intelligence\",\"Health\",\"Internet software & services\",\"E-commerce & direct-to-consumer\",\"Artificial intelligence\",\"Fintech\",\"Supply chain, logistics, & delivery\",\"Health\",\"Health\",\"Data management & analytics\",\"Mobile & telecommunications\",\"Hardware\",\"Fintech\",\"Artificial intelligence\",\"Health\",\"Auto & transportation\",\"Health\",\"E-commerce & direct-to-consumer\",\"Auto & transportation\",\"Internet software & services\",\"Artificial intelligence\",\"E-commerce & direct-to-consumer\",\"Fintech\",\"Edtech\",\"Fintech\",\"Edtech\",\"Fintech\",\"Supply chain, logistics, & delivery\",\"Internet software & services\",\"Supply chain, logistics, & delivery\",\"Supply chain, logistics, & delivery\",\"Other\",\"Mobile & telecommunications\",\"Fintech\",\"Health\",\"Other\",\"Internet software & services\",\"Edtech\",\"Internet software & services\",\"Auto & transportation\",\"Artificial Intelligence\",\"Health\",\"Other\",\"E-commerce & direct-to-consumer\",\"Fintech\",\"Mobile & telecommunications\",\"Artificial Intelligence\",\"Supply chain, logistics, & delivery\",\"Health\",\"Artificial intelligence\",\"Cybersecurity\",\"Mobile & telecommunications\",\"Fintech\",\"Internet software & services\",\"Fintech\",\"Internet software & services\",\"Supply chain, logistics, & delivery\",\"Supply chain, logistics, & delivery\",\"E-commerce & direct-to-consumer\",\"Other\",\"Auto & transportation\",\"E-commerce & direct-to-consumer\",\"Auto & transportation\",\"Consumer & retail\",\"Fintech\",\"Fintech\",\"Internet software & services\",\"Fintech\",\"Internet software & services\",\"Cybersecurity\",\"Mobile & telecommunications\",\"Fintech\",\"Health\",\"Data management & analytics\",\"E-commerce & direct-to-consumer\",\"E-commerce & direct-to-consumer\",\"Health\",\"E-commerce & direct-to-consumer\",\"Fintech\",\"Fintech\",\"Travel\",\"Consumer & retail\",\"Supply chain, logistics, & delivery\",\"Auto & transportation\",\"Cybersecurity\",\"Hardware\",\"E-commerce & direct-to-consumer\",\"Fintech\",\"Internet software & services\",\"Health\",\"Mobile & telecommunications\",\"E-commerce & direct-to-consumer\",\"Auto & transportation\",\"Health\",\"Internet software & services\",\"Internet software & services\",\"Edtech\",\"Fintech\",\"Internet software & services\",\"Internet software & services\",\"Internet software & services\",\"Data management & analytics\",\"Other\",\"Internet software & services\",\"Internet software & services\",\"E-commerce & direct-to-consumer\",\"Cybersecurity\",\"Health\",\"Health\",\"E-commerce & direct-to-consumer\",\"Cybersecurity\",\"Fintech\",\"Artificial intelligence\",\"Fintech\",\"Fintech\",\"Mobile & telecommunications\",\"Internet software & services\",\"Mobile & telecommunications\",\"Internet software & services\",\"Fintech\",\"E-commerce & direct-to-consumer\",\"Fintech\",\"Other\",\"Travel\",\"Health\",\"Fintech\",\"E-commerce & direct-to-consumer\",\"E-commerce & direct-to-consumer\",\"Health\",\"Other\",\"E-commerce & direct-to-consumer\",\"Cybersecurity\",\"Artificial intelligence\",\"Fintech\",\"Other\",\"Fintech\",\"Internet software & services\",\"Internet software & services\",\"Supply chain, logistics, & delivery\",\"Health\",\"Internet software & services\",\"Fintech\",\"Fintech\",\"Internet software & services\",\"Supply chain, logistics, & delivery\",\"Fintech\",\"Other\",\"Other\",\"Travel\",\"Data management & analytics\",\"Internet software & services\",\"Other\",\"Cybersecurity\",\"Fintech\",\"Internet software & services\",\"Internet software & services\",\"Cybersecurity\",\"Internet software & services\",\"Fintech\",\"Internet software & services\",\"Supply chain, logistics, & delivery\",\"Internet software & services\",\"Other\",\"Mobile & telecommunications\",\"Internet software & services\",\"Other\",\"Artificial intelligence\",\"Fintech\",\"Internet software & services\",\"Artificial intelligence\",\"E-commerce & direct-to-consumer\",\"Data management & analytics\",\"Fintech\",\"Fintech\",\"Internet software & services\",\"E-commerce & direct-to-consumer\",\"Internet software & services\",\"Other\",\"E-commerce & direct-to-consumer\",\"E-commerce & direct-to-consumer\",\"E-commerce & direct-to-consumer\",\"Internet software & services\",\"E-commerce & direct-to-consumer\",\"E-commerce & direct-to-consumer\",\"Internet software & services\",\"Fintech\",\"Fintech\",\"Health\",\"Fintech\",\"Data management & analytics\",\"Supply chain, logistics, & delivery\",\"Internet software & services\",\"Artificial Intelligence\",\"Internet software & services\",\"Edtech\",\"Internet software & services\",\"Supply chain, logistics, & delivery\",\"Consumer & retail\",\"Artificial intelligence\",\"Edtech\",\"Internet software & services\",\"Health\",\"Auto & transportation\",\"Data management & analytics\",\"Health\",\"Fintech\",\"Fintech\",\"Artificial intelligence\",\"Supply chain, logistics, & delivery\",\"Fintech\",\"Fintech\",\"Fintech\",\"Internet software & services\",\"Cybersecurity\",\"E-commerce & direct-to-consumer\",\"Other\",\"Fintech\",\"E-commerce & direct-to-consumer\",\"Internet software & services\",\"Cybersecurity\",\"Other\",\"Fintech\",\"Internet software & services\",\"Hardware\",\"Travel\",\"E-commerce & direct-to-consumer\",\"Fintech\",\"E-commerce & direct-to-consumer\",\"Internet software & services\",\"Edtech\",\"Data management & analytics\",\"Internet software & services\",\"E-commerce & direct-to-consumer\",\"Health\",\"Supply chain, logistics, & delivery\",\"Data management & analytics\",\"Internet software & services\",\"Fintech\",\"Mobile & telecommunications\",\"Fintech\",\"Fintech\",\"Internet software & services\",\"E-commerce & direct-to-consumer\",\"Fintech\",\"Supply chain, logistics, & delivery\",\"Other\",\"Auto & transportation\",\"Fintech\",\"Hardware\",\"Data management & analytics\",\"E-commerce & direct-to-consumer\",\"Fintech\",\"Internet software & services\",\"Mobile & telecommunications\",\"Artificial intelligence\",\"Auto & transportation\",\"Hardware\",\"Internet software & services\",\"Hardware\",\"Artificial intelligence\",\"Internet software & services\",\"Fintech\",\"Health\",\"Internet software & services\",\"Fintech\",\"Artificial intelligence\",\"Artificial Intelligence\",\"Internet software & services\",\"Cybersecurity\",\"Internet software & services\",\"Supply chain, logistics, & delivery\",\"Artificial intelligence\",\"Internet software & services\",\"Other\",\"Auto & transportation\",\"E-commerce & direct-to-consumer\",\"Artificial intelligence\",\"E-commerce & direct-to-consumer\",\"Artificial intelligence\",\"Hardware\",\"Supply chain, logistics, & delivery\",\"Artificial intelligence\",\"Cybersecurity\",\"Fintech\",\"Other\",\"Supply chain, logistics, & delivery\",\"Fintech\",\"Health\",\"Fintech\",\"Internet software & services\",\"Health\",\"Supply chain, logistics, & delivery\",\"E-commerce & direct-to-consumer\",\"Fintech\",\"Cybersecurity\",\"Data management & analytics\",\"E-commerce & direct-to-consumer\",\"Fintech\",\"Fintech\",\"Artificial Intelligence\",\"Cybersecurity\",\"Internet software & services\",\"Health\",\"E-commerce & direct-to-consumer\",\"Cybersecurity\",\"Internet software & services\",\"Data management & analytics\",\"Health\",\"Fintech\",\"Hardware\",\"Cybersecurity\",\"Other\",\"Fintech\",\"Health\",\"Cybersecurity\",\"Supply chain, logistics, & delivery\",\"Artificial intelligence\",\"Internet software & services\",\"Health\",\"Fintech\",\"Supply chain, logistics, & delivery\",\"Supply chain, logistics, & delivery\",\"Data management & analytics\",\"Fintech\",\"Mobile & telecommunications\",\"Fintech\",\"Hardware\",\"E-commerce & direct-to-consumer\",\"Fintech\",\"Internet software & services\",\"Artificial intelligence\",\"Artificial intelligence\",\"Artificial Intelligence\",\"Internet software & services\",\"Consumer & retail\",\"E-commerce & direct-to-consumer\",\"Mobile & telecommunications\",\"E-commerce & direct-to-consumer\",\"Edtech\",\"Fintech\",\"Fintech\",\"Artificial intelligence\",\"Supply chain, logistics, & delivery\",\"Other\",\"Mobile & telecommunications\",\"Fintech\",\"Artificial intelligence\",\"Fintech\",\"Data management & analytics\",\"Edtech\",\"Consumer & retail\",\"Supply chain, logistics, & delivery\",\"Edtech\",\"Consumer & retail\",\"E-commerce & direct-to-consumer\",\"Internet software & services\",\"Internet software & services\",\"Health\",\"E-commerce & direct-to-consumer\",\"Health\",\"Hardware\",\"Cybersecurity\",\"Fintech\",\"E-commerce & direct-to-consumer\",\"Mobile & telecommunications\",\"Health\",\"Fintech\",\"Health\",\"Internet software & services\",\"Artificial intelligence\",\"Other\",\"E-commerce & direct-to-consumer\",\"Data management & analytics\",\"Consumer & retail\",\"Internet software & services\",\"Artificial intelligence\",\"Internet software & services\",\"Mobile & telecommunications\",\"Internet software & services\",\"Other\",\"E-commerce & direct-to-consumer\",\"Internet software & services\",\"Internet software & services\",\"Fintech\",\"Internet software & services\",\"Cybersecurity\",\"Fintech\",\"Health\",\"Travel\",\"Internet software & services\",\"Internet software & services\",\"Hardware\",\"Health\",\"Fintech\",\"Artificial Intelligence\",\"Internet software & services\",\"Consumer & retail\",\"Internet software & services\",\"Fintech\",\"Cybersecurity\",\"E-commerce & direct-to-consumer\",\"Mobile & telecommunications\",\"Internet software & services\",\"Artificial intelligence\",\"Other\",\"Mobile & telecommunications\",\"Fintech\",\"Other\",\"Data management & analytics\",\"Edtech\",\"Internet software & services\",\"Consumer & retail\",\"Other\",\"Supply chain, logistics, & delivery\",\"Cybersecurity\",\"Other\",\"Consumer & retail\",\"Fintech\",\"E-commerce & direct-to-consumer\",\"Fintech\",\"Supply chain, logistics, & delivery\",\"Other\",\"Artificial intelligence\",\"Artificial intelligence\",\"Supply chain, logistics, & delivery\",\"Supply chain, logistics, & delivery\",\"Fintech\",\"Artificial intelligence\",\"Supply chain, logistics, & delivery\",\"Fintech\",\"Fintech\",\"Internet software & services\",\"Internet software & services\",\"Artificial intelligence\",\"Internet software & services\",\"Artificial intelligence\",\"Internet software & services\",\"Artificial intelligence\",\"Cybersecurity\",\"Fintech\",\"Mobile & telecommunications\",\"E-commerce & direct-to-consumer\",\"Artificial intelligence\",\"Hardware\",\"Internet software & services\",\"E-commerce & direct-to-consumer\",\"Health\",\"Fintech\",\"Internet software & services\",\"Artificial intelligence\",\"Fintech\",\"Health\",\"Fintech\",\"Artificial intelligence\",\"Internet software & services\",\"Edtech\",\"Internet software & services\",\"Fintech\",\"Internet software & services\",\"Travel\",\"Internet software & services\",\"Internet software & services\",\"Internet software & services\",\"Internet software & services\",\"Fintech\",\"E-commerce & direct-to-consumer\",\"Fintech\",\"Fintech\",\"Internet software & services\",\"Supply chain, logistics, & delivery\",\"Internet software & services\",\"Edtech\",\"E-commerce & direct-to-consumer\",\"E-commerce & direct-to-consumer\",\"Consumer & retail\",\"Fintech\",\"E-commerce & direct-to-consumer\"],\"legendgroup\":\"\",\"name\":\"\",\"showlegend\":true,\"type\":\"pie\"}],                        {\"template\":{\"data\":{\"histogram2dcontour\":[{\"type\":\"histogram2dcontour\",\"colorbar\":{\"outlinewidth\":0,\"ticks\":\"\"},\"colorscale\":[[0.0,\"#0d0887\"],[0.1111111111111111,\"#46039f\"],[0.2222222222222222,\"#7201a8\"],[0.3333333333333333,\"#9c179e\"],[0.4444444444444444,\"#bd3786\"],[0.5555555555555556,\"#d8576b\"],[0.6666666666666666,\"#ed7953\"],[0.7777777777777778,\"#fb9f3a\"],[0.8888888888888888,\"#fdca26\"],[1.0,\"#f0f921\"]]}],\"choropleth\":[{\"type\":\"choropleth\",\"colorbar\":{\"outlinewidth\":0,\"ticks\":\"\"}}],\"histogram2d\":[{\"type\":\"histogram2d\",\"colorbar\":{\"outlinewidth\":0,\"ticks\":\"\"},\"colorscale\":[[0.0,\"#0d0887\"],[0.1111111111111111,\"#46039f\"],[0.2222222222222222,\"#7201a8\"],[0.3333333333333333,\"#9c179e\"],[0.4444444444444444,\"#bd3786\"],[0.5555555555555556,\"#d8576b\"],[0.6666666666666666,\"#ed7953\"],[0.7777777777777778,\"#fb9f3a\"],[0.8888888888888888,\"#fdca26\"],[1.0,\"#f0f921\"]]}],\"heatmap\":[{\"type\":\"heatmap\",\"colorbar\":{\"outlinewidth\":0,\"ticks\":\"\"},\"colorscale\":[[0.0,\"#0d0887\"],[0.1111111111111111,\"#46039f\"],[0.2222222222222222,\"#7201a8\"],[0.3333333333333333,\"#9c179e\"],[0.4444444444444444,\"#bd3786\"],[0.5555555555555556,\"#d8576b\"],[0.6666666666666666,\"#ed7953\"],[0.7777777777777778,\"#fb9f3a\"],[0.8888888888888888,\"#fdca26\"],[1.0,\"#f0f921\"]]}],\"heatmapgl\":[{\"type\":\"heatmapgl\",\"colorbar\":{\"outlinewidth\":0,\"ticks\":\"\"},\"colorscale\":[[0.0,\"#0d0887\"],[0.1111111111111111,\"#46039f\"],[0.2222222222222222,\"#7201a8\"],[0.3333333333333333,\"#9c179e\"],[0.4444444444444444,\"#bd3786\"],[0.5555555555555556,\"#d8576b\"],[0.6666666666666666,\"#ed7953\"],[0.7777777777777778,\"#fb9f3a\"],[0.8888888888888888,\"#fdca26\"],[1.0,\"#f0f921\"]]}],\"contourcarpet\":[{\"type\":\"contourcarpet\",\"colorbar\":{\"outlinewidth\":0,\"ticks\":\"\"}}],\"contour\":[{\"type\":\"contour\",\"colorbar\":{\"outlinewidth\":0,\"ticks\":\"\"},\"colorscale\":[[0.0,\"#0d0887\"],[0.1111111111111111,\"#46039f\"],[0.2222222222222222,\"#7201a8\"],[0.3333333333333333,\"#9c179e\"],[0.4444444444444444,\"#bd3786\"],[0.5555555555555556,\"#d8576b\"],[0.6666666666666666,\"#ed7953\"],[0.7777777777777778,\"#fb9f3a\"],[0.8888888888888888,\"#fdca26\"],[1.0,\"#f0f921\"]]}],\"surface\":[{\"type\":\"surface\",\"colorbar\":{\"outlinewidth\":0,\"ticks\":\"\"},\"colorscale\":[[0.0,\"#0d0887\"],[0.1111111111111111,\"#46039f\"],[0.2222222222222222,\"#7201a8\"],[0.3333333333333333,\"#9c179e\"],[0.4444444444444444,\"#bd3786\"],[0.5555555555555556,\"#d8576b\"],[0.6666666666666666,\"#ed7953\"],[0.7777777777777778,\"#fb9f3a\"],[0.8888888888888888,\"#fdca26\"],[1.0,\"#f0f921\"]]}],\"mesh3d\":[{\"type\":\"mesh3d\",\"colorbar\":{\"outlinewidth\":0,\"ticks\":\"\"}}],\"scatter\":[{\"fillpattern\":{\"fillmode\":\"overlay\",\"size\":10,\"solidity\":0.2},\"type\":\"scatter\"}],\"parcoords\":[{\"type\":\"parcoords\",\"line\":{\"colorbar\":{\"outlinewidth\":0,\"ticks\":\"\"}}}],\"scatterpolargl\":[{\"type\":\"scatterpolargl\",\"marker\":{\"colorbar\":{\"outlinewidth\":0,\"ticks\":\"\"}}}],\"bar\":[{\"error_x\":{\"color\":\"#2a3f5f\"},\"error_y\":{\"color\":\"#2a3f5f\"},\"marker\":{\"line\":{\"color\":\"#E5ECF6\",\"width\":0.5},\"pattern\":{\"fillmode\":\"overlay\",\"size\":10,\"solidity\":0.2}},\"type\":\"bar\"}],\"scattergeo\":[{\"type\":\"scattergeo\",\"marker\":{\"colorbar\":{\"outlinewidth\":0,\"ticks\":\"\"}}}],\"scatterpolar\":[{\"type\":\"scatterpolar\",\"marker\":{\"colorbar\":{\"outlinewidth\":0,\"ticks\":\"\"}}}],\"histogram\":[{\"marker\":{\"pattern\":{\"fillmode\":\"overlay\",\"size\":10,\"solidity\":0.2}},\"type\":\"histogram\"}],\"scattergl\":[{\"type\":\"scattergl\",\"marker\":{\"colorbar\":{\"outlinewidth\":0,\"ticks\":\"\"}}}],\"scatter3d\":[{\"type\":\"scatter3d\",\"line\":{\"colorbar\":{\"outlinewidth\":0,\"ticks\":\"\"}},\"marker\":{\"colorbar\":{\"outlinewidth\":0,\"ticks\":\"\"}}}],\"scattermapbox\":[{\"type\":\"scattermapbox\",\"marker\":{\"colorbar\":{\"outlinewidth\":0,\"ticks\":\"\"}}}],\"scatterternary\":[{\"type\":\"scatterternary\",\"marker\":{\"colorbar\":{\"outlinewidth\":0,\"ticks\":\"\"}}}],\"scattercarpet\":[{\"type\":\"scattercarpet\",\"marker\":{\"colorbar\":{\"outlinewidth\":0,\"ticks\":\"\"}}}],\"carpet\":[{\"aaxis\":{\"endlinecolor\":\"#2a3f5f\",\"gridcolor\":\"white\",\"linecolor\":\"white\",\"minorgridcolor\":\"white\",\"startlinecolor\":\"#2a3f5f\"},\"baxis\":{\"endlinecolor\":\"#2a3f5f\",\"gridcolor\":\"white\",\"linecolor\":\"white\",\"minorgridcolor\":\"white\",\"startlinecolor\":\"#2a3f5f\"},\"type\":\"carpet\"}],\"table\":[{\"cells\":{\"fill\":{\"color\":\"#EBF0F8\"},\"line\":{\"color\":\"white\"}},\"header\":{\"fill\":{\"color\":\"#C8D4E3\"},\"line\":{\"color\":\"white\"}},\"type\":\"table\"}],\"barpolar\":[{\"marker\":{\"line\":{\"color\":\"#E5ECF6\",\"width\":0.5},\"pattern\":{\"fillmode\":\"overlay\",\"size\":10,\"solidity\":0.2}},\"type\":\"barpolar\"}],\"pie\":[{\"automargin\":true,\"type\":\"pie\"}]},\"layout\":{\"autotypenumbers\":\"strict\",\"colorway\":[\"#636efa\",\"#EF553B\",\"#00cc96\",\"#ab63fa\",\"#FFA15A\",\"#19d3f3\",\"#FF6692\",\"#B6E880\",\"#FF97FF\",\"#FECB52\"],\"font\":{\"color\":\"#2a3f5f\"},\"hovermode\":\"closest\",\"hoverlabel\":{\"align\":\"left\"},\"paper_bgcolor\":\"white\",\"plot_bgcolor\":\"#E5ECF6\",\"polar\":{\"bgcolor\":\"#E5ECF6\",\"angularaxis\":{\"gridcolor\":\"white\",\"linecolor\":\"white\",\"ticks\":\"\"},\"radialaxis\":{\"gridcolor\":\"white\",\"linecolor\":\"white\",\"ticks\":\"\"}},\"ternary\":{\"bgcolor\":\"#E5ECF6\",\"aaxis\":{\"gridcolor\":\"white\",\"linecolor\":\"white\",\"ticks\":\"\"},\"baxis\":{\"gridcolor\":\"white\",\"linecolor\":\"white\",\"ticks\":\"\"},\"caxis\":{\"gridcolor\":\"white\",\"linecolor\":\"white\",\"ticks\":\"\"}},\"coloraxis\":{\"colorbar\":{\"outlinewidth\":0,\"ticks\":\"\"}},\"colorscale\":{\"sequential\":[[0.0,\"#0d0887\"],[0.1111111111111111,\"#46039f\"],[0.2222222222222222,\"#7201a8\"],[0.3333333333333333,\"#9c179e\"],[0.4444444444444444,\"#bd3786\"],[0.5555555555555556,\"#d8576b\"],[0.6666666666666666,\"#ed7953\"],[0.7777777777777778,\"#fb9f3a\"],[0.8888888888888888,\"#fdca26\"],[1.0,\"#f0f921\"]],\"sequentialminus\":[[0.0,\"#0d0887\"],[0.1111111111111111,\"#46039f\"],[0.2222222222222222,\"#7201a8\"],[0.3333333333333333,\"#9c179e\"],[0.4444444444444444,\"#bd3786\"],[0.5555555555555556,\"#d8576b\"],[0.6666666666666666,\"#ed7953\"],[0.7777777777777778,\"#fb9f3a\"],[0.8888888888888888,\"#fdca26\"],[1.0,\"#f0f921\"]],\"diverging\":[[0,\"#8e0152\"],[0.1,\"#c51b7d\"],[0.2,\"#de77ae\"],[0.3,\"#f1b6da\"],[0.4,\"#fde0ef\"],[0.5,\"#f7f7f7\"],[0.6,\"#e6f5d0\"],[0.7,\"#b8e186\"],[0.8,\"#7fbc41\"],[0.9,\"#4d9221\"],[1,\"#276419\"]]},\"xaxis\":{\"gridcolor\":\"white\",\"linecolor\":\"white\",\"ticks\":\"\",\"title\":{\"standoff\":15},\"zerolinecolor\":\"white\",\"automargin\":true,\"zerolinewidth\":2},\"yaxis\":{\"gridcolor\":\"white\",\"linecolor\":\"white\",\"ticks\":\"\",\"title\":{\"standoff\":15},\"zerolinecolor\":\"white\",\"automargin\":true,\"zerolinewidth\":2},\"scene\":{\"xaxis\":{\"backgroundcolor\":\"#E5ECF6\",\"gridcolor\":\"white\",\"linecolor\":\"white\",\"showbackground\":true,\"ticks\":\"\",\"zerolinecolor\":\"white\",\"gridwidth\":2},\"yaxis\":{\"backgroundcolor\":\"#E5ECF6\",\"gridcolor\":\"white\",\"linecolor\":\"white\",\"showbackground\":true,\"ticks\":\"\",\"zerolinecolor\":\"white\",\"gridwidth\":2},\"zaxis\":{\"backgroundcolor\":\"#E5ECF6\",\"gridcolor\":\"white\",\"linecolor\":\"white\",\"showbackground\":true,\"ticks\":\"\",\"zerolinecolor\":\"white\",\"gridwidth\":2}},\"shapedefaults\":{\"line\":{\"color\":\"#2a3f5f\"}},\"annotationdefaults\":{\"arrowcolor\":\"#2a3f5f\",\"arrowhead\":0,\"arrowwidth\":1},\"geo\":{\"bgcolor\":\"white\",\"landcolor\":\"#E5ECF6\",\"subunitcolor\":\"white\",\"showland\":true,\"showlakes\":true,\"lakecolor\":\"white\"},\"title\":{\"x\":0.05},\"mapbox\":{\"style\":\"light\"}}},\"legend\":{\"tracegroupgap\":0},\"margin\":{\"t\":60},\"title\":{\"text\":\"Unicorn Startups in different Industry Sectors\"},\"height\":400,\"width\":800},                        {\"responsive\": true}                    ).then(function(){\n",
       "                            \n",
       "var gd = document.getElementById('53a46a65-0c18-4e94-b3cc-0f3481fcdfc8');\n",
       "var x = new MutationObserver(function (mutations, observer) {{\n",
       "        var display = window.getComputedStyle(gd).display;\n",
       "        if (!display || display === 'none') {{\n",
       "            console.log([gd, 'removed!']);\n",
       "            Plotly.purge(gd);\n",
       "            observer.disconnect();\n",
       "        }}\n",
       "}});\n",
       "\n",
       "// Listen for the removal of the full notebook cells\n",
       "var notebookContainer = gd.closest('#notebook-container');\n",
       "if (notebookContainer) {{\n",
       "    x.observe(notebookContainer, {childList: true});\n",
       "}}\n",
       "\n",
       "// Listen for the clearing of the current output cell\n",
       "var outputEl = gd.closest('.output');\n",
       "if (outputEl) {{\n",
       "    x.observe(outputEl, {childList: true});\n",
       "}}\n",
       "\n",
       "                        })                };                });            </script>        </div>"
      ]
     },
     "metadata": {},
     "output_type": "display_data"
    }
   ],
   "source": [
    "### Unicorn Startups in different Industry Sector\n",
    "\n",
    "fig = px.pie(Unicorn_data, names ='Industry')\n",
    "fig.update_layout(title=\"Unicorn Startups in different Industry Sectors\",height=400,width=800)\n",
    "fig.show()\n"
   ]
  },
  {
   "cell_type": "markdown",
   "id": "9fde8ac4",
   "metadata": {},
   "source": [
    "observation\n",
    "\n",
    "it is observed that Internet software & services has the highest number of Unicorn Startups in the Industry with a value of 24.1%, while Artificial intelligence has 1.29% compared to others."
   ]
  },
  {
   "cell_type": "code",
   "execution_count": 67,
   "id": "bd72e36b",
   "metadata": {},
   "outputs": [
    {
     "data": {
      "text/html": [
       "<div>\n",
       "<style scoped>\n",
       "    .dataframe tbody tr th:only-of-type {\n",
       "        vertical-align: middle;\n",
       "    }\n",
       "\n",
       "    .dataframe tbody tr th {\n",
       "        vertical-align: top;\n",
       "    }\n",
       "\n",
       "    .dataframe thead th {\n",
       "        text-align: right;\n",
       "    }\n",
       "</style>\n",
       "<table border=\"1\" class=\"dataframe\">\n",
       "  <thead>\n",
       "    <tr style=\"text-align: right;\">\n",
       "      <th></th>\n",
       "      <th>Valuation ($B)</th>\n",
       "      <th>Year Founded</th>\n",
       "      <th>Funding ($B)</th>\n",
       "    </tr>\n",
       "  </thead>\n",
       "  <tbody>\n",
       "    <tr>\n",
       "      <th>count</th>\n",
       "      <td>1074.000000</td>\n",
       "      <td>1074.000000</td>\n",
       "      <td>1074.000000</td>\n",
       "    </tr>\n",
       "    <tr>\n",
       "      <th>mean</th>\n",
       "      <td>3.455307</td>\n",
       "      <td>2012.895717</td>\n",
       "      <td>334.313780</td>\n",
       "    </tr>\n",
       "    <tr>\n",
       "      <th>std</th>\n",
       "      <td>8.547022</td>\n",
       "      <td>5.698573</td>\n",
       "      <td>238.665354</td>\n",
       "    </tr>\n",
       "    <tr>\n",
       "      <th>min</th>\n",
       "      <td>1.000000</td>\n",
       "      <td>1919.000000</td>\n",
       "      <td>0.000000</td>\n",
       "    </tr>\n",
       "    <tr>\n",
       "      <th>25%</th>\n",
       "      <td>1.000000</td>\n",
       "      <td>2011.000000</td>\n",
       "      <td>161.000000</td>\n",
       "    </tr>\n",
       "    <tr>\n",
       "      <th>50%</th>\n",
       "      <td>2.000000</td>\n",
       "      <td>2014.000000</td>\n",
       "      <td>299.000000</td>\n",
       "    </tr>\n",
       "    <tr>\n",
       "      <th>75%</th>\n",
       "      <td>3.000000</td>\n",
       "      <td>2016.000000</td>\n",
       "      <td>488.500000</td>\n",
       "    </tr>\n",
       "    <tr>\n",
       "      <th>max</th>\n",
       "      <td>180.000000</td>\n",
       "      <td>2021.000000</td>\n",
       "      <td>999.000000</td>\n",
       "    </tr>\n",
       "  </tbody>\n",
       "</table>\n",
       "</div>"
      ],
      "text/plain": [
       "       Valuation ($B)  Year Founded  Funding ($B)\n",
       "count     1074.000000   1074.000000   1074.000000\n",
       "mean         3.455307   2012.895717    334.313780\n",
       "std          8.547022      5.698573    238.665354\n",
       "min          1.000000   1919.000000      0.000000\n",
       "25%          1.000000   2011.000000    161.000000\n",
       "50%          2.000000   2014.000000    299.000000\n",
       "75%          3.000000   2016.000000    488.500000\n",
       "max        180.000000   2021.000000    999.000000"
      ]
     },
     "execution_count": 67,
     "metadata": {},
     "output_type": "execute_result"
    }
   ],
   "source": [
    "# statistical descriptive analysis of the numerical features\n",
    "Unicorn_data.describe()"
   ]
  },
  {
   "cell_type": "code",
   "execution_count": 69,
   "id": "f233aa35",
   "metadata": {},
   "outputs": [
    {
     "data": {
      "text/plain": [
       "Continent\n",
       "Africa              5.0\n",
       "South America      48.0\n",
       "Oceania            56.0\n",
       "Europe            503.0\n",
       "Asia             1067.0\n",
       "North America    2032.0\n",
       "Name: Valuation ($B), dtype: float64"
      ]
     },
     "execution_count": 69,
     "metadata": {},
     "output_type": "execute_result"
    }
   ],
   "source": [
    "# which Continent received the highest Valuation\n",
    "ctn_vol = Unicorn_data['Valuation ($B)'].groupby(Unicorn_data.Continent).sum().sort_values()\n",
    "ctn_vol"
   ]
  },
  {
   "cell_type": "code",
   "execution_count": 70,
   "id": "ed92f059",
   "metadata": {
    "scrolled": false
   },
   "outputs": [
    {
     "data": {
      "image/png": "[encoded data removed]",
      "text/plain": [
       "<Figure size 1000x500 with 1 Axes>"
      ]
     },
     "metadata": {},
     "output_type": "display_data"
    }
   ],
   "source": [
    "# visualize using bar chart\n",
    "ax = ctn_vol.plot(kind = 'barh', figsize = (10, 5), title = 'Continent with highest Valuation', ylabel = 'count of Valuation', \n",
    "                       xlabel = 'Continent', legend = False)\n",
    "#annonate\n",
    "ax.bar_label(ax.containers[0], label_type = 'edge')\n",
    "\n",
    "# pad the spacing between the number and edge of the figure\n",
    "ax.margins(y = 0.1)\n",
    "\n",
    "# show the visual\n",
    "plt.show()\n"
   ]
  },
  {
   "cell_type": "markdown",
   "id": "439017e3",
   "metadata": {},
   "source": [
    "## observation\n",
    "it is observed that North American has the highest value of Valuation with a value of $2032B while Africa has $5B comapared to other Continent"
   ]
  },
  {
   "cell_type": "code",
   "execution_count": 71,
   "id": "007143b2",
   "metadata": {},
   "outputs": [
    {
     "data": {
      "text/plain": [
       "Industry\n",
       "Artificial Intelligence                  3.0\n",
       "Cybersecurity                            9.0\n",
       "Mobile & telecommunications              9.0\n",
       "Travel                                  10.0\n",
       "Auto & transportation                   11.0\n",
       "Hardware                                12.0\n",
       "Health                                  13.0\n",
       "Edtech                                  22.0\n",
       "Consumer & retail                       38.0\n",
       "Data management & analytics             38.0\n",
       "Supply chain, logistics, & delivery     39.0\n",
       "Internet software & services            40.0\n",
       "Fintech                                 95.0\n",
       "E-commerce & direct-to-consumer        100.0\n",
       "Other                                  100.0\n",
       "Artificial intelligence                180.0\n",
       "Name: Valuation ($B), dtype: float64"
      ]
     },
     "execution_count": 71,
     "metadata": {},
     "output_type": "execute_result"
    }
   ],
   "source": [
    "# which industry received the highest Valuation \n",
    "max_Ind = Unicorn_data['Valuation ($B)'].groupby(Unicorn_data['Industry']).max().sort_values()\n",
    "max_Ind"
   ]
  },
  {
   "cell_type": "code",
   "execution_count": 72,
   "id": "4bb494c5",
   "metadata": {},
   "outputs": [
    {
     "data": {
      "image/png": "[encoded data removed]",
      "text/plain": [
       "<Figure size 1200x600 with 1 Axes>"
      ]
     },
     "metadata": {},
     "output_type": "display_data"
    }
   ],
   "source": [
    "# visualize using bar chart\n",
    "ax = max_Ind.plot(kind = 'bar', figsize = (12, 6), title = 'Industry with highest valuation', ylabel = 'Valuation ($B)', \n",
    "                       xlabel = 'Industry', legend = False)\n",
    "\n",
    "# set x-axis tick labels and rotation\n",
    "ax.set_xticklabels(max_Ind.index, rotation=45, ha='right')\n",
    "\n",
    "# annonate\n",
    "ax.bar_label(ax.containers[0], label_type = 'edge')\n",
    "\n",
    "# pad the spacing between the number and edge of the figure\n",
    "ax.margins(y = 0.1)\n",
    "\n",
    "# show the visual\n",
    "plt.show()"
   ]
  },
  {
   "cell_type": "markdown",
   "id": "f0c41b32",
   "metadata": {},
   "source": [
    "### Observation\n",
    "\n",
    "-Artificial intelligence is the highest valued with a  valuation of $180B followed\n",
    "\n",
    "by other and E-commerce & direct-to-consumer with a value of $100B  and  $100B respectively compared to others.\n"
   ]
  },
  {
   "cell_type": "code",
   "execution_count": 73,
   "id": "c6d25816",
   "metadata": {
    "scrolled": true
   },
   "outputs": [
    {
     "data": {
      "text/plain": [
       "City\n",
       "Aarhus      2.0\n",
       "Aberdeen    2.0\n",
       "Alameda     3.0\n",
       "Name: Valuation ($B), dtype: float64"
      ]
     },
     "execution_count": 73,
     "metadata": {},
     "output_type": "execute_result"
    }
   ],
   "source": [
    "# Top 3 City by Valuation\n",
    "top3_cit = Unicorn_data['Valuation ($B)'].groupby(Unicorn_data['City']).sum().head(3)\n",
    "top3_cit"
   ]
  },
  {
   "cell_type": "code",
   "execution_count": 74,
   "id": "9eb66904",
   "metadata": {
    "scrolled": true
   },
   "outputs": [
    {
     "data": {
      "image/png": "[encoded data removed]",
      "text/plain": [
       "<Figure size 640x480 with 1 Axes>"
      ]
     },
     "metadata": {},
     "output_type": "display_data"
    }
   ],
   "source": [
    "# visualize top 3 City by Valuation\n",
    "explode = (0.1, 0, 0)\n",
    "plt.pie(top3_cit, labels = top3_cit.index,  autopct = '%1.1f%%', shadow = True, startangle = 140)\n",
    "plt.title('Top 3  City with Most Valuation')\n",
    "plt.show()"
   ]
  },
  {
   "cell_type": "markdown",
   "id": "03439eaf",
   "metadata": {},
   "source": [
    "observation\n",
    "\n",
    "\n",
    "it is observed that Alameda has the highest value of Valuation in terms of percentage wise of 42.9%, whiles  Aarhus and Aberdeen have 28.6% respectively."
   ]
  },
  {
   "cell_type": "code",
   "execution_count": 75,
   "id": "a7909c93",
   "metadata": {},
   "outputs": [
    {
     "name": "stderr",
     "output_type": "stream",
     "text": [
      "C:\\Users\\BAB AL SAFA\\AppData\\Local\\Temp\\ipykernel_16680\\2859981858.py:2: FutureWarning:\n",
      "\n",
      "The default value of numeric_only in DataFrameGroupBy.sum is deprecated. In a future version, numeric_only will default to False. Either specify numeric_only or select only columns which should be valid for the function.\n",
      "\n"
     ]
    },
    {
     "data": {
      "text/plain": [
       "City\n",
       "San Francisco    724.0\n",
       "Beijing          348.0\n",
       "New York         233.0\n",
       "Name: Valuation ($B), dtype: float64"
      ]
     },
     "execution_count": 75,
     "metadata": {},
     "output_type": "execute_result"
    }
   ],
   "source": [
    "## top 3 cities with the highest total valuation\n",
    "top3_cit = Unicorn_data.groupby('City').sum().sort_values(by='Valuation ($B)', ascending=False).head(3)['Valuation ($B)']\n",
    "top3_cit\n"
   ]
  },
  {
   "cell_type": "code",
   "execution_count": 76,
   "id": "b414b71e",
   "metadata": {},
   "outputs": [
    {
     "data": {
      "image/png": "[encoded data removed]",
      "text/plain": [
       "<Figure size 640x480 with 1 Axes>"
      ]
     },
     "metadata": {},
     "output_type": "display_data"
    }
   ],
   "source": [
    "# visualize top 3 City by Valuation\n",
    "explode = (0.1, 0, 0)\n",
    "plt.pie(top3_cit, labels = top3_cit.index,  autopct = '%1.1f%%', shadow = True, startangle = 140)\n",
    "plt.title('top 3 cities with the highest total valuation')\n",
    "plt.show()"
   ]
  },
  {
   "cell_type": "code",
   "execution_count": 77,
   "id": "31ec8091",
   "metadata": {
    "scrolled": true
   },
   "outputs": [
    {
     "data": {
      "text/plain": [
       "City\n",
       "Zhuhai         5.0\n",
       "Zephyr Cove    2.0\n",
       "Zurich         2.0\n",
       "Name: Valuation ($B), dtype: float64"
      ]
     },
     "execution_count": 77,
     "metadata": {},
     "output_type": "execute_result"
    }
   ],
   "source": [
    "# Bottom 3 City by valuation\n",
    "bot3_cit = Unicorn_data['Valuation ($B)'].groupby(Unicorn_data['City']).sum().tail(3).sort_values(ascending = False)\n",
    "bot3_cit"
   ]
  },
  {
   "cell_type": "code",
   "execution_count": 78,
   "id": "2dacb5e5",
   "metadata": {
    "scrolled": true
   },
   "outputs": [
    {
     "data": {
      "image/png": "[encoded data removed]",
      "text/plain": [
       "<Figure size 500x500 with 1 Axes>"
      ]
     },
     "metadata": {},
     "output_type": "display_data"
    }
   ],
   "source": [
    "# using donut chart to visualize the bottom location\n",
    "explode = (0.01, 0.01, 0.01)\n",
    "\n",
    "# create a new figure with a size of (6, 6)\n",
    "\n",
    "plt.figure(figsize=(5, 5))\n",
    "\n",
    "# draw the pie chart\n",
    "plt.pie(bot3_cit, labels = bot3_cit.index,  autopct = '%1.1f%%', pctdistance = 0.85, explode = explode)\n",
    "\n",
    "# draw a circle\n",
    "centre_circle = plt.Circle((0,0), 0.70, fc = 'white')\n",
    "fig = plt.gcf()\n",
    "\n",
    "# Adding the circle\n",
    "fig.gca().add_artist(centre_circle)\n",
    "\n",
    "# add legends\n",
    "plt.legend(bot3_cit.index, loc = 'upper right')\n",
    "\n",
    "plt.title('Bottom 3 City with least Valuation')\n",
    "plt.show()"
   ]
  },
  {
   "cell_type": "markdown",
   "id": "51965ed8",
   "metadata": {},
   "source": [
    "observation\n",
    "\n",
    "it is observed that Zhuhai  has the lowest value of Valuation in terms of percentage wise of 55.6%, whiles Zephyr Cove and Zurich have 22.2% respectively."
   ]
  },
  {
   "cell_type": "code",
   "execution_count": 79,
   "id": "9a9c2834",
   "metadata": {
    "scrolled": true
   },
   "outputs": [
    {
     "data": {
      "text/html": [
       "<div>\n",
       "<style scoped>\n",
       "    .dataframe tbody tr th:only-of-type {\n",
       "        vertical-align: middle;\n",
       "    }\n",
       "\n",
       "    .dataframe tbody tr th {\n",
       "        vertical-align: top;\n",
       "    }\n",
       "\n",
       "    .dataframe thead th {\n",
       "        text-align: right;\n",
       "    }\n",
       "</style>\n",
       "<table border=\"1\" class=\"dataframe\">\n",
       "  <thead>\n",
       "    <tr style=\"text-align: right;\">\n",
       "      <th></th>\n",
       "      <th>count</th>\n",
       "      <th>mean</th>\n",
       "      <th>std</th>\n",
       "      <th>min</th>\n",
       "      <th>25%</th>\n",
       "      <th>50%</th>\n",
       "      <th>75%</th>\n",
       "      <th>max</th>\n",
       "    </tr>\n",
       "    <tr>\n",
       "      <th>Industry</th>\n",
       "      <th></th>\n",
       "      <th></th>\n",
       "      <th></th>\n",
       "      <th></th>\n",
       "      <th></th>\n",
       "      <th></th>\n",
       "      <th></th>\n",
       "      <th></th>\n",
       "    </tr>\n",
       "  </thead>\n",
       "  <tbody>\n",
       "    <tr>\n",
       "      <th>Artificial Intelligence</th>\n",
       "      <td>11</td>\n",
       "      <td>1</td>\n",
       "      <td>0</td>\n",
       "      <td>1</td>\n",
       "      <td>1</td>\n",
       "      <td>1</td>\n",
       "      <td>2</td>\n",
       "      <td>3</td>\n",
       "    </tr>\n",
       "    <tr>\n",
       "      <th>Artificial intelligence</th>\n",
       "      <td>73</td>\n",
       "      <td>4</td>\n",
       "      <td>20</td>\n",
       "      <td>1</td>\n",
       "      <td>1</td>\n",
       "      <td>2</td>\n",
       "      <td>3</td>\n",
       "      <td>180</td>\n",
       "    </tr>\n",
       "    <tr>\n",
       "      <th>Auto &amp; transportation</th>\n",
       "      <td>31</td>\n",
       "      <td>3</td>\n",
       "      <td>2</td>\n",
       "      <td>1</td>\n",
       "      <td>1</td>\n",
       "      <td>2</td>\n",
       "      <td>4</td>\n",
       "      <td>11</td>\n",
       "    </tr>\n",
       "    <tr>\n",
       "      <th>Consumer &amp; retail</th>\n",
       "      <td>25</td>\n",
       "      <td>4</td>\n",
       "      <td>7</td>\n",
       "      <td>1</td>\n",
       "      <td>1</td>\n",
       "      <td>2</td>\n",
       "      <td>2</td>\n",
       "      <td>38</td>\n",
       "    </tr>\n",
       "    <tr>\n",
       "      <th>Cybersecurity</th>\n",
       "      <td>50</td>\n",
       "      <td>2</td>\n",
       "      <td>2</td>\n",
       "      <td>1</td>\n",
       "      <td>1</td>\n",
       "      <td>2</td>\n",
       "      <td>3</td>\n",
       "      <td>9</td>\n",
       "    </tr>\n",
       "    <tr>\n",
       "      <th>Data management &amp; analytics</th>\n",
       "      <td>41</td>\n",
       "      <td>3</td>\n",
       "      <td>5</td>\n",
       "      <td>1</td>\n",
       "      <td>1</td>\n",
       "      <td>2</td>\n",
       "      <td>3</td>\n",
       "      <td>38</td>\n",
       "    </tr>\n",
       "    <tr>\n",
       "      <th>E-commerce &amp; direct-to-consumer</th>\n",
       "      <td>111</td>\n",
       "      <td>3</td>\n",
       "      <td>9</td>\n",
       "      <td>1</td>\n",
       "      <td>1</td>\n",
       "      <td>2</td>\n",
       "      <td>3</td>\n",
       "      <td>100</td>\n",
       "    </tr>\n",
       "    <tr>\n",
       "      <th>Edtech</th>\n",
       "      <td>28</td>\n",
       "      <td>3</td>\n",
       "      <td>4</td>\n",
       "      <td>1</td>\n",
       "      <td>1</td>\n",
       "      <td>2</td>\n",
       "      <td>3</td>\n",
       "      <td>22</td>\n",
       "    </tr>\n",
       "    <tr>\n",
       "      <th>Fintech</th>\n",
       "      <td>224</td>\n",
       "      <td>3</td>\n",
       "      <td>8</td>\n",
       "      <td>1</td>\n",
       "      <td>1</td>\n",
       "      <td>2</td>\n",
       "      <td>3</td>\n",
       "      <td>95</td>\n",
       "    </tr>\n",
       "    <tr>\n",
       "      <th>Hardware</th>\n",
       "      <td>34</td>\n",
       "      <td>2</td>\n",
       "      <td>2</td>\n",
       "      <td>1</td>\n",
       "      <td>1</td>\n",
       "      <td>2</td>\n",
       "      <td>3</td>\n",
       "      <td>12</td>\n",
       "    </tr>\n",
       "    <tr>\n",
       "      <th>Health</th>\n",
       "      <td>74</td>\n",
       "      <td>2</td>\n",
       "      <td>2</td>\n",
       "      <td>1</td>\n",
       "      <td>1</td>\n",
       "      <td>2</td>\n",
       "      <td>3</td>\n",
       "      <td>13</td>\n",
       "    </tr>\n",
       "    <tr>\n",
       "      <th>Internet software &amp; services</th>\n",
       "      <td>205</td>\n",
       "      <td>2</td>\n",
       "      <td>3</td>\n",
       "      <td>1</td>\n",
       "      <td>1</td>\n",
       "      <td>2</td>\n",
       "      <td>3</td>\n",
       "      <td>40</td>\n",
       "    </tr>\n",
       "    <tr>\n",
       "      <th>Mobile &amp; telecommunications</th>\n",
       "      <td>38</td>\n",
       "      <td>2</td>\n",
       "      <td>1</td>\n",
       "      <td>1</td>\n",
       "      <td>1</td>\n",
       "      <td>1</td>\n",
       "      <td>3</td>\n",
       "      <td>9</td>\n",
       "    </tr>\n",
       "    <tr>\n",
       "      <th>Other</th>\n",
       "      <td>58</td>\n",
       "      <td>4</td>\n",
       "      <td>13</td>\n",
       "      <td>1</td>\n",
       "      <td>1</td>\n",
       "      <td>2</td>\n",
       "      <td>2</td>\n",
       "      <td>100</td>\n",
       "    </tr>\n",
       "    <tr>\n",
       "      <th>Supply chain, logistics, &amp; delivery</th>\n",
       "      <td>57</td>\n",
       "      <td>3</td>\n",
       "      <td>5</td>\n",
       "      <td>1</td>\n",
       "      <td>1</td>\n",
       "      <td>1</td>\n",
       "      <td>3</td>\n",
       "      <td>39</td>\n",
       "    </tr>\n",
       "    <tr>\n",
       "      <th>Travel</th>\n",
       "      <td>14</td>\n",
       "      <td>3</td>\n",
       "      <td>3</td>\n",
       "      <td>1</td>\n",
       "      <td>1</td>\n",
       "      <td>2</td>\n",
       "      <td>4</td>\n",
       "      <td>10</td>\n",
       "    </tr>\n",
       "  </tbody>\n",
       "</table>\n",
       "</div>"
      ],
      "text/plain": [
       "                                     count  mean  std  min  25%  50%  75%  max\n",
       "Industry                                                                      \n",
       "Artificial Intelligence                 11     1    0    1    1    1    2    3\n",
       "Artificial intelligence                 73     4   20    1    1    2    3  180\n",
       "Auto & transportation                   31     3    2    1    1    2    4   11\n",
       "Consumer & retail                       25     4    7    1    1    2    2   38\n",
       "Cybersecurity                           50     2    2    1    1    2    3    9\n",
       "Data management & analytics             41     3    5    1    1    2    3   38\n",
       "E-commerce & direct-to-consumer        111     3    9    1    1    2    3  100\n",
       "Edtech                                  28     3    4    1    1    2    3   22\n",
       "Fintech                                224     3    8    1    1    2    3   95\n",
       "Hardware                                34     2    2    1    1    2    3   12\n",
       "Health                                  74     2    2    1    1    2    3   13\n",
       "Internet software & services           205     2    3    1    1    2    3   40\n",
       "Mobile & telecommunications             38     2    1    1    1    1    3    9\n",
       "Other                                   58     4   13    1    1    2    2  100\n",
       "Supply chain, logistics, & delivery     57     3    5    1    1    1    3   39\n",
       "Travel                                  14     3    3    1    1    2    4   10"
      ]
     },
     "execution_count": 79,
     "metadata": {},
     "output_type": "execute_result"
    }
   ],
   "source": [
    "# Summary statistics per Industry and Valuation\n",
    "Unicorn_data.groupby('Industry')['Valuation ($B)'].describe().astype('int')"
   ]
  },
  {
   "cell_type": "code",
   "execution_count": 80,
   "id": "c0222eaf",
   "metadata": {
    "scrolled": false
   },
   "outputs": [
    {
     "data": {
      "image/png": "[encoded data removed]",
      "text/plain": [
       "<Figure size 5500x3000 with 1 Axes>"
      ]
     },
     "metadata": {},
     "output_type": "display_data"
    }
   ],
   "source": [
    "# view distribution of Valuation by Industry\n",
    "plt.figure(figsize=(55, 30))\n",
    "sns.boxplot(x = Unicorn_data['Industry'], y = Unicorn_data['Valuation ($B)'], data = Unicorn_data)\n",
    "plt.title('distribution of Valuation by Industry')\n",
    "plt.show()"
   ]
  },
  {
   "cell_type": "markdown",
   "id": "e408d596",
   "metadata": {},
   "source": [
    "### observation \n",
    "\n",
    "-we can see that the most valued industry  are  in E-commerce & direct-to-consumer and other  with \n",
    "\n",
    "the median valuation of  $100B, while the least industry  are in Fintech  with the median valuation\n",
    "\n",
    "of $95B compared to other industry."
   ]
  },
  {
   "cell_type": "code",
   "execution_count": 81,
   "id": "b3b462ec",
   "metadata": {},
   "outputs": [
    {
     "data": {
      "text/html": [
       "<div>\n",
       "<style scoped>\n",
       "    .dataframe tbody tr th:only-of-type {\n",
       "        vertical-align: middle;\n",
       "    }\n",
       "\n",
       "    .dataframe tbody tr th {\n",
       "        vertical-align: top;\n",
       "    }\n",
       "\n",
       "    .dataframe thead th {\n",
       "        text-align: right;\n",
       "    }\n",
       "</style>\n",
       "<table border=\"1\" class=\"dataframe\">\n",
       "  <thead>\n",
       "    <tr style=\"text-align: right;\">\n",
       "      <th>Continent</th>\n",
       "      <th>Africa</th>\n",
       "      <th>Asia</th>\n",
       "      <th>Europe</th>\n",
       "      <th>North America</th>\n",
       "      <th>Oceania</th>\n",
       "      <th>South America</th>\n",
       "    </tr>\n",
       "    <tr>\n",
       "      <th>Industry</th>\n",
       "      <th></th>\n",
       "      <th></th>\n",
       "      <th></th>\n",
       "      <th></th>\n",
       "      <th></th>\n",
       "      <th></th>\n",
       "    </tr>\n",
       "  </thead>\n",
       "  <tbody>\n",
       "    <tr>\n",
       "      <th>Artificial Intelligence</th>\n",
       "      <td>NaN</td>\n",
       "      <td>1.0</td>\n",
       "      <td>NaN</td>\n",
       "      <td>1.0</td>\n",
       "      <td>NaN</td>\n",
       "      <td>2.0</td>\n",
       "    </tr>\n",
       "    <tr>\n",
       "      <th>Artificial intelligence</th>\n",
       "      <td>NaN</td>\n",
       "      <td>1.0</td>\n",
       "      <td>1.0</td>\n",
       "      <td>1.0</td>\n",
       "      <td>NaN</td>\n",
       "      <td>1.0</td>\n",
       "    </tr>\n",
       "    <tr>\n",
       "      <th>Auto &amp; transportation</th>\n",
       "      <td>NaN</td>\n",
       "      <td>1.0</td>\n",
       "      <td>1.0</td>\n",
       "      <td>1.0</td>\n",
       "      <td>NaN</td>\n",
       "      <td>NaN</td>\n",
       "    </tr>\n",
       "    <tr>\n",
       "      <th>Consumer &amp; retail</th>\n",
       "      <td>NaN</td>\n",
       "      <td>1.0</td>\n",
       "      <td>1.0</td>\n",
       "      <td>1.0</td>\n",
       "      <td>NaN</td>\n",
       "      <td>NaN</td>\n",
       "    </tr>\n",
       "    <tr>\n",
       "      <th>Cybersecurity</th>\n",
       "      <td>NaN</td>\n",
       "      <td>1.0</td>\n",
       "      <td>3.0</td>\n",
       "      <td>1.0</td>\n",
       "      <td>NaN</td>\n",
       "      <td>NaN</td>\n",
       "    </tr>\n",
       "    <tr>\n",
       "      <th>Data management &amp; analytics</th>\n",
       "      <td>NaN</td>\n",
       "      <td>1.0</td>\n",
       "      <td>1.0</td>\n",
       "      <td>1.0</td>\n",
       "      <td>NaN</td>\n",
       "      <td>NaN</td>\n",
       "    </tr>\n",
       "    <tr>\n",
       "      <th>E-commerce &amp; direct-to-consumer</th>\n",
       "      <td>NaN</td>\n",
       "      <td>1.0</td>\n",
       "      <td>1.0</td>\n",
       "      <td>1.0</td>\n",
       "      <td>1.0</td>\n",
       "      <td>1.0</td>\n",
       "    </tr>\n",
       "    <tr>\n",
       "      <th>Edtech</th>\n",
       "      <td>NaN</td>\n",
       "      <td>1.0</td>\n",
       "      <td>3.0</td>\n",
       "      <td>1.0</td>\n",
       "      <td>NaN</td>\n",
       "      <td>NaN</td>\n",
       "    </tr>\n",
       "    <tr>\n",
       "      <th>Fintech</th>\n",
       "      <td>2.0</td>\n",
       "      <td>1.0</td>\n",
       "      <td>1.0</td>\n",
       "      <td>1.0</td>\n",
       "      <td>3.0</td>\n",
       "      <td>1.0</td>\n",
       "    </tr>\n",
       "    <tr>\n",
       "      <th>Hardware</th>\n",
       "      <td>NaN</td>\n",
       "      <td>1.0</td>\n",
       "      <td>1.0</td>\n",
       "      <td>1.0</td>\n",
       "      <td>NaN</td>\n",
       "      <td>NaN</td>\n",
       "    </tr>\n",
       "    <tr>\n",
       "      <th>Health</th>\n",
       "      <td>NaN</td>\n",
       "      <td>1.0</td>\n",
       "      <td>1.0</td>\n",
       "      <td>1.0</td>\n",
       "      <td>NaN</td>\n",
       "      <td>NaN</td>\n",
       "    </tr>\n",
       "    <tr>\n",
       "      <th>Internet software &amp; services</th>\n",
       "      <td>NaN</td>\n",
       "      <td>1.0</td>\n",
       "      <td>1.0</td>\n",
       "      <td>1.0</td>\n",
       "      <td>1.0</td>\n",
       "      <td>NaN</td>\n",
       "    </tr>\n",
       "    <tr>\n",
       "      <th>Mobile &amp; telecommunications</th>\n",
       "      <td>1.0</td>\n",
       "      <td>1.0</td>\n",
       "      <td>1.0</td>\n",
       "      <td>1.0</td>\n",
       "      <td>NaN</td>\n",
       "      <td>1.0</td>\n",
       "    </tr>\n",
       "    <tr>\n",
       "      <th>Other</th>\n",
       "      <td>NaN</td>\n",
       "      <td>1.0</td>\n",
       "      <td>1.0</td>\n",
       "      <td>1.0</td>\n",
       "      <td>NaN</td>\n",
       "      <td>1.0</td>\n",
       "    </tr>\n",
       "    <tr>\n",
       "      <th>Supply chain, logistics, &amp; delivery</th>\n",
       "      <td>NaN</td>\n",
       "      <td>1.0</td>\n",
       "      <td>1.0</td>\n",
       "      <td>1.0</td>\n",
       "      <td>NaN</td>\n",
       "      <td>1.0</td>\n",
       "    </tr>\n",
       "    <tr>\n",
       "      <th>Travel</th>\n",
       "      <td>NaN</td>\n",
       "      <td>1.0</td>\n",
       "      <td>1.0</td>\n",
       "      <td>5.0</td>\n",
       "      <td>NaN</td>\n",
       "      <td>NaN</td>\n",
       "    </tr>\n",
       "  </tbody>\n",
       "</table>\n",
       "</div>"
      ],
      "text/plain": [
       "Continent                            Africa  Asia  Europe  North America  \\\n",
       "Industry                                                                   \n",
       "Artificial Intelligence                 NaN   1.0     NaN            1.0   \n",
       "Artificial intelligence                 NaN   1.0     1.0            1.0   \n",
       "Auto & transportation                   NaN   1.0     1.0            1.0   \n",
       "Consumer & retail                       NaN   1.0     1.0            1.0   \n",
       "Cybersecurity                           NaN   1.0     3.0            1.0   \n",
       "Data management & analytics             NaN   1.0     1.0            1.0   \n",
       "E-commerce & direct-to-consumer         NaN   1.0     1.0            1.0   \n",
       "Edtech                                  NaN   1.0     3.0            1.0   \n",
       "Fintech                                 2.0   1.0     1.0            1.0   \n",
       "Hardware                                NaN   1.0     1.0            1.0   \n",
       "Health                                  NaN   1.0     1.0            1.0   \n",
       "Internet software & services            NaN   1.0     1.0            1.0   \n",
       "Mobile & telecommunications             1.0   1.0     1.0            1.0   \n",
       "Other                                   NaN   1.0     1.0            1.0   \n",
       "Supply chain, logistics, & delivery     NaN   1.0     1.0            1.0   \n",
       "Travel                                  NaN   1.0     1.0            5.0   \n",
       "\n",
       "Continent                            Oceania  South America  \n",
       "Industry                                                     \n",
       "Artificial Intelligence                  NaN            2.0  \n",
       "Artificial intelligence                  NaN            1.0  \n",
       "Auto & transportation                    NaN            NaN  \n",
       "Consumer & retail                        NaN            NaN  \n",
       "Cybersecurity                            NaN            NaN  \n",
       "Data management & analytics              NaN            NaN  \n",
       "E-commerce & direct-to-consumer          1.0            1.0  \n",
       "Edtech                                   NaN            NaN  \n",
       "Fintech                                  3.0            1.0  \n",
       "Hardware                                 NaN            NaN  \n",
       "Health                                   NaN            NaN  \n",
       "Internet software & services             1.0            NaN  \n",
       "Mobile & telecommunications              NaN            1.0  \n",
       "Other                                    NaN            1.0  \n",
       "Supply chain, logistics, & delivery      NaN            1.0  \n",
       "Travel                                   NaN            NaN  "
      ]
     },
     "execution_count": 81,
     "metadata": {},
     "output_type": "execute_result"
    }
   ],
   "source": [
    "# To know the Industry with the minimum value of  valuation\n",
    "Val_lnd = Unicorn_data.groupby(['Industry', 'Continent'])['Valuation ($B)'].min().astype('int').unstack('Continent')\n",
    "Val_lnd"
   ]
  },
  {
   "cell_type": "code",
   "execution_count": 82,
   "id": "8e69565b",
   "metadata": {},
   "outputs": [
    {
     "data": {
      "image/png": "[encoded data removed]",
      "text/plain": [
       "<Figure size 2000x500 with 1 Axes>"
      ]
     },
     "metadata": {},
     "output_type": "display_data"
    }
   ],
   "source": [
    "# plot a pivot table\n",
    "Val_lnd.plot.bar(figsize = (20, 5))\n",
    "plt.ticklabel_format(style = 'plain', axis = 'y')\n",
    "plt.show()"
   ]
  },
  {
   "cell_type": "markdown",
   "id": "cf0cb529",
   "metadata": {},
   "source": [
    "Observation\n",
    "-Almost all the Industry have minimum value of valuation with the exception of Travel, Fintech,Edtech and Cybersecurity."
   ]
  },
  {
   "cell_type": "markdown",
   "id": "895803b2",
   "metadata": {},
   "source": [
    "## Top 20 most valued startup based country"
   ]
  },
  {
   "cell_type": "code",
   "execution_count": 88,
   "id": "825f837f",
   "metadata": {
    "scrolled": true
   },
   "outputs": [
    {
     "name": "stderr",
     "output_type": "stream",
     "text": [
      "C:\\Users\\BAB AL SAFA\\AppData\\Local\\Temp\\ipykernel_16680\\2332049295.py:2: FutureWarning:\n",
      "\n",
      "The default value of numeric_only in DataFrameGroupBy.sum is deprecated. In a future version, numeric_only will default to False. Either specify numeric_only or select only columns which should be valid for the function.\n",
      "\n"
     ]
    },
    {
     "data": {
      "application/vnd.plotly.v1+json": {
       "config": {
        "plotlyServerURL": "https://plot.ly"
       },
       "data": [
        {
         "alignmentgroup": "True",
         "hovertemplate": "Country=%{x}<br>Valuation ($B)=%{y}<extra></extra>",
         "legendgroup": "",
         "marker": {
          "color": "#636efa",
          "pattern": {
           "shape": ""
          }
         },
         "name": "",
         "offsetgroup": "",
         "orientation": "v",
         "showlegend": false,
         "textposition": "auto",
         "type": "bar",
         "x": [
          "United States",
          "China",
          "India",
          "United Kingdom",
          "Germany",
          "Sweden",
          "Australia",
          "France",
          "Canada",
          "South Korea",
          "Israel",
          "Brazil",
          "Bahamas",
          "Indonesia",
          "Singapore",
          "Netherlands",
          "Hong Kong",
          "Turkey",
          "Mexico",
          "Estonia"
         ],
         "xaxis": "x",
         "y": [
          1933,
          696,
          196,
          195,
          72,
          63,
          56,
          55,
          49,
          41,
          39,
          37,
          32,
          28,
          21,
          19,
          18,
          16,
          16,
          13
         ],
         "yaxis": "y"
        }
       ],
       "layout": {
        "barmode": "relative",
        "legend": {
         "tracegroupgap": 0
        },
        "margin": {
         "t": 60
        },
        "template": {
         "data": {
          "bar": [
           {
            "error_x": {
             "color": "#2a3f5f"
            },
            "error_y": {
             "color": "#2a3f5f"
            },
            "marker": {
             "line": {
              "color": "#E5ECF6",
              "width": 0.5
             },
             "pattern": {
              "fillmode": "overlay",
              "size": 10,
              "solidity": 0.2
             }
            },
            "type": "bar"
           }
          ],
          "barpolar": [
           {
            "marker": {
             "line": {
              "color": "#E5ECF6",
              "width": 0.5
             },
             "pattern": {
              "fillmode": "overlay",
              "size": 10,
              "solidity": 0.2
             }
            },
            "type": "barpolar"
           }
          ],
          "carpet": [
           {
            "aaxis": {
             "endlinecolor": "#2a3f5f",
             "gridcolor": "white",
             "linecolor": "white",
             "minorgridcolor": "white",
             "startlinecolor": "#2a3f5f"
            },
            "baxis": {
             "endlinecolor": "#2a3f5f",
             "gridcolor": "white",
             "linecolor": "white",
             "minorgridcolor": "white",
             "startlinecolor": "#2a3f5f"
            },
            "type": "carpet"
           }
          ],
          "choropleth": [
           {
            "colorbar": {
             "outlinewidth": 0,
             "ticks": ""
            },
            "type": "choropleth"
           }
          ],
          "contour": [
           {
            "colorbar": {
             "outlinewidth": 0,
             "ticks": ""
            },
            "colorscale": [
             [
              0,
              "#0d0887"
             ],
             [
              0.1111111111111111,
              "#46039f"
             ],
             [
              0.2222222222222222,
              "#7201a8"
             ],
             [
              0.3333333333333333,
              "#9c179e"
             ],
             [
              0.4444444444444444,
              "#bd3786"
             ],
             [
              0.5555555555555556,
              "#d8576b"
             ],
             [
              0.6666666666666666,
              "#ed7953"
             ],
             [
              0.7777777777777778,
              "#fb9f3a"
             ],
             [
              0.8888888888888888,
              "#fdca26"
             ],
             [
              1,
              "#f0f921"
             ]
            ],
            "type": "contour"
           }
          ],
          "contourcarpet": [
           {
            "colorbar": {
             "outlinewidth": 0,
             "ticks": ""
            },
            "type": "contourcarpet"
           }
          ],
          "heatmap": [
           {
            "colorbar": {
             "outlinewidth": 0,
             "ticks": ""
            },
            "colorscale": [
             [
              0,
              "#0d0887"
             ],
             [
              0.1111111111111111,
              "#46039f"
             ],
             [
              0.2222222222222222,
              "#7201a8"
             ],
             [
              0.3333333333333333,
              "#9c179e"
             ],
             [
              0.4444444444444444,
              "#bd3786"
             ],
             [
              0.5555555555555556,
              "#d8576b"
             ],
             [
              0.6666666666666666,
              "#ed7953"
             ],
             [
              0.7777777777777778,
              "#fb9f3a"
             ],
             [
              0.8888888888888888,
              "#fdca26"
             ],
             [
              1,
              "#f0f921"
             ]
            ],
            "type": "heatmap"
           }
          ],
          "heatmapgl": [
           {
            "colorbar": {
             "outlinewidth": 0,
             "ticks": ""
            },
            "colorscale": [
             [
              0,
              "#0d0887"
             ],
             [
              0.1111111111111111,
              "#46039f"
             ],
             [
              0.2222222222222222,
              "#7201a8"
             ],
             [
              0.3333333333333333,
              "#9c179e"
             ],
             [
              0.4444444444444444,
              "#bd3786"
             ],
             [
              0.5555555555555556,
              "#d8576b"
             ],
             [
              0.6666666666666666,
              "#ed7953"
             ],
             [
              0.7777777777777778,
              "#fb9f3a"
             ],
             [
              0.8888888888888888,
              "#fdca26"
             ],
             [
              1,
              "#f0f921"
             ]
            ],
            "type": "heatmapgl"
           }
          ],
          "histogram": [
           {
            "marker": {
             "pattern": {
              "fillmode": "overlay",
              "size": 10,
              "solidity": 0.2
             }
            },
            "type": "histogram"
           }
          ],
          "histogram2d": [
           {
            "colorbar": {
             "outlinewidth": 0,
             "ticks": ""
            },
            "colorscale": [
             [
              0,
              "#0d0887"
             ],
             [
              0.1111111111111111,
              "#46039f"
             ],
             [
              0.2222222222222222,
              "#7201a8"
             ],
             [
              0.3333333333333333,
              "#9c179e"
             ],
             [
              0.4444444444444444,
              "#bd3786"
             ],
             [
              0.5555555555555556,
              "#d8576b"
             ],
             [
              0.6666666666666666,
              "#ed7953"
             ],
             [
              0.7777777777777778,
              "#fb9f3a"
             ],
             [
              0.8888888888888888,
              "#fdca26"
             ],
             [
              1,
              "#f0f921"
             ]
            ],
            "type": "histogram2d"
           }
          ],
          "histogram2dcontour": [
           {
            "colorbar": {
             "outlinewidth": 0,
             "ticks": ""
            },
            "colorscale": [
             [
              0,
              "#0d0887"
             ],
             [
              0.1111111111111111,
              "#46039f"
             ],
             [
              0.2222222222222222,
              "#7201a8"
             ],
             [
              0.3333333333333333,
              "#9c179e"
             ],
             [
              0.4444444444444444,
              "#bd3786"
             ],
             [
              0.5555555555555556,
              "#d8576b"
             ],
             [
              0.6666666666666666,
              "#ed7953"
             ],
             [
              0.7777777777777778,
              "#fb9f3a"
             ],
             [
              0.8888888888888888,
              "#fdca26"
             ],
             [
              1,
              "#f0f921"
             ]
            ],
            "type": "histogram2dcontour"
           }
          ],
          "mesh3d": [
           {
            "colorbar": {
             "outlinewidth": 0,
             "ticks": ""
            },
            "type": "mesh3d"
           }
          ],
          "parcoords": [
           {
            "line": {
             "colorbar": {
              "outlinewidth": 0,
              "ticks": ""
             }
            },
            "type": "parcoords"
           }
          ],
          "pie": [
           {
            "automargin": true,
            "type": "pie"
           }
          ],
          "scatter": [
           {
            "fillpattern": {
             "fillmode": "overlay",
             "size": 10,
             "solidity": 0.2
            },
            "type": "scatter"
           }
          ],
          "scatter3d": [
           {
            "line": {
             "colorbar": {
              "outlinewidth": 0,
              "ticks": ""
             }
            },
            "marker": {
             "colorbar": {
              "outlinewidth": 0,
              "ticks": ""
             }
            },
            "type": "scatter3d"
           }
          ],
          "scattercarpet": [
           {
            "marker": {
             "colorbar": {
              "outlinewidth": 0,
              "ticks": ""
             }
            },
            "type": "scattercarpet"
           }
          ],
          "scattergeo": [
           {
            "marker": {
             "colorbar": {
              "outlinewidth": 0,
              "ticks": ""
             }
            },
            "type": "scattergeo"
           }
          ],
          "scattergl": [
           {
            "marker": {
             "colorbar": {
              "outlinewidth": 0,
              "ticks": ""
             }
            },
            "type": "scattergl"
           }
          ],
          "scattermapbox": [
           {
            "marker": {
             "colorbar": {
              "outlinewidth": 0,
              "ticks": ""
             }
            },
            "type": "scattermapbox"
           }
          ],
          "scatterpolar": [
           {
            "marker": {
             "colorbar": {
              "outlinewidth": 0,
              "ticks": ""
             }
            },
            "type": "scatterpolar"
           }
          ],
          "scatterpolargl": [
           {
            "marker": {
             "colorbar": {
              "outlinewidth": 0,
              "ticks": ""
             }
            },
            "type": "scatterpolargl"
           }
          ],
          "scatterternary": [
           {
            "marker": {
             "colorbar": {
              "outlinewidth": 0,
              "ticks": ""
             }
            },
            "type": "scatterternary"
           }
          ],
          "surface": [
           {
            "colorbar": {
             "outlinewidth": 0,
             "ticks": ""
            },
            "colorscale": [
             [
              0,
              "#0d0887"
             ],
             [
              0.1111111111111111,
              "#46039f"
             ],
             [
              0.2222222222222222,
              "#7201a8"
             ],
             [
              0.3333333333333333,
              "#9c179e"
             ],
             [
              0.4444444444444444,
              "#bd3786"
             ],
             [
              0.5555555555555556,
              "#d8576b"
             ],
             [
              0.6666666666666666,
              "#ed7953"
             ],
             [
              0.7777777777777778,
              "#fb9f3a"
             ],
             [
              0.8888888888888888,
              "#fdca26"
             ],
             [
              1,
              "#f0f921"
             ]
            ],
            "type": "surface"
           }
          ],
          "table": [
           {
            "cells": {
             "fill": {
              "color": "#EBF0F8"
             },
             "line": {
              "color": "white"
             }
            },
            "header": {
             "fill": {
              "color": "#C8D4E3"
             },
             "line": {
              "color": "white"
             }
            },
            "type": "table"
           }
          ]
         },
         "layout": {
          "annotationdefaults": {
           "arrowcolor": "#2a3f5f",
           "arrowhead": 0,
           "arrowwidth": 1
          },
          "autotypenumbers": "strict",
          "coloraxis": {
           "colorbar": {
            "outlinewidth": 0,
            "ticks": ""
           }
          },
          "colorscale": {
           "diverging": [
            [
             0,
             "#8e0152"
            ],
            [
             0.1,
             "#c51b7d"
            ],
            [
             0.2,
             "#de77ae"
            ],
            [
             0.3,
             "#f1b6da"
            ],
            [
             0.4,
             "#fde0ef"
            ],
            [
             0.5,
             "#f7f7f7"
            ],
            [
             0.6,
             "#e6f5d0"
            ],
            [
             0.7,
             "#b8e186"
            ],
            [
             0.8,
             "#7fbc41"
            ],
            [
             0.9,
             "#4d9221"
            ],
            [
             1,
             "#276419"
            ]
           ],
           "sequential": [
            [
             0,
             "#0d0887"
            ],
            [
             0.1111111111111111,
             "#46039f"
            ],
            [
             0.2222222222222222,
             "#7201a8"
            ],
            [
             0.3333333333333333,
             "#9c179e"
            ],
            [
             0.4444444444444444,
             "#bd3786"
            ],
            [
             0.5555555555555556,
             "#d8576b"
            ],
            [
             0.6666666666666666,
             "#ed7953"
            ],
            [
             0.7777777777777778,
             "#fb9f3a"
            ],
            [
             0.8888888888888888,
             "#fdca26"
            ],
            [
             1,
             "#f0f921"
            ]
           ],
           "sequentialminus": [
            [
             0,
             "#0d0887"
            ],
            [
             0.1111111111111111,
             "#46039f"
            ],
            [
             0.2222222222222222,
             "#7201a8"
            ],
            [
             0.3333333333333333,
             "#9c179e"
            ],
            [
             0.4444444444444444,
             "#bd3786"
            ],
            [
             0.5555555555555556,
             "#d8576b"
            ],
            [
             0.6666666666666666,
             "#ed7953"
            ],
            [
             0.7777777777777778,
             "#fb9f3a"
            ],
            [
             0.8888888888888888,
             "#fdca26"
            ],
            [
             1,
             "#f0f921"
            ]
           ]
          },
          "colorway": [
           "#636efa",
           "#EF553B",
           "#00cc96",
           "#ab63fa",
           "#FFA15A",
           "#19d3f3",
           "#FF6692",
           "#B6E880",
           "#FF97FF",
           "#FECB52"
          ],
          "font": {
           "color": "#2a3f5f"
          },
          "geo": {
           "bgcolor": "white",
           "lakecolor": "white",
           "landcolor": "#E5ECF6",
           "showlakes": true,
           "showland": true,
           "subunitcolor": "white"
          },
          "hoverlabel": {
           "align": "left"
          },
          "hovermode": "closest",
          "mapbox": {
           "style": "light"
          },
          "paper_bgcolor": "white",
          "plot_bgcolor": "#E5ECF6",
          "polar": {
           "angularaxis": {
            "gridcolor": "white",
            "linecolor": "white",
            "ticks": ""
           },
           "bgcolor": "#E5ECF6",
           "radialaxis": {
            "gridcolor": "white",
            "linecolor": "white",
            "ticks": ""
           }
          },
          "scene": {
           "xaxis": {
            "backgroundcolor": "#E5ECF6",
            "gridcolor": "white",
            "gridwidth": 2,
            "linecolor": "white",
            "showbackground": true,
            "ticks": "",
            "zerolinecolor": "white"
           },
           "yaxis": {
            "backgroundcolor": "#E5ECF6",
            "gridcolor": "white",
            "gridwidth": 2,
            "linecolor": "white",
            "showbackground": true,
            "ticks": "",
            "zerolinecolor": "white"
           },
           "zaxis": {
            "backgroundcolor": "#E5ECF6",
            "gridcolor": "white",
            "gridwidth": 2,
            "linecolor": "white",
            "showbackground": true,
            "ticks": "",
            "zerolinecolor": "white"
           }
          },
          "shapedefaults": {
           "line": {
            "color": "#2a3f5f"
           }
          },
          "ternary": {
           "aaxis": {
            "gridcolor": "white",
            "linecolor": "white",
            "ticks": ""
           },
           "baxis": {
            "gridcolor": "white",
            "linecolor": "white",
            "ticks": ""
           },
           "bgcolor": "#E5ECF6",
           "caxis": {
            "gridcolor": "white",
            "linecolor": "white",
            "ticks": ""
           }
          },
          "title": {
           "x": 0.05
          },
          "xaxis": {
           "automargin": true,
           "gridcolor": "white",
           "linecolor": "white",
           "ticks": "",
           "title": {
            "standoff": 15
           },
           "zerolinecolor": "white",
           "zerolinewidth": 2
          },
          "yaxis": {
           "automargin": true,
           "gridcolor": "white",
           "linecolor": "white",
           "ticks": "",
           "title": {
            "standoff": 15
           },
           "zerolinecolor": "white",
           "zerolinewidth": 2
          }
         }
        },
        "xaxis": {
         "anchor": "y",
         "domain": [
          0,
          1
         ],
         "tickangle": 45,
         "title": {
          "text": "Country"
         }
        },
        "yaxis": {
         "anchor": "x",
         "domain": [
          0,
          1
         ],
         "title": {
          "text": "Valuation ($B)"
         }
        }
       }
      },
      "text/html": [
       "<div>                            <div id=\"60a61fde-3bdc-4c70-8743-e26a307b42de\" class=\"plotly-graph-div\" style=\"height:525px; width:100%;\"></div>            <script type=\"text/javascript\">                require([\"plotly\"], function(Plotly) {                    window.PLOTLYENV=window.PLOTLYENV || {};                                    if (document.getElementById(\"60a61fde-3bdc-4c70-8743-e26a307b42de\")) {                    Plotly.newPlot(                        \"60a61fde-3bdc-4c70-8743-e26a307b42de\",                        [{\"alignmentgroup\":\"True\",\"hovertemplate\":\"Country=%{x}<br>Valuation ($B)=%{y}<extra></extra>\",\"legendgroup\":\"\",\"marker\":{\"color\":\"#636efa\",\"pattern\":{\"shape\":\"\"}},\"name\":\"\",\"offsetgroup\":\"\",\"orientation\":\"v\",\"showlegend\":false,\"textposition\":\"auto\",\"x\":[\"United States\",\"China\",\"India\",\"United Kingdom\",\"Germany\",\"Sweden\",\"Australia\",\"France\",\"Canada\",\"South Korea\",\"Israel\",\"Brazil\",\"Bahamas\",\"Indonesia\",\"Singapore\",\"Netherlands\",\"Hong Kong\",\"Turkey\",\"Mexico\",\"Estonia\"],\"xaxis\":\"x\",\"y\":[1933.0,696.0,196.0,195.0,72.0,63.0,56.0,55.0,49.0,41.0,39.0,37.0,32.0,28.0,21.0,19.0,18.0,16.0,16.0,13.0],\"yaxis\":\"y\",\"type\":\"bar\"}],                        {\"template\":{\"data\":{\"histogram2dcontour\":[{\"type\":\"histogram2dcontour\",\"colorbar\":{\"outlinewidth\":0,\"ticks\":\"\"},\"colorscale\":[[0.0,\"#0d0887\"],[0.1111111111111111,\"#46039f\"],[0.2222222222222222,\"#7201a8\"],[0.3333333333333333,\"#9c179e\"],[0.4444444444444444,\"#bd3786\"],[0.5555555555555556,\"#d8576b\"],[0.6666666666666666,\"#ed7953\"],[0.7777777777777778,\"#fb9f3a\"],[0.8888888888888888,\"#fdca26\"],[1.0,\"#f0f921\"]]}],\"choropleth\":[{\"type\":\"choropleth\",\"colorbar\":{\"outlinewidth\":0,\"ticks\":\"\"}}],\"histogram2d\":[{\"type\":\"histogram2d\",\"colorbar\":{\"outlinewidth\":0,\"ticks\":\"\"},\"colorscale\":[[0.0,\"#0d0887\"],[0.1111111111111111,\"#46039f\"],[0.2222222222222222,\"#7201a8\"],[0.3333333333333333,\"#9c179e\"],[0.4444444444444444,\"#bd3786\"],[0.5555555555555556,\"#d8576b\"],[0.6666666666666666,\"#ed7953\"],[0.7777777777777778,\"#fb9f3a\"],[0.8888888888888888,\"#fdca26\"],[1.0,\"#f0f921\"]]}],\"heatmap\":[{\"type\":\"heatmap\",\"colorbar\":{\"outlinewidth\":0,\"ticks\":\"\"},\"colorscale\":[[0.0,\"#0d0887\"],[0.1111111111111111,\"#46039f\"],[0.2222222222222222,\"#7201a8\"],[0.3333333333333333,\"#9c179e\"],[0.4444444444444444,\"#bd3786\"],[0.5555555555555556,\"#d8576b\"],[0.6666666666666666,\"#ed7953\"],[0.7777777777777778,\"#fb9f3a\"],[0.8888888888888888,\"#fdca26\"],[1.0,\"#f0f921\"]]}],\"heatmapgl\":[{\"type\":\"heatmapgl\",\"colorbar\":{\"outlinewidth\":0,\"ticks\":\"\"},\"colorscale\":[[0.0,\"#0d0887\"],[0.1111111111111111,\"#46039f\"],[0.2222222222222222,\"#7201a8\"],[0.3333333333333333,\"#9c179e\"],[0.4444444444444444,\"#bd3786\"],[0.5555555555555556,\"#d8576b\"],[0.6666666666666666,\"#ed7953\"],[0.7777777777777778,\"#fb9f3a\"],[0.8888888888888888,\"#fdca26\"],[1.0,\"#f0f921\"]]}],\"contourcarpet\":[{\"type\":\"contourcarpet\",\"colorbar\":{\"outlinewidth\":0,\"ticks\":\"\"}}],\"contour\":[{\"type\":\"contour\",\"colorbar\":{\"outlinewidth\":0,\"ticks\":\"\"},\"colorscale\":[[0.0,\"#0d0887\"],[0.1111111111111111,\"#46039f\"],[0.2222222222222222,\"#7201a8\"],[0.3333333333333333,\"#9c179e\"],[0.4444444444444444,\"#bd3786\"],[0.5555555555555556,\"#d8576b\"],[0.6666666666666666,\"#ed7953\"],[0.7777777777777778,\"#fb9f3a\"],[0.8888888888888888,\"#fdca26\"],[1.0,\"#f0f921\"]]}],\"surface\":[{\"type\":\"surface\",\"colorbar\":{\"outlinewidth\":0,\"ticks\":\"\"},\"colorscale\":[[0.0,\"#0d0887\"],[0.1111111111111111,\"#46039f\"],[0.2222222222222222,\"#7201a8\"],[0.3333333333333333,\"#9c179e\"],[0.4444444444444444,\"#bd3786\"],[0.5555555555555556,\"#d8576b\"],[0.6666666666666666,\"#ed7953\"],[0.7777777777777778,\"#fb9f3a\"],[0.8888888888888888,\"#fdca26\"],[1.0,\"#f0f921\"]]}],\"mesh3d\":[{\"type\":\"mesh3d\",\"colorbar\":{\"outlinewidth\":0,\"ticks\":\"\"}}],\"scatter\":[{\"fillpattern\":{\"fillmode\":\"overlay\",\"size\":10,\"solidity\":0.2},\"type\":\"scatter\"}],\"parcoords\":[{\"type\":\"parcoords\",\"line\":{\"colorbar\":{\"outlinewidth\":0,\"ticks\":\"\"}}}],\"scatterpolargl\":[{\"type\":\"scatterpolargl\",\"marker\":{\"colorbar\":{\"outlinewidth\":0,\"ticks\":\"\"}}}],\"bar\":[{\"error_x\":{\"color\":\"#2a3f5f\"},\"error_y\":{\"color\":\"#2a3f5f\"},\"marker\":{\"line\":{\"color\":\"#E5ECF6\",\"width\":0.5},\"pattern\":{\"fillmode\":\"overlay\",\"size\":10,\"solidity\":0.2}},\"type\":\"bar\"}],\"scattergeo\":[{\"type\":\"scattergeo\",\"marker\":{\"colorbar\":{\"outlinewidth\":0,\"ticks\":\"\"}}}],\"scatterpolar\":[{\"type\":\"scatterpolar\",\"marker\":{\"colorbar\":{\"outlinewidth\":0,\"ticks\":\"\"}}}],\"histogram\":[{\"marker\":{\"pattern\":{\"fillmode\":\"overlay\",\"size\":10,\"solidity\":0.2}},\"type\":\"histogram\"}],\"scattergl\":[{\"type\":\"scattergl\",\"marker\":{\"colorbar\":{\"outlinewidth\":0,\"ticks\":\"\"}}}],\"scatter3d\":[{\"type\":\"scatter3d\",\"line\":{\"colorbar\":{\"outlinewidth\":0,\"ticks\":\"\"}},\"marker\":{\"colorbar\":{\"outlinewidth\":0,\"ticks\":\"\"}}}],\"scattermapbox\":[{\"type\":\"scattermapbox\",\"marker\":{\"colorbar\":{\"outlinewidth\":0,\"ticks\":\"\"}}}],\"scatterternary\":[{\"type\":\"scatterternary\",\"marker\":{\"colorbar\":{\"outlinewidth\":0,\"ticks\":\"\"}}}],\"scattercarpet\":[{\"type\":\"scattercarpet\",\"marker\":{\"colorbar\":{\"outlinewidth\":0,\"ticks\":\"\"}}}],\"carpet\":[{\"aaxis\":{\"endlinecolor\":\"#2a3f5f\",\"gridcolor\":\"white\",\"linecolor\":\"white\",\"minorgridcolor\":\"white\",\"startlinecolor\":\"#2a3f5f\"},\"baxis\":{\"endlinecolor\":\"#2a3f5f\",\"gridcolor\":\"white\",\"linecolor\":\"white\",\"minorgridcolor\":\"white\",\"startlinecolor\":\"#2a3f5f\"},\"type\":\"carpet\"}],\"table\":[{\"cells\":{\"fill\":{\"color\":\"#EBF0F8\"},\"line\":{\"color\":\"white\"}},\"header\":{\"fill\":{\"color\":\"#C8D4E3\"},\"line\":{\"color\":\"white\"}},\"type\":\"table\"}],\"barpolar\":[{\"marker\":{\"line\":{\"color\":\"#E5ECF6\",\"width\":0.5},\"pattern\":{\"fillmode\":\"overlay\",\"size\":10,\"solidity\":0.2}},\"type\":\"barpolar\"}],\"pie\":[{\"automargin\":true,\"type\":\"pie\"}]},\"layout\":{\"autotypenumbers\":\"strict\",\"colorway\":[\"#636efa\",\"#EF553B\",\"#00cc96\",\"#ab63fa\",\"#FFA15A\",\"#19d3f3\",\"#FF6692\",\"#B6E880\",\"#FF97FF\",\"#FECB52\"],\"font\":{\"color\":\"#2a3f5f\"},\"hovermode\":\"closest\",\"hoverlabel\":{\"align\":\"left\"},\"paper_bgcolor\":\"white\",\"plot_bgcolor\":\"#E5ECF6\",\"polar\":{\"bgcolor\":\"#E5ECF6\",\"angularaxis\":{\"gridcolor\":\"white\",\"linecolor\":\"white\",\"ticks\":\"\"},\"radialaxis\":{\"gridcolor\":\"white\",\"linecolor\":\"white\",\"ticks\":\"\"}},\"ternary\":{\"bgcolor\":\"#E5ECF6\",\"aaxis\":{\"gridcolor\":\"white\",\"linecolor\":\"white\",\"ticks\":\"\"},\"baxis\":{\"gridcolor\":\"white\",\"linecolor\":\"white\",\"ticks\":\"\"},\"caxis\":{\"gridcolor\":\"white\",\"linecolor\":\"white\",\"ticks\":\"\"}},\"coloraxis\":{\"colorbar\":{\"outlinewidth\":0,\"ticks\":\"\"}},\"colorscale\":{\"sequential\":[[0.0,\"#0d0887\"],[0.1111111111111111,\"#46039f\"],[0.2222222222222222,\"#7201a8\"],[0.3333333333333333,\"#9c179e\"],[0.4444444444444444,\"#bd3786\"],[0.5555555555555556,\"#d8576b\"],[0.6666666666666666,\"#ed7953\"],[0.7777777777777778,\"#fb9f3a\"],[0.8888888888888888,\"#fdca26\"],[1.0,\"#f0f921\"]],\"sequentialminus\":[[0.0,\"#0d0887\"],[0.1111111111111111,\"#46039f\"],[0.2222222222222222,\"#7201a8\"],[0.3333333333333333,\"#9c179e\"],[0.4444444444444444,\"#bd3786\"],[0.5555555555555556,\"#d8576b\"],[0.6666666666666666,\"#ed7953\"],[0.7777777777777778,\"#fb9f3a\"],[0.8888888888888888,\"#fdca26\"],[1.0,\"#f0f921\"]],\"diverging\":[[0,\"#8e0152\"],[0.1,\"#c51b7d\"],[0.2,\"#de77ae\"],[0.3,\"#f1b6da\"],[0.4,\"#fde0ef\"],[0.5,\"#f7f7f7\"],[0.6,\"#e6f5d0\"],[0.7,\"#b8e186\"],[0.8,\"#7fbc41\"],[0.9,\"#4d9221\"],[1,\"#276419\"]]},\"xaxis\":{\"gridcolor\":\"white\",\"linecolor\":\"white\",\"ticks\":\"\",\"title\":{\"standoff\":15},\"zerolinecolor\":\"white\",\"automargin\":true,\"zerolinewidth\":2},\"yaxis\":{\"gridcolor\":\"white\",\"linecolor\":\"white\",\"ticks\":\"\",\"title\":{\"standoff\":15},\"zerolinecolor\":\"white\",\"automargin\":true,\"zerolinewidth\":2},\"scene\":{\"xaxis\":{\"backgroundcolor\":\"#E5ECF6\",\"gridcolor\":\"white\",\"linecolor\":\"white\",\"showbackground\":true,\"ticks\":\"\",\"zerolinecolor\":\"white\",\"gridwidth\":2},\"yaxis\":{\"backgroundcolor\":\"#E5ECF6\",\"gridcolor\":\"white\",\"linecolor\":\"white\",\"showbackground\":true,\"ticks\":\"\",\"zerolinecolor\":\"white\",\"gridwidth\":2},\"zaxis\":{\"backgroundcolor\":\"#E5ECF6\",\"gridcolor\":\"white\",\"linecolor\":\"white\",\"showbackground\":true,\"ticks\":\"\",\"zerolinecolor\":\"white\",\"gridwidth\":2}},\"shapedefaults\":{\"line\":{\"color\":\"#2a3f5f\"}},\"annotationdefaults\":{\"arrowcolor\":\"#2a3f5f\",\"arrowhead\":0,\"arrowwidth\":1},\"geo\":{\"bgcolor\":\"white\",\"landcolor\":\"#E5ECF6\",\"subunitcolor\":\"white\",\"showland\":true,\"showlakes\":true,\"lakecolor\":\"white\"},\"title\":{\"x\":0.05},\"mapbox\":{\"style\":\"light\"}}},\"xaxis\":{\"anchor\":\"y\",\"domain\":[0.0,1.0],\"title\":{\"text\":\"Country\"},\"tickangle\":45},\"yaxis\":{\"anchor\":\"x\",\"domain\":[0.0,1.0],\"title\":{\"text\":\"Valuation ($B)\"}},\"legend\":{\"tracegroupgap\":0},\"margin\":{\"t\":60},\"barmode\":\"relative\"},                        {\"responsive\": true}                    ).then(function(){\n",
       "                            \n",
       "var gd = document.getElementById('60a61fde-3bdc-4c70-8743-e26a307b42de');\n",
       "var x = new MutationObserver(function (mutations, observer) {{\n",
       "        var display = window.getComputedStyle(gd).display;\n",
       "        if (!display || display === 'none') {{\n",
       "            console.log([gd, 'removed!']);\n",
       "            Plotly.purge(gd);\n",
       "            observer.disconnect();\n",
       "        }}\n",
       "}});\n",
       "\n",
       "// Listen for the removal of the full notebook cells\n",
       "var notebookContainer = gd.closest('#notebook-container');\n",
       "if (notebookContainer) {{\n",
       "    x.observe(notebookContainer, {childList: true});\n",
       "}}\n",
       "\n",
       "// Listen for the clearing of the current output cell\n",
       "var outputEl = gd.closest('.output');\n",
       "if (outputEl) {{\n",
       "    x.observe(outputEl, {childList: true});\n",
       "}}\n",
       "\n",
       "                        })                };                });            </script>        </div>"
      ]
     },
     "metadata": {},
     "output_type": "display_data"
    }
   ],
   "source": [
    "## Visualization of Most valued startup unicorns\n",
    "top20_Val = Unicorn_data.groupby('Company').sum().sort_values('Valuation ($B)', ascending=False).head(20)\n",
    "top20_Val = top20_Val.reset_index()\n",
    "px.bar(x='Company', y =\"Valuation ($B)\", data_frame=top20_Val)\n",
    "#set x-axis tick labels and rotation\n",
    "fig.update_layout(xaxis={'tickangle':45})\n",
    "\n"
   ]
  },
  {
   "cell_type": "markdown",
   "id": "6b57fbe4",
   "metadata": {},
   "source": [
    "## Observation\n",
    "It is observed that United States has a total valuation of more than $1800B of unicorn \n",
    "\n",
    "startups,whiles  China has a total valuation of more than $700B of unicorn startups compared to \n",
    "\n",
    "others countries."
   ]
  },
  {
   "cell_type": "markdown",
   "id": "1c9d8f8f",
   "metadata": {},
   "source": [
    "## Recommendation\n",
    "\n",
    "\n",
    " -Bytedance, SpaceX, SHEIN and Stripe stands out as the companies, among unicorns delivering impressive returns on investment.\n",
    "    \n",
    " -Typically it takes seven years for a company to achieve a valuation of $1 billion and earn the unicorn status.\n",
    "\n",
    " -The United States has a number of unicorns with 562 in total and San Francisco takes the lead with 152 unicorn companies headquartered there.\n",
    "    \n",
    " -Accel and Tiger Global Management are recognized as investors in the field of unicorns contributing significantly to their success.\n",
    "\n",
    " -Unicorns in the United States and China have outperformed other regions experiencing a remarkable 72% increase, in overall valuations.\n",
    "    \n",
    "\n",
    " -Unicorns operating in the fields of AI, e commerce, fintech and edtech exhibit higher valuations compared to the average unicorn with an average valuation of $3.5 billion.\n",
    " \n",
    "\n",
    " -Africa has the lowest total valuation of $5B among all continents, while North America has the highest valuation of $2,032B, surpassing South America and other continents. Investors could benefit from focusing their attention on Africa to capitalize on its potential. Research indicates that the African continent is the largest supplier of natural resources to the world. Therefore, it would be rational to set up startups in this area to take advantage of these opportunities."
   ]
  },
  {
   "cell_type": "code",
   "execution_count": null,
   "id": "f742d47e",
   "metadata": {},
   "outputs": [],
   "source": []
  }
 ],
 "metadata": {
  "kernelspec": {
   "display_name": "Python 3 (ipykernel)",
   "language": "python",
   "name": "python3"
  },
  "language_info": {
   "codemirror_mode": {
    "name": "ipython",
    "version": 3
   },
   "file_extension": ".py",
   "mimetype": "text/x-python",
   "name": "python",
   "nbconvert_exporter": "python",
   "pygments_lexer": "ipython3",
   "version": "3.10.9"
  }
 },
 "nbformat": 4,
 "nbformat_minor": 5
}
